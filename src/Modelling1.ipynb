{
 "cells": [
  {
   "cell_type": "code",
   "execution_count": 1,
   "metadata": {},
   "outputs": [],
   "source": [
    "import pandas as pd"
   ]
  },
  {
   "cell_type": "code",
   "execution_count": 2,
   "metadata": {},
   "outputs": [],
   "source": [
    "ds = pd.read_csv(\"IndianFoodDatasetCSV.csv\")"
   ]
  },
  {
   "cell_type": "code",
   "execution_count": 3,
   "metadata": {},
   "outputs": [],
   "source": [
    "ds = pd.DataFrame(ds)"
   ]
  },
  {
   "cell_type": "code",
   "execution_count": 4,
   "metadata": {},
   "outputs": [],
   "source": [
    "df = pd.DataFrame(ds)"
   ]
  },
  {
   "cell_type": "code",
   "execution_count": 5,
   "metadata": {},
   "outputs": [
    {
     "data": {
      "text/html": [
       "<div>\n",
       "<style scoped>\n",
       "    .dataframe tbody tr th:only-of-type {\n",
       "        vertical-align: middle;\n",
       "    }\n",
       "\n",
       "    .dataframe tbody tr th {\n",
       "        vertical-align: top;\n",
       "    }\n",
       "\n",
       "    .dataframe thead th {\n",
       "        text-align: right;\n",
       "    }\n",
       "</style>\n",
       "<table border=\"1\" class=\"dataframe\">\n",
       "  <thead>\n",
       "    <tr style=\"text-align: right;\">\n",
       "      <th></th>\n",
       "      <th>Srno</th>\n",
       "      <th>RecipeName</th>\n",
       "      <th>TranslatedRecipeName</th>\n",
       "      <th>Ingredients</th>\n",
       "      <th>TranslatedIngredients</th>\n",
       "      <th>PrepTimeInMins</th>\n",
       "      <th>CookTimeInMins</th>\n",
       "      <th>TotalTimeInMins</th>\n",
       "      <th>Servings</th>\n",
       "      <th>Cuisine</th>\n",
       "      <th>Course</th>\n",
       "      <th>Diet</th>\n",
       "      <th>Instructions</th>\n",
       "      <th>TranslatedInstructions</th>\n",
       "      <th>URL</th>\n",
       "    </tr>\n",
       "  </thead>\n",
       "  <tbody>\n",
       "    <tr>\n",
       "      <th>0</th>\n",
       "      <td>1</td>\n",
       "      <td>Masala Karela Recipe</td>\n",
       "      <td>Masala Karela Recipe</td>\n",
       "      <td>6 Karela (Bitter Gourd/ Pavakkai) - deseeded,S...</td>\n",
       "      <td>6 Karela (Bitter Gourd/ Pavakkai) - deseeded,S...</td>\n",
       "      <td>15</td>\n",
       "      <td>30</td>\n",
       "      <td>45</td>\n",
       "      <td>6</td>\n",
       "      <td>Indian</td>\n",
       "      <td>Side Dish</td>\n",
       "      <td>Diabetic Friendly</td>\n",
       "      <td>To begin making the Masala Karela Recipe,de-se...</td>\n",
       "      <td>To begin making the Masala Karela Recipe,de-se...</td>\n",
       "      <td>https://www.archanaskitchen.com/masala-karela-...</td>\n",
       "    </tr>\n",
       "    <tr>\n",
       "      <th>1</th>\n",
       "      <td>2</td>\n",
       "      <td>टमाटर पुलियोगरे रेसिपी - Spicy Tomato Rice (Re...</td>\n",
       "      <td>Spicy Tomato Rice (Recipe)</td>\n",
       "      <td>2-1/2 कप चावल - पका ले,3 टमाटर,3 छोटा चमच्च बी...</td>\n",
       "      <td>2-1 / 2 cups rice - cooked, 3 tomatoes, 3 teas...</td>\n",
       "      <td>5</td>\n",
       "      <td>10</td>\n",
       "      <td>15</td>\n",
       "      <td>3</td>\n",
       "      <td>South Indian Recipes</td>\n",
       "      <td>Main Course</td>\n",
       "      <td>Vegetarian</td>\n",
       "      <td>टमाटर पुलियोगरे बनाने के लिए सबसे पहले टमाटर क...</td>\n",
       "      <td>To make tomato puliogere, first cut the tomato...</td>\n",
       "      <td>http://www.archanaskitchen.com/spicy-tomato-ri...</td>\n",
       "    </tr>\n",
       "    <tr>\n",
       "      <th>2</th>\n",
       "      <td>3</td>\n",
       "      <td>Ragi Semiya Upma Recipe - Ragi Millet Vermicel...</td>\n",
       "      <td>Ragi Semiya Upma Recipe - Ragi Millet Vermicel...</td>\n",
       "      <td>1-1/2 cups Rice Vermicelli Noodles (Thin),1 On...</td>\n",
       "      <td>1-1/2 cups Rice Vermicelli Noodles (Thin),1 On...</td>\n",
       "      <td>20</td>\n",
       "      <td>30</td>\n",
       "      <td>50</td>\n",
       "      <td>4</td>\n",
       "      <td>South Indian Recipes</td>\n",
       "      <td>South Indian Breakfast</td>\n",
       "      <td>High Protein Vegetarian</td>\n",
       "      <td>To begin making the Ragi Vermicelli Recipe, fi...</td>\n",
       "      <td>To begin making the Ragi Vermicelli Recipe, fi...</td>\n",
       "      <td>http://www.archanaskitchen.com/ragi-vermicelli...</td>\n",
       "    </tr>\n",
       "    <tr>\n",
       "      <th>3</th>\n",
       "      <td>4</td>\n",
       "      <td>Gongura Chicken Curry Recipe - Andhra Style Go...</td>\n",
       "      <td>Gongura Chicken Curry Recipe - Andhra Style Go...</td>\n",
       "      <td>500 grams Chicken,2 Onion - chopped,1 Tomato -...</td>\n",
       "      <td>500 grams Chicken,2 Onion - chopped,1 Tomato -...</td>\n",
       "      <td>15</td>\n",
       "      <td>30</td>\n",
       "      <td>45</td>\n",
       "      <td>4</td>\n",
       "      <td>Andhra</td>\n",
       "      <td>Lunch</td>\n",
       "      <td>Non Vegeterian</td>\n",
       "      <td>To begin making Gongura Chicken Curry Recipe f...</td>\n",
       "      <td>To begin making Gongura Chicken Curry Recipe f...</td>\n",
       "      <td>http://www.archanaskitchen.com/gongura-chicken...</td>\n",
       "    </tr>\n",
       "    <tr>\n",
       "      <th>4</th>\n",
       "      <td>5</td>\n",
       "      <td>आंध्रा स्टाइल आलम पचड़ी रेसिपी - Adrak Chutney ...</td>\n",
       "      <td>Andhra Style Alam Pachadi Recipe - Adrak Chutn...</td>\n",
       "      <td>1 बड़ा चमच्च चना दाल,1 बड़ा चमच्च सफ़ेद उरद दाल,2...</td>\n",
       "      <td>1 tablespoon chana dal, 1 tablespoon white ura...</td>\n",
       "      <td>10</td>\n",
       "      <td>20</td>\n",
       "      <td>30</td>\n",
       "      <td>4</td>\n",
       "      <td>Andhra</td>\n",
       "      <td>South Indian Breakfast</td>\n",
       "      <td>Vegetarian</td>\n",
       "      <td>आंध्रा स्टाइल आलम पचड़ी बनाने के लिए सबसे पहले ...</td>\n",
       "      <td>To make Andhra Style Alam Pachadi, first heat ...</td>\n",
       "      <td>https://www.archanaskitchen.com/andhra-style-a...</td>\n",
       "    </tr>\n",
       "  </tbody>\n",
       "</table>\n",
       "</div>"
      ],
      "text/plain": [
       "   Srno                                         RecipeName  \\\n",
       "0     1                               Masala Karela Recipe   \n",
       "1     2  टमाटर पुलियोगरे रेसिपी - Spicy Tomato Rice (Re...   \n",
       "2     3  Ragi Semiya Upma Recipe - Ragi Millet Vermicel...   \n",
       "3     4  Gongura Chicken Curry Recipe - Andhra Style Go...   \n",
       "4     5  आंध्रा स्टाइल आलम पचड़ी रेसिपी - Adrak Chutney ...   \n",
       "\n",
       "                                TranslatedRecipeName  \\\n",
       "0                               Masala Karela Recipe   \n",
       "1                         Spicy Tomato Rice (Recipe)   \n",
       "2  Ragi Semiya Upma Recipe - Ragi Millet Vermicel...   \n",
       "3  Gongura Chicken Curry Recipe - Andhra Style Go...   \n",
       "4  Andhra Style Alam Pachadi Recipe - Adrak Chutn...   \n",
       "\n",
       "                                         Ingredients  \\\n",
       "0  6 Karela (Bitter Gourd/ Pavakkai) - deseeded,S...   \n",
       "1  2-1/2 कप चावल - पका ले,3 टमाटर,3 छोटा चमच्च बी...   \n",
       "2  1-1/2 cups Rice Vermicelli Noodles (Thin),1 On...   \n",
       "3  500 grams Chicken,2 Onion - chopped,1 Tomato -...   \n",
       "4  1 बड़ा चमच्च चना दाल,1 बड़ा चमच्च सफ़ेद उरद दाल,2...   \n",
       "\n",
       "                               TranslatedIngredients  PrepTimeInMins  \\\n",
       "0  6 Karela (Bitter Gourd/ Pavakkai) - deseeded,S...              15   \n",
       "1  2-1 / 2 cups rice - cooked, 3 tomatoes, 3 teas...               5   \n",
       "2  1-1/2 cups Rice Vermicelli Noodles (Thin),1 On...              20   \n",
       "3  500 grams Chicken,2 Onion - chopped,1 Tomato -...              15   \n",
       "4  1 tablespoon chana dal, 1 tablespoon white ura...              10   \n",
       "\n",
       "   CookTimeInMins  TotalTimeInMins  Servings               Cuisine  \\\n",
       "0              30               45         6                Indian   \n",
       "1              10               15         3  South Indian Recipes   \n",
       "2              30               50         4  South Indian Recipes   \n",
       "3              30               45         4                Andhra   \n",
       "4              20               30         4                Andhra   \n",
       "\n",
       "                   Course                     Diet  \\\n",
       "0               Side Dish        Diabetic Friendly   \n",
       "1             Main Course               Vegetarian   \n",
       "2  South Indian Breakfast  High Protein Vegetarian   \n",
       "3                   Lunch           Non Vegeterian   \n",
       "4  South Indian Breakfast               Vegetarian   \n",
       "\n",
       "                                        Instructions  \\\n",
       "0  To begin making the Masala Karela Recipe,de-se...   \n",
       "1  टमाटर पुलियोगरे बनाने के लिए सबसे पहले टमाटर क...   \n",
       "2  To begin making the Ragi Vermicelli Recipe, fi...   \n",
       "3  To begin making Gongura Chicken Curry Recipe f...   \n",
       "4  आंध्रा स्टाइल आलम पचड़ी बनाने के लिए सबसे पहले ...   \n",
       "\n",
       "                              TranslatedInstructions  \\\n",
       "0  To begin making the Masala Karela Recipe,de-se...   \n",
       "1  To make tomato puliogere, first cut the tomato...   \n",
       "2  To begin making the Ragi Vermicelli Recipe, fi...   \n",
       "3  To begin making Gongura Chicken Curry Recipe f...   \n",
       "4  To make Andhra Style Alam Pachadi, first heat ...   \n",
       "\n",
       "                                                 URL  \n",
       "0  https://www.archanaskitchen.com/masala-karela-...  \n",
       "1  http://www.archanaskitchen.com/spicy-tomato-ri...  \n",
       "2  http://www.archanaskitchen.com/ragi-vermicelli...  \n",
       "3  http://www.archanaskitchen.com/gongura-chicken...  \n",
       "4  https://www.archanaskitchen.com/andhra-style-a...  "
      ]
     },
     "execution_count": 5,
     "metadata": {},
     "output_type": "execute_result"
    }
   ],
   "source": [
    "ds.head()"
   ]
  },
  {
   "cell_type": "code",
   "execution_count": 6,
   "metadata": {},
   "outputs": [
    {
     "data": {
      "text/plain": [
       "Index(['Srno', 'RecipeName', 'TranslatedRecipeName', 'Ingredients',\n",
       "       'TranslatedIngredients', 'PrepTimeInMins', 'CookTimeInMins',\n",
       "       'TotalTimeInMins', 'Servings', 'Cuisine', 'Course', 'Diet',\n",
       "       'Instructions', 'TranslatedInstructions', 'URL'],\n",
       "      dtype='object')"
      ]
     },
     "execution_count": 6,
     "metadata": {},
     "output_type": "execute_result"
    }
   ],
   "source": [
    "ds.columns"
   ]
  },
  {
   "cell_type": "code",
   "execution_count": 7,
   "metadata": {},
   "outputs": [],
   "source": [
    "ds=ds.drop(['Ingredients','Instructions','RecipeName','URL'], axis=1) "
   ]
  },
  {
   "cell_type": "code",
   "execution_count": 8,
   "metadata": {},
   "outputs": [
    {
     "data": {
      "text/html": [
       "<div>\n",
       "<style scoped>\n",
       "    .dataframe tbody tr th:only-of-type {\n",
       "        vertical-align: middle;\n",
       "    }\n",
       "\n",
       "    .dataframe tbody tr th {\n",
       "        vertical-align: top;\n",
       "    }\n",
       "\n",
       "    .dataframe thead th {\n",
       "        text-align: right;\n",
       "    }\n",
       "</style>\n",
       "<table border=\"1\" class=\"dataframe\">\n",
       "  <thead>\n",
       "    <tr style=\"text-align: right;\">\n",
       "      <th></th>\n",
       "      <th>Srno</th>\n",
       "      <th>TranslatedRecipeName</th>\n",
       "      <th>TranslatedIngredients</th>\n",
       "      <th>PrepTimeInMins</th>\n",
       "      <th>CookTimeInMins</th>\n",
       "      <th>TotalTimeInMins</th>\n",
       "      <th>Servings</th>\n",
       "      <th>Cuisine</th>\n",
       "      <th>Course</th>\n",
       "      <th>Diet</th>\n",
       "      <th>TranslatedInstructions</th>\n",
       "    </tr>\n",
       "  </thead>\n",
       "  <tbody>\n",
       "    <tr>\n",
       "      <th>0</th>\n",
       "      <td>1</td>\n",
       "      <td>Masala Karela Recipe</td>\n",
       "      <td>6 Karela (Bitter Gourd/ Pavakkai) - deseeded,S...</td>\n",
       "      <td>15</td>\n",
       "      <td>30</td>\n",
       "      <td>45</td>\n",
       "      <td>6</td>\n",
       "      <td>Indian</td>\n",
       "      <td>Side Dish</td>\n",
       "      <td>Diabetic Friendly</td>\n",
       "      <td>To begin making the Masala Karela Recipe,de-se...</td>\n",
       "    </tr>\n",
       "    <tr>\n",
       "      <th>1</th>\n",
       "      <td>2</td>\n",
       "      <td>Spicy Tomato Rice (Recipe)</td>\n",
       "      <td>2-1 / 2 cups rice - cooked, 3 tomatoes, 3 teas...</td>\n",
       "      <td>5</td>\n",
       "      <td>10</td>\n",
       "      <td>15</td>\n",
       "      <td>3</td>\n",
       "      <td>South Indian Recipes</td>\n",
       "      <td>Main Course</td>\n",
       "      <td>Vegetarian</td>\n",
       "      <td>To make tomato puliogere, first cut the tomato...</td>\n",
       "    </tr>\n",
       "    <tr>\n",
       "      <th>2</th>\n",
       "      <td>3</td>\n",
       "      <td>Ragi Semiya Upma Recipe - Ragi Millet Vermicel...</td>\n",
       "      <td>1-1/2 cups Rice Vermicelli Noodles (Thin),1 On...</td>\n",
       "      <td>20</td>\n",
       "      <td>30</td>\n",
       "      <td>50</td>\n",
       "      <td>4</td>\n",
       "      <td>South Indian Recipes</td>\n",
       "      <td>South Indian Breakfast</td>\n",
       "      <td>High Protein Vegetarian</td>\n",
       "      <td>To begin making the Ragi Vermicelli Recipe, fi...</td>\n",
       "    </tr>\n",
       "    <tr>\n",
       "      <th>3</th>\n",
       "      <td>4</td>\n",
       "      <td>Gongura Chicken Curry Recipe - Andhra Style Go...</td>\n",
       "      <td>500 grams Chicken,2 Onion - chopped,1 Tomato -...</td>\n",
       "      <td>15</td>\n",
       "      <td>30</td>\n",
       "      <td>45</td>\n",
       "      <td>4</td>\n",
       "      <td>Andhra</td>\n",
       "      <td>Lunch</td>\n",
       "      <td>Non Vegeterian</td>\n",
       "      <td>To begin making Gongura Chicken Curry Recipe f...</td>\n",
       "    </tr>\n",
       "    <tr>\n",
       "      <th>4</th>\n",
       "      <td>5</td>\n",
       "      <td>Andhra Style Alam Pachadi Recipe - Adrak Chutn...</td>\n",
       "      <td>1 tablespoon chana dal, 1 tablespoon white ura...</td>\n",
       "      <td>10</td>\n",
       "      <td>20</td>\n",
       "      <td>30</td>\n",
       "      <td>4</td>\n",
       "      <td>Andhra</td>\n",
       "      <td>South Indian Breakfast</td>\n",
       "      <td>Vegetarian</td>\n",
       "      <td>To make Andhra Style Alam Pachadi, first heat ...</td>\n",
       "    </tr>\n",
       "  </tbody>\n",
       "</table>\n",
       "</div>"
      ],
      "text/plain": [
       "   Srno                               TranslatedRecipeName  \\\n",
       "0     1                               Masala Karela Recipe   \n",
       "1     2                         Spicy Tomato Rice (Recipe)   \n",
       "2     3  Ragi Semiya Upma Recipe - Ragi Millet Vermicel...   \n",
       "3     4  Gongura Chicken Curry Recipe - Andhra Style Go...   \n",
       "4     5  Andhra Style Alam Pachadi Recipe - Adrak Chutn...   \n",
       "\n",
       "                               TranslatedIngredients  PrepTimeInMins  \\\n",
       "0  6 Karela (Bitter Gourd/ Pavakkai) - deseeded,S...              15   \n",
       "1  2-1 / 2 cups rice - cooked, 3 tomatoes, 3 teas...               5   \n",
       "2  1-1/2 cups Rice Vermicelli Noodles (Thin),1 On...              20   \n",
       "3  500 grams Chicken,2 Onion - chopped,1 Tomato -...              15   \n",
       "4  1 tablespoon chana dal, 1 tablespoon white ura...              10   \n",
       "\n",
       "   CookTimeInMins  TotalTimeInMins  Servings               Cuisine  \\\n",
       "0              30               45         6                Indian   \n",
       "1              10               15         3  South Indian Recipes   \n",
       "2              30               50         4  South Indian Recipes   \n",
       "3              30               45         4                Andhra   \n",
       "4              20               30         4                Andhra   \n",
       "\n",
       "                   Course                     Diet  \\\n",
       "0               Side Dish        Diabetic Friendly   \n",
       "1             Main Course               Vegetarian   \n",
       "2  South Indian Breakfast  High Protein Vegetarian   \n",
       "3                   Lunch           Non Vegeterian   \n",
       "4  South Indian Breakfast               Vegetarian   \n",
       "\n",
       "                              TranslatedInstructions  \n",
       "0  To begin making the Masala Karela Recipe,de-se...  \n",
       "1  To make tomato puliogere, first cut the tomato...  \n",
       "2  To begin making the Ragi Vermicelli Recipe, fi...  \n",
       "3  To begin making Gongura Chicken Curry Recipe f...  \n",
       "4  To make Andhra Style Alam Pachadi, first heat ...  "
      ]
     },
     "execution_count": 8,
     "metadata": {},
     "output_type": "execute_result"
    }
   ],
   "source": [
    "ds.head()"
   ]
  },
  {
   "cell_type": "code",
   "execution_count": 9,
   "metadata": {},
   "outputs": [
    {
     "data": {
      "text/plain": [
       "Index(['Srno', 'TranslatedRecipeName', 'TranslatedIngredients',\n",
       "       'PrepTimeInMins', 'CookTimeInMins', 'TotalTimeInMins', 'Servings',\n",
       "       'Cuisine', 'Course', 'Diet', 'TranslatedInstructions'],\n",
       "      dtype='object')"
      ]
     },
     "execution_count": 9,
     "metadata": {},
     "output_type": "execute_result"
    }
   ],
   "source": [
    "ds.columns"
   ]
  },
  {
   "cell_type": "code",
   "execution_count": 10,
   "metadata": {},
   "outputs": [],
   "source": [
    "ds.rename(columns={\"TranslatedRecipeName\":\"RecipeName\",\"TranslatedIngredients\":\"Ingredients\",\"TranslatedInstructions\":\"Instructions\"},inplace=True)"
   ]
  },
  {
   "cell_type": "code",
   "execution_count": 11,
   "metadata": {},
   "outputs": [
    {
     "data": {
      "text/html": [
       "<div>\n",
       "<style scoped>\n",
       "    .dataframe tbody tr th:only-of-type {\n",
       "        vertical-align: middle;\n",
       "    }\n",
       "\n",
       "    .dataframe tbody tr th {\n",
       "        vertical-align: top;\n",
       "    }\n",
       "\n",
       "    .dataframe thead th {\n",
       "        text-align: right;\n",
       "    }\n",
       "</style>\n",
       "<table border=\"1\" class=\"dataframe\">\n",
       "  <thead>\n",
       "    <tr style=\"text-align: right;\">\n",
       "      <th></th>\n",
       "      <th>Srno</th>\n",
       "      <th>RecipeName</th>\n",
       "      <th>Ingredients</th>\n",
       "      <th>PrepTimeInMins</th>\n",
       "      <th>CookTimeInMins</th>\n",
       "      <th>TotalTimeInMins</th>\n",
       "      <th>Servings</th>\n",
       "      <th>Cuisine</th>\n",
       "      <th>Course</th>\n",
       "      <th>Diet</th>\n",
       "      <th>Instructions</th>\n",
       "    </tr>\n",
       "  </thead>\n",
       "  <tbody>\n",
       "    <tr>\n",
       "      <th>0</th>\n",
       "      <td>1</td>\n",
       "      <td>Masala Karela Recipe</td>\n",
       "      <td>6 Karela (Bitter Gourd/ Pavakkai) - deseeded,S...</td>\n",
       "      <td>15</td>\n",
       "      <td>30</td>\n",
       "      <td>45</td>\n",
       "      <td>6</td>\n",
       "      <td>Indian</td>\n",
       "      <td>Side Dish</td>\n",
       "      <td>Diabetic Friendly</td>\n",
       "      <td>To begin making the Masala Karela Recipe,de-se...</td>\n",
       "    </tr>\n",
       "    <tr>\n",
       "      <th>1</th>\n",
       "      <td>2</td>\n",
       "      <td>Spicy Tomato Rice (Recipe)</td>\n",
       "      <td>2-1 / 2 cups rice - cooked, 3 tomatoes, 3 teas...</td>\n",
       "      <td>5</td>\n",
       "      <td>10</td>\n",
       "      <td>15</td>\n",
       "      <td>3</td>\n",
       "      <td>South Indian Recipes</td>\n",
       "      <td>Main Course</td>\n",
       "      <td>Vegetarian</td>\n",
       "      <td>To make tomato puliogere, first cut the tomato...</td>\n",
       "    </tr>\n",
       "    <tr>\n",
       "      <th>2</th>\n",
       "      <td>3</td>\n",
       "      <td>Ragi Semiya Upma Recipe - Ragi Millet Vermicel...</td>\n",
       "      <td>1-1/2 cups Rice Vermicelli Noodles (Thin),1 On...</td>\n",
       "      <td>20</td>\n",
       "      <td>30</td>\n",
       "      <td>50</td>\n",
       "      <td>4</td>\n",
       "      <td>South Indian Recipes</td>\n",
       "      <td>South Indian Breakfast</td>\n",
       "      <td>High Protein Vegetarian</td>\n",
       "      <td>To begin making the Ragi Vermicelli Recipe, fi...</td>\n",
       "    </tr>\n",
       "    <tr>\n",
       "      <th>3</th>\n",
       "      <td>4</td>\n",
       "      <td>Gongura Chicken Curry Recipe - Andhra Style Go...</td>\n",
       "      <td>500 grams Chicken,2 Onion - chopped,1 Tomato -...</td>\n",
       "      <td>15</td>\n",
       "      <td>30</td>\n",
       "      <td>45</td>\n",
       "      <td>4</td>\n",
       "      <td>Andhra</td>\n",
       "      <td>Lunch</td>\n",
       "      <td>Non Vegeterian</td>\n",
       "      <td>To begin making Gongura Chicken Curry Recipe f...</td>\n",
       "    </tr>\n",
       "    <tr>\n",
       "      <th>4</th>\n",
       "      <td>5</td>\n",
       "      <td>Andhra Style Alam Pachadi Recipe - Adrak Chutn...</td>\n",
       "      <td>1 tablespoon chana dal, 1 tablespoon white ura...</td>\n",
       "      <td>10</td>\n",
       "      <td>20</td>\n",
       "      <td>30</td>\n",
       "      <td>4</td>\n",
       "      <td>Andhra</td>\n",
       "      <td>South Indian Breakfast</td>\n",
       "      <td>Vegetarian</td>\n",
       "      <td>To make Andhra Style Alam Pachadi, first heat ...</td>\n",
       "    </tr>\n",
       "  </tbody>\n",
       "</table>\n",
       "</div>"
      ],
      "text/plain": [
       "   Srno                                         RecipeName  \\\n",
       "0     1                               Masala Karela Recipe   \n",
       "1     2                         Spicy Tomato Rice (Recipe)   \n",
       "2     3  Ragi Semiya Upma Recipe - Ragi Millet Vermicel...   \n",
       "3     4  Gongura Chicken Curry Recipe - Andhra Style Go...   \n",
       "4     5  Andhra Style Alam Pachadi Recipe - Adrak Chutn...   \n",
       "\n",
       "                                         Ingredients  PrepTimeInMins  \\\n",
       "0  6 Karela (Bitter Gourd/ Pavakkai) - deseeded,S...              15   \n",
       "1  2-1 / 2 cups rice - cooked, 3 tomatoes, 3 teas...               5   \n",
       "2  1-1/2 cups Rice Vermicelli Noodles (Thin),1 On...              20   \n",
       "3  500 grams Chicken,2 Onion - chopped,1 Tomato -...              15   \n",
       "4  1 tablespoon chana dal, 1 tablespoon white ura...              10   \n",
       "\n",
       "   CookTimeInMins  TotalTimeInMins  Servings               Cuisine  \\\n",
       "0              30               45         6                Indian   \n",
       "1              10               15         3  South Indian Recipes   \n",
       "2              30               50         4  South Indian Recipes   \n",
       "3              30               45         4                Andhra   \n",
       "4              20               30         4                Andhra   \n",
       "\n",
       "                   Course                     Diet  \\\n",
       "0               Side Dish        Diabetic Friendly   \n",
       "1             Main Course               Vegetarian   \n",
       "2  South Indian Breakfast  High Protein Vegetarian   \n",
       "3                   Lunch           Non Vegeterian   \n",
       "4  South Indian Breakfast               Vegetarian   \n",
       "\n",
       "                                        Instructions  \n",
       "0  To begin making the Masala Karela Recipe,de-se...  \n",
       "1  To make tomato puliogere, first cut the tomato...  \n",
       "2  To begin making the Ragi Vermicelli Recipe, fi...  \n",
       "3  To begin making Gongura Chicken Curry Recipe f...  \n",
       "4  To make Andhra Style Alam Pachadi, first heat ...  "
      ]
     },
     "execution_count": 11,
     "metadata": {},
     "output_type": "execute_result"
    }
   ],
   "source": [
    "ds.head()"
   ]
  },
  {
   "cell_type": "code",
   "execution_count": 12,
   "metadata": {},
   "outputs": [
    {
     "name": "stdout",
     "output_type": "stream",
     "text": [
      "<class 'pandas.core.frame.DataFrame'>\n",
      "RangeIndex: 6871 entries, 0 to 6870\n",
      "Data columns (total 11 columns):\n",
      " #   Column           Non-Null Count  Dtype \n",
      "---  ------           --------------  ----- \n",
      " 0   Srno             6871 non-null   int64 \n",
      " 1   RecipeName       6871 non-null   object\n",
      " 2   Ingredients      6865 non-null   object\n",
      " 3   PrepTimeInMins   6871 non-null   int64 \n",
      " 4   CookTimeInMins   6871 non-null   int64 \n",
      " 5   TotalTimeInMins  6871 non-null   int64 \n",
      " 6   Servings         6871 non-null   int64 \n",
      " 7   Cuisine          6871 non-null   object\n",
      " 8   Course           6871 non-null   object\n",
      " 9   Diet             6871 non-null   object\n",
      " 10  Instructions     6871 non-null   object\n",
      "dtypes: int64(5), object(6)\n",
      "memory usage: 590.6+ KB\n"
     ]
    }
   ],
   "source": [
    "ds.info()"
   ]
  },
  {
   "cell_type": "code",
   "execution_count": 13,
   "metadata": {},
   "outputs": [
    {
     "data": {
      "text/plain": [
       "(6871, 11)"
      ]
     },
     "execution_count": 13,
     "metadata": {},
     "output_type": "execute_result"
    }
   ],
   "source": [
    "ds.shape"
   ]
  },
  {
   "cell_type": "code",
   "execution_count": 14,
   "metadata": {},
   "outputs": [
    {
     "data": {
      "text/plain": [
       "array([[1, 'Masala Karela Recipe',\n",
       "        '6 Karela (Bitter Gourd/ Pavakkai) - deseeded,Salt - to taste,1 Onion - thinly sliced,3 tablespoon Gram flour (besan),2 teaspoons Turmeric powder (Haldi),1 tablespoon Red Chilli powder,2 teaspoons Cumin seeds (Jeera),1 tablespoon Coriander Powder (Dhania),1 tablespoon Amchur (Dry Mango Powder),Sunflower Oil - as required',\n",
       "        ..., 'Side Dish', 'Diabetic Friendly',\n",
       "        'To begin making the\\xa0Masala Karela Recipe,de-seed the karela and slice. Do not remove the skin as the skin has all the nutrients.\\xa0Add the karela to the pressure cooker with 3 tablespoon of water, salt and turmeric powder and pressure cook for three whistles. Release the pressure immediately and open the lids. Keep aside.Heat oil in a heavy bottomed pan or a kadhai. Add cumin seeds and let it sizzle.Once the cumin seeds have sizzled, add onions and saute them till it turns golden brown in color.Add the karela,\\xa0red chilli powder, amchur powder, coriander powder and besan. Stir to combine the masalas into the karela.Drizzle a little extra oil on the top and mix again. Cover the pan and simmer\\xa0Masala Karela stirring occasionally until everything comes together well. Turn off the heat.Transfer\\xa0Masala Karela into a serving bowl and serve.Serve\\xa0Masala Karela\\xa0along with\\xa0Panchmel Dal\\xa0and\\xa0Phulka\\xa0for a weekday meal with your family.\\xa0'],\n",
       "       [2, 'Spicy Tomato Rice (Recipe)',\n",
       "        '2-1 / 2 cups rice - cooked, 3 tomatoes, 3 teaspoons BC Belle Bhat powder, salt - as per taste, 1 teaspoon chickpea lentils, 1/2 teaspoon cumin seeds, 1 teaspoon white urad dal, 1/2 Teaspoon mustard, 1 green chilli, 1 dry red chilli, 2 teaspoon cashew - or peanuts, 1-1 / 2 tablespoon oil - 1/2 teaspoon asafoetida',\n",
       "        ..., 'Main Course', 'Vegetarian',\n",
       "        'To make tomato puliogere, first cut the tomatoes. Now put in a mixer grinder and puree it. Now heat oil in a pan. After the oil is hot, add chana dal, urad dal, cashew and let it cook for 10 to 20 seconds. After 10 to 20 seconds, add cumin seeds, mustard seeds, green chillies, dry red chillies and curry leaves. After 30 seconds, add tomato puree to it and mix. Add BC Belle Bhat powder, salt and mix it. Allow to cook for 7 to 8 minutes and then turn off the gas. Take it out in a bowl, add cooked rice and mix it. Serve hot. Serve tomato puliogre with tomato cucumber raita and papad for dinner.'],\n",
       "       [3, 'Ragi Semiya Upma Recipe - Ragi Millet Vermicelli Breakfast',\n",
       "        '1-1/2 cups Rice Vermicelli Noodles (Thin),1 Onion - sliced,1/2 cup Carrots (Gajjar) - chopped,1/3 cup Green peas (Matar),2 Green Chillies,1/4 teaspoon Asafoetida (hing),1 teaspoon Mustard seeds,1 teaspoon White Urad Dal (Split),1 teaspoon Ghee,1 sprig Curry leaves,Salt - to taste,1 teaspoon Lemon juice',\n",
       "        ..., 'South Indian Breakfast', 'High Protein Vegetarian',\n",
       "        \"To begin making the Ragi Vermicelli Recipe, first steam the ragi vermicelli in a rice cooker or a steamer for about 5-6 minutes or till it is cooked but firm.Keep aside this aside till later use. You can add a few drops of oil and mix it so that they don't stick to each other.Place a kadai on the heat, add the ghee or oil to it and when warm add hing and allow it to sizzle for 30 seconds. Then follow it up with mustard seeds, urad dal and curry leaves, and allow them to crackle.Saute for 1 minute or so till the urad dal is slightly browned.Then, add onions and fry till translucent and soft.Next, add the green chillies along with par boiled carrots and peas. Sprinkle some salt and cook for 2-3 minutes or until the vegetables are semi cooked.Then, add the steamed ragi vermicelli toss it together so the vegetables are all well combined.Switch off the heat, take the vermicelli out into a serving dish and to with lemon juice. Mix well and serve along with\\xa0Coconut Chutney\\xa0and a hot cup of coffee or tea for a wholesome breakfast.\"],\n",
       "       ...,\n",
       "       [14165, 'Ullikadala Pulusu Recipe | Spring Onion Curry',\n",
       "        '150 grams Spring Onion (Bulb & Greens) - chopped,3/4 cup Tamarind Water,1 tablespoon Gram flour (besan),2 teaspoons Sunflower Oil,1 teaspoon Mustard seeds,1 teaspoon Cumin seeds (Jeera),2 Dry Red Chillies,1 pinch Asafoetida (hing),1 pinch Turmeric powder (Haldi),Salt - to atste,2 teaspoons Coriander (Dhania) Seeds,1 teaspoon Cumin seeds (Jeera),1/2 teaspoon Mustard seeds,1/4 teaspoon Methi Seeds (Fenugreek Seeds),2 cups Water',\n",
       "        ..., 'Side Dish', 'Vegetarian',\n",
       "        'To begin making Ullikadala Pulusu Recipe | Spring Onion Curry, in a pan, dry roast coriander seeds, mustard seeds, cumin seeds, fenugreek seeds separately and grind into a fine powder. Keep aside once they are roasted till aromatic.In the same pan, add oil, once it is hot on medium low heat, temper with mustard seeds. Once they splutter, add cumin seeds, red chillies, hing and add spring onions (white part+green part) cut into small pieces. Fry until they turn soft and reduce in size on a low heat.Add about 2 cups of water and bring to boil. Add salt, turmeric, tamarind puree and let it boil for about 2 minutes.\\xa0In a bowl, mix gramflour and a tablespoon of prepared powder with little water without lumps and add to the boiling mixture.\\xa0Let it boil for another 2 to 3 minutes and serve. Serve Ullikadala Pulusu Recipe | Spring Onion Curry on a winter day and serve with hot steamed rice and ghee, along with\\xa0Andhra Gongura Pachadi Recipe, and\\xa0Andhra Style Kakarakaya Vepudu Recipe (Bitter Gourd Stir Fry).\\n'],\n",
       "       [14167,\n",
       "        'Kashmiri Style Kokur Yakhni Recipe-Chicken Cooked In Yogurt',\n",
       "        '1 kg Chicken - medium pieces,1/2 cup Mustard oil,Ghee - as required,1-1/2 kg Curd (Dahi / Yogurt),2 inch Cinnamon Stick (Dalchini),2 to 3 Black cardamom (Badi Elaichi),3 to 4 Cloves (Laung),2 teaspoons Asafoetida (hing),2 Bay leaf (tej patta),1 teaspoon Cumin seeds (Jeera),1-1/2 teaspoons Fennel Powder,Salt - as required,1/2 cup Mint Leaves (Pudina) - dry',\n",
       "        ..., 'Lunch', 'Non Vegeterian',\n",
       "        \"To begin making the Kashmiri Kokur Yakhni recipe, wash chicken nicely and drain off water.Heat mustard oil in a pressure cooker and add chicken into it along with some salt, fennel powder, crushed big cardamom, asafoetida, cinnamon and bay leaf and fry for 5 minutes on full flame.Put 1/2 a glass of water, stir and pressure-cook upto 1-2 whistles only.Heat some ghee in a wok/kadai and add cumin and cloves into it.Keep the heat low and now add well-whisked curd and turn the flames high. Keep stirring on high flames till it starts to boil. Stir continuously so that the curd doesn't curdle.While the curd is boiling add the chicken along with the spices and left over pure ghee and cook for another 5 to 8 minutes.Once the chicken is nicely cooked, turn off the gas and add lot of crushed dry mint on top.Serve Kashmiri Kokur Yakhni along with Steamed rice and\\xa0Kachumber Salad\\xa0for a weekday meal.\\n\"],\n",
       "       [14211, ' Navrang Dal Recipe',\n",
       "        '2 बड़े चम्मच हरी मूंग दाल,2 बड़े चम्मच सफ़ेद उरद दाल,2 बड़े चम्मच काली उरद दाल (स्प्लिट),2 बड़े चम्मच मसूर दाल\\xa0(स्प्लिट),2 बड़े चम्मच मसूर दाल,2 बड़े चम्मच राजमा,2 बड़े चम्मच काबुली चना या छोला,1/4 कप पिली मूंग दाल - 20 मिनट के लिए भिगो दे,1 बड़ा चम्मच अरहर दाल - 20 मिनट के लिए भिगो दे,1 प्याज - बारीक काट ले,1 टमाटर - बारीक काट ले,1 बड़ा चम्मच अदरक लहसुन का पेस्ट,1 हरी मिर्च - सीधा काट ले,2 छोटे चम्मच धनिया पाउडर,1 छोटा चम्मच लाल मिर्च पाउडर,2 छोटे चम्मच गरम मसाला पाउडर,1 बड़ा चम्मच कसूरी मेथी,1 इंच अदरक - सीधा और पतला काट ले,2 बड़े चम्मच घी,1 छोटा चम्मच जीरा,1 दालचीनी,नमक - स्वाद अनुसार',\n",
       "        ..., 'Lunch', 'High Protein Vegetarian',\n",
       "        'नवरंग दाल रेसिपी\\xa0 बनाने के लिए सबसे पहले सारी दालो को पानी में रात भर के लिए सोख ले. मूंग दाल और तुअर दाल को न भिगोए। अब एक प्रेशर कुकर में सारी\\xa0दाल डाले और 3\\xa0से 4\\xa0सिटी आने तक पका ले.प्रेशर अपने आप निकलने दे. कुकर खोले, दाल को मैश करें और अलग से रख दे.\\xa0अब एक कढ़ाई में तेल या घी गरम करें। इसमें दालचीनी, जीरा डाले और जीरा को तड़कने दे. अब इसमें प्याज डाले और हल्का भूरा होने तक पका ले.\\xa0अब इसमें अदरक लहसुन का पेस्ट डाले और 3 से 4 मिनट के लिए पका ले. 3 से 4 मिनट के बाद इसमें टमाटर, हरी मिर्च डाले और टमाटर के आधा पकने तक पका ले.\\xa0टमाटर के आधा पकने के बाद इसमें धनिया पाउडर, लाल मिर्च पाउडर, गरम मसाला पाउडर डाले और 3 से 4 मिनट के लिए पका ले.\\xa0अब इसमें पकी हुई दाल, स्वाद अनुसार नमक, प्रयोग अनुसार पानी डाले और 10 मिनट के लिए पका ले.\\xa010 मिनट के बाद इसमें कसूरी मेथी डाले और उबाला आने दे. उबाला आने के बाद, गैस बंद करें और अदरक से गार्निश करें। परोसे।\\xa0नवरंग दाल\\xa0को\\xa0भिंडी मसाला\\xa0और\\xa0तवा पराठा\\xa0के साथ दिन के खाने के लिए परोसे.\\n']],\n",
       "      dtype=object)"
      ]
     },
     "execution_count": 14,
     "metadata": {},
     "output_type": "execute_result"
    }
   ],
   "source": [
    "ds.values"
   ]
  },
  {
   "cell_type": "code",
   "execution_count": 15,
   "metadata": {},
   "outputs": [],
   "source": [
    "ds = ds.drop(['Srno'], axis = 1)"
   ]
  },
  {
   "cell_type": "code",
   "execution_count": 16,
   "metadata": {},
   "outputs": [
    {
     "data": {
      "text/html": [
       "<div>\n",
       "<style scoped>\n",
       "    .dataframe tbody tr th:only-of-type {\n",
       "        vertical-align: middle;\n",
       "    }\n",
       "\n",
       "    .dataframe tbody tr th {\n",
       "        vertical-align: top;\n",
       "    }\n",
       "\n",
       "    .dataframe thead th {\n",
       "        text-align: right;\n",
       "    }\n",
       "</style>\n",
       "<table border=\"1\" class=\"dataframe\">\n",
       "  <thead>\n",
       "    <tr style=\"text-align: right;\">\n",
       "      <th></th>\n",
       "      <th>RecipeName</th>\n",
       "      <th>Ingredients</th>\n",
       "      <th>PrepTimeInMins</th>\n",
       "      <th>CookTimeInMins</th>\n",
       "      <th>TotalTimeInMins</th>\n",
       "      <th>Servings</th>\n",
       "      <th>Cuisine</th>\n",
       "      <th>Course</th>\n",
       "      <th>Diet</th>\n",
       "      <th>Instructions</th>\n",
       "    </tr>\n",
       "  </thead>\n",
       "  <tbody>\n",
       "    <tr>\n",
       "      <th>0</th>\n",
       "      <td>Masala Karela Recipe</td>\n",
       "      <td>6 Karela (Bitter Gourd/ Pavakkai) - deseeded,S...</td>\n",
       "      <td>15</td>\n",
       "      <td>30</td>\n",
       "      <td>45</td>\n",
       "      <td>6</td>\n",
       "      <td>Indian</td>\n",
       "      <td>Side Dish</td>\n",
       "      <td>Diabetic Friendly</td>\n",
       "      <td>To begin making the Masala Karela Recipe,de-se...</td>\n",
       "    </tr>\n",
       "    <tr>\n",
       "      <th>1</th>\n",
       "      <td>Spicy Tomato Rice (Recipe)</td>\n",
       "      <td>2-1 / 2 cups rice - cooked, 3 tomatoes, 3 teas...</td>\n",
       "      <td>5</td>\n",
       "      <td>10</td>\n",
       "      <td>15</td>\n",
       "      <td>3</td>\n",
       "      <td>South Indian Recipes</td>\n",
       "      <td>Main Course</td>\n",
       "      <td>Vegetarian</td>\n",
       "      <td>To make tomato puliogere, first cut the tomato...</td>\n",
       "    </tr>\n",
       "    <tr>\n",
       "      <th>2</th>\n",
       "      <td>Ragi Semiya Upma Recipe - Ragi Millet Vermicel...</td>\n",
       "      <td>1-1/2 cups Rice Vermicelli Noodles (Thin),1 On...</td>\n",
       "      <td>20</td>\n",
       "      <td>30</td>\n",
       "      <td>50</td>\n",
       "      <td>4</td>\n",
       "      <td>South Indian Recipes</td>\n",
       "      <td>South Indian Breakfast</td>\n",
       "      <td>High Protein Vegetarian</td>\n",
       "      <td>To begin making the Ragi Vermicelli Recipe, fi...</td>\n",
       "    </tr>\n",
       "    <tr>\n",
       "      <th>3</th>\n",
       "      <td>Gongura Chicken Curry Recipe - Andhra Style Go...</td>\n",
       "      <td>500 grams Chicken,2 Onion - chopped,1 Tomato -...</td>\n",
       "      <td>15</td>\n",
       "      <td>30</td>\n",
       "      <td>45</td>\n",
       "      <td>4</td>\n",
       "      <td>Andhra</td>\n",
       "      <td>Lunch</td>\n",
       "      <td>Non Vegeterian</td>\n",
       "      <td>To begin making Gongura Chicken Curry Recipe f...</td>\n",
       "    </tr>\n",
       "    <tr>\n",
       "      <th>4</th>\n",
       "      <td>Andhra Style Alam Pachadi Recipe - Adrak Chutn...</td>\n",
       "      <td>1 tablespoon chana dal, 1 tablespoon white ura...</td>\n",
       "      <td>10</td>\n",
       "      <td>20</td>\n",
       "      <td>30</td>\n",
       "      <td>4</td>\n",
       "      <td>Andhra</td>\n",
       "      <td>South Indian Breakfast</td>\n",
       "      <td>Vegetarian</td>\n",
       "      <td>To make Andhra Style Alam Pachadi, first heat ...</td>\n",
       "    </tr>\n",
       "    <tr>\n",
       "      <th>...</th>\n",
       "      <td>...</td>\n",
       "      <td>...</td>\n",
       "      <td>...</td>\n",
       "      <td>...</td>\n",
       "      <td>...</td>\n",
       "      <td>...</td>\n",
       "      <td>...</td>\n",
       "      <td>...</td>\n",
       "      <td>...</td>\n",
       "      <td>...</td>\n",
       "    </tr>\n",
       "    <tr>\n",
       "      <th>6866</th>\n",
       "      <td>Goan Mushroom Xacuti Recipe</td>\n",
       "      <td>20 बटन मशरुम,2 प्याज - काट ले,1 टमाटर - बारीक ...</td>\n",
       "      <td>15</td>\n",
       "      <td>45</td>\n",
       "      <td>60</td>\n",
       "      <td>4</td>\n",
       "      <td>Goan Recipes</td>\n",
       "      <td>Lunch</td>\n",
       "      <td>Vegetarian</td>\n",
       "      <td>गोअन मशरुम जकुटी रेसिपी बनाने के लिए सबसे पहले...</td>\n",
       "    </tr>\n",
       "    <tr>\n",
       "      <th>6867</th>\n",
       "      <td>Sweet Potato &amp; Methi Stuffed Paratha Recipe</td>\n",
       "      <td>1 बड़ा चम्मच तेल,1 कप गेहूं का आटा,नमक - स्वाद ...</td>\n",
       "      <td>30</td>\n",
       "      <td>60</td>\n",
       "      <td>90</td>\n",
       "      <td>4</td>\n",
       "      <td>North Indian Recipes</td>\n",
       "      <td>North Indian Breakfast</td>\n",
       "      <td>Diabetic Friendly</td>\n",
       "      <td>शकरकंदी और मेथी का पराठा रेसिपी बनाने के लिए स...</td>\n",
       "    </tr>\n",
       "    <tr>\n",
       "      <th>6868</th>\n",
       "      <td>Ullikadala Pulusu Recipe | Spring Onion Curry</td>\n",
       "      <td>150 grams Spring Onion (Bulb &amp; Greens) - chopp...</td>\n",
       "      <td>5</td>\n",
       "      <td>10</td>\n",
       "      <td>15</td>\n",
       "      <td>2</td>\n",
       "      <td>Andhra</td>\n",
       "      <td>Side Dish</td>\n",
       "      <td>Vegetarian</td>\n",
       "      <td>To begin making Ullikadala Pulusu Recipe | Spr...</td>\n",
       "    </tr>\n",
       "    <tr>\n",
       "      <th>6869</th>\n",
       "      <td>Kashmiri Style Kokur Yakhni Recipe-Chicken Coo...</td>\n",
       "      <td>1 kg Chicken - medium pieces,1/2 cup Mustard o...</td>\n",
       "      <td>30</td>\n",
       "      <td>45</td>\n",
       "      <td>75</td>\n",
       "      <td>4</td>\n",
       "      <td>Kashmiri</td>\n",
       "      <td>Lunch</td>\n",
       "      <td>Non Vegeterian</td>\n",
       "      <td>To begin making the Kashmiri Kokur Yakhni reci...</td>\n",
       "    </tr>\n",
       "    <tr>\n",
       "      <th>6870</th>\n",
       "      <td>Navrang Dal Recipe</td>\n",
       "      <td>2 बड़े चम्मच हरी मूंग दाल,2 बड़े चम्मच सफ़ेद उरद ...</td>\n",
       "      <td>10</td>\n",
       "      <td>30</td>\n",
       "      <td>40</td>\n",
       "      <td>4</td>\n",
       "      <td>North Indian Recipes</td>\n",
       "      <td>Lunch</td>\n",
       "      <td>High Protein Vegetarian</td>\n",
       "      <td>नवरंग दाल रेसिपी  बनाने के लिए सबसे पहले सारी ...</td>\n",
       "    </tr>\n",
       "  </tbody>\n",
       "</table>\n",
       "<p>6871 rows × 10 columns</p>\n",
       "</div>"
      ],
      "text/plain": [
       "                                             RecipeName  \\\n",
       "0                                  Masala Karela Recipe   \n",
       "1                            Spicy Tomato Rice (Recipe)   \n",
       "2     Ragi Semiya Upma Recipe - Ragi Millet Vermicel...   \n",
       "3     Gongura Chicken Curry Recipe - Andhra Style Go...   \n",
       "4     Andhra Style Alam Pachadi Recipe - Adrak Chutn...   \n",
       "...                                                 ...   \n",
       "6866                        Goan Mushroom Xacuti Recipe   \n",
       "6867        Sweet Potato & Methi Stuffed Paratha Recipe   \n",
       "6868      Ullikadala Pulusu Recipe | Spring Onion Curry   \n",
       "6869  Kashmiri Style Kokur Yakhni Recipe-Chicken Coo...   \n",
       "6870                                 Navrang Dal Recipe   \n",
       "\n",
       "                                            Ingredients  PrepTimeInMins  \\\n",
       "0     6 Karela (Bitter Gourd/ Pavakkai) - deseeded,S...              15   \n",
       "1     2-1 / 2 cups rice - cooked, 3 tomatoes, 3 teas...               5   \n",
       "2     1-1/2 cups Rice Vermicelli Noodles (Thin),1 On...              20   \n",
       "3     500 grams Chicken,2 Onion - chopped,1 Tomato -...              15   \n",
       "4     1 tablespoon chana dal, 1 tablespoon white ura...              10   \n",
       "...                                                 ...             ...   \n",
       "6866  20 बटन मशरुम,2 प्याज - काट ले,1 टमाटर - बारीक ...              15   \n",
       "6867  1 बड़ा चम्मच तेल,1 कप गेहूं का आटा,नमक - स्वाद ...              30   \n",
       "6868  150 grams Spring Onion (Bulb & Greens) - chopp...               5   \n",
       "6869  1 kg Chicken - medium pieces,1/2 cup Mustard o...              30   \n",
       "6870  2 बड़े चम्मच हरी मूंग दाल,2 बड़े चम्मच सफ़ेद उरद ...              10   \n",
       "\n",
       "      CookTimeInMins  TotalTimeInMins  Servings               Cuisine  \\\n",
       "0                 30               45         6                Indian   \n",
       "1                 10               15         3  South Indian Recipes   \n",
       "2                 30               50         4  South Indian Recipes   \n",
       "3                 30               45         4                Andhra   \n",
       "4                 20               30         4                Andhra   \n",
       "...              ...              ...       ...                   ...   \n",
       "6866              45               60         4          Goan Recipes   \n",
       "6867              60               90         4  North Indian Recipes   \n",
       "6868              10               15         2                Andhra   \n",
       "6869              45               75         4              Kashmiri   \n",
       "6870              30               40         4  North Indian Recipes   \n",
       "\n",
       "                      Course                     Diet  \\\n",
       "0                  Side Dish        Diabetic Friendly   \n",
       "1                Main Course               Vegetarian   \n",
       "2     South Indian Breakfast  High Protein Vegetarian   \n",
       "3                      Lunch           Non Vegeterian   \n",
       "4     South Indian Breakfast               Vegetarian   \n",
       "...                      ...                      ...   \n",
       "6866                   Lunch               Vegetarian   \n",
       "6867  North Indian Breakfast        Diabetic Friendly   \n",
       "6868               Side Dish               Vegetarian   \n",
       "6869                   Lunch           Non Vegeterian   \n",
       "6870                   Lunch  High Protein Vegetarian   \n",
       "\n",
       "                                           Instructions  \n",
       "0     To begin making the Masala Karela Recipe,de-se...  \n",
       "1     To make tomato puliogere, first cut the tomato...  \n",
       "2     To begin making the Ragi Vermicelli Recipe, fi...  \n",
       "3     To begin making Gongura Chicken Curry Recipe f...  \n",
       "4     To make Andhra Style Alam Pachadi, first heat ...  \n",
       "...                                                 ...  \n",
       "6866  गोअन मशरुम जकुटी रेसिपी बनाने के लिए सबसे पहले...  \n",
       "6867  शकरकंदी और मेथी का पराठा रेसिपी बनाने के लिए स...  \n",
       "6868  To begin making Ullikadala Pulusu Recipe | Spr...  \n",
       "6869  To begin making the Kashmiri Kokur Yakhni reci...  \n",
       "6870  नवरंग दाल रेसिपी  बनाने के लिए सबसे पहले सारी ...  \n",
       "\n",
       "[6871 rows x 10 columns]"
      ]
     },
     "execution_count": 16,
     "metadata": {},
     "output_type": "execute_result"
    }
   ],
   "source": [
    "ds"
   ]
  },
  {
   "cell_type": "code",
   "execution_count": 17,
   "metadata": {},
   "outputs": [
    {
     "name": "stdout",
     "output_type": "stream",
     "text": [
      "['Diabetic Friendly', 'Vegetarian', 'High Protein Vegetarian', 'Non Vegeterian', 'Vegetarian', 'High Protein Vegetarian', 'Vegetarian', 'Vegetarian', 'Vegetarian', 'Vegetarian', 'Vegetarian', 'Vegetarian', 'Vegetarian', 'High Protein Non Vegetarian', 'Vegetarian', 'Vegetarian', 'Eggetarian', 'Vegetarian', 'Vegetarian', 'Vegetarian', 'Vegetarian', 'Diabetic Friendly', 'High Protein Vegetarian', 'Vegetarian', 'Vegetarian', 'Vegetarian', 'Vegetarian', 'Vegetarian', 'Vegetarian', 'High Protein Vegetarian', 'Vegetarian', 'Diabetic Friendly', 'Vegetarian', 'Vegetarian', 'Vegetarian', 'Vegetarian', 'Vegetarian', 'High Protein Non Vegetarian', 'Vegetarian', 'Vegetarian', 'Vegetarian', 'Vegetarian', 'Vegetarian', 'Vegetarian', 'Vegetarian', 'Vegetarian', 'Vegetarian', 'Vegetarian', 'Vegetarian', 'Vegan', 'Vegetarian', 'Vegetarian', 'Vegetarian', 'Vegetarian', 'Vegetarian', 'Non Vegeterian', 'Vegetarian', 'Vegetarian', 'Eggetarian', 'Vegetarian', 'High Protein Vegetarian', 'High Protein Vegetarian', 'Eggetarian', 'High Protein Vegetarian', 'Vegetarian', 'Vegetarian', 'Vegetarian', 'Vegetarian', 'Vegetarian', 'Vegetarian', 'Vegetarian', 'Vegetarian', 'Vegetarian', 'Vegetarian', 'Vegetarian', 'Vegetarian', 'Vegetarian', 'Eggetarian', 'Vegetarian', 'Vegetarian', 'Vegetarian', 'Vegetarian', 'Vegetarian', 'High Protein Vegetarian', 'Vegetarian', 'Vegetarian', 'Non Vegeterian', 'Vegetarian', 'Non Vegeterian', 'Vegetarian', 'Non Vegeterian', 'Vegetarian', 'Vegetarian', 'Vegetarian', 'High Protein Vegetarian', 'Vegetarian', 'Vegetarian', 'Eggetarian', 'Vegetarian', 'Vegetarian', 'Vegetarian', 'High Protein Vegetarian', 'High Protein Vegetarian', 'Vegetarian', 'Vegetarian', 'Vegetarian', 'High Protein Vegetarian', 'Vegetarian', 'Non Vegeterian', 'Vegetarian', 'High Protein Vegetarian', 'Vegetarian', 'No Onion No Garlic (Sattvic)', 'Vegetarian', 'Non Vegeterian', 'Vegetarian', 'High Protein Vegetarian', 'Vegetarian', 'Non Vegeterian', 'Vegetarian', 'High Protein Vegetarian', 'Non Vegeterian', 'High Protein Vegetarian', 'High Protein Vegetarian', 'Vegetarian', 'Vegetarian', 'Diabetic Friendly', 'Vegetarian', 'Vegetarian', 'Vegetarian', 'High Protein Vegetarian', 'Vegetarian', 'No Onion No Garlic (Sattvic)', 'High Protein Non Vegetarian', 'High Protein Non Vegetarian', 'Diabetic Friendly', 'High Protein Vegetarian', 'High Protein Vegetarian', 'High Protein Vegetarian', 'High Protein Vegetarian', 'Vegetarian', 'High Protein Vegetarian', 'Vegetarian', 'Vegetarian', 'Vegetarian', 'Vegetarian', 'Vegetarian', 'Vegetarian', 'Vegetarian', 'Vegetarian', 'Vegetarian', 'Vegetarian', 'Vegetarian', 'Vegetarian', 'Vegetarian', 'Vegetarian', 'Vegetarian', 'Vegetarian', 'Vegetarian', 'Vegetarian', 'Vegetarian', 'Diabetic Friendly', 'Diabetic Friendly', 'Non Vegeterian', 'Vegetarian', 'Non Vegeterian', 'Vegetarian', 'Vegetarian', 'Vegetarian', 'Vegetarian', 'Vegetarian', 'Vegetarian', 'Vegetarian', 'Vegetarian', 'Vegetarian', 'High Protein Vegetarian', 'Diabetic Friendly', 'Vegetarian', 'Gluten Free', 'Vegetarian', 'Vegetarian', 'Vegetarian', 'Vegetarian', 'Diabetic Friendly', 'Vegetarian', 'Vegetarian', 'Vegetarian', 'Diabetic Friendly', 'Vegetarian', 'Vegetarian', 'Diabetic Friendly', 'Gluten Free', 'Vegetarian', 'High Protein Vegetarian', 'Vegetarian', 'Diabetic Friendly', 'High Protein Vegetarian', 'Non Vegeterian', 'Vegetarian', 'Diabetic Friendly', 'Vegetarian', 'Vegetarian', 'Vegetarian', 'Vegetarian', 'High Protein Vegetarian', 'Vegetarian', 'Vegetarian', 'Vegetarian', 'Diabetic Friendly', 'Vegetarian', 'Vegetarian', 'High Protein Vegetarian', 'Vegetarian', 'Vegetarian', 'Vegetarian', 'Vegetarian', 'Vegetarian', 'Diabetic Friendly', 'Vegetarian', 'Vegetarian', 'Vegetarian', 'High Protein Vegetarian', 'Vegetarian', 'Vegan', 'High Protein Vegetarian', 'Vegetarian', 'Vegetarian', 'Vegetarian', 'Diabetic Friendly', 'Vegetarian', 'Vegetarian', 'Vegetarian', 'Vegetarian', 'Vegetarian', 'Vegetarian', 'Vegetarian', 'Vegetarian', 'Vegetarian', 'Vegetarian', 'Vegetarian', 'Vegetarian', 'Vegetarian', 'Gluten Free', 'Vegetarian', 'Eggetarian', 'Diabetic Friendly', 'Vegetarian', 'Vegetarian', 'Vegetarian', 'Vegetarian', 'Vegetarian', 'Vegetarian', 'Vegetarian', 'High Protein Non Vegetarian', 'Vegetarian', 'Eggetarian', 'Vegetarian', 'Vegetarian', 'Vegetarian', 'Vegetarian', 'Vegetarian', 'Vegetarian', 'Non Vegeterian', 'Vegetarian', 'Vegetarian', 'Eggetarian', 'Vegetarian', 'Vegetarian', 'Eggetarian', 'High Protein Vegetarian', 'Vegetarian', 'Vegetarian', 'High Protein Vegetarian', 'Diabetic Friendly', 'Vegetarian', 'High Protein Vegetarian', 'Vegetarian', 'Vegetarian', 'Vegetarian', 'High Protein Non Vegetarian', 'Vegan', 'Eggetarian', 'Vegetarian', 'Vegetarian', 'Vegetarian', 'High Protein Vegetarian', 'Diabetic Friendly', 'Vegetarian', 'Vegetarian', 'Vegetarian', 'Eggetarian', 'Vegetarian', 'Eggetarian', 'Vegetarian', 'Vegetarian', 'Vegetarian', 'Vegetarian', 'Vegetarian', 'Vegetarian', 'Eggetarian', 'High Protein Vegetarian', 'Vegetarian', 'High Protein Vegetarian', 'Vegetarian', 'Vegetarian', 'Vegetarian', 'Vegetarian', 'Vegetarian', 'Vegetarian', 'Vegetarian', 'Vegetarian', 'Non Vegeterian', 'Vegetarian', 'Non Vegeterian', 'High Protein Vegetarian', 'Vegetarian', 'Vegetarian', 'Vegetarian', 'Vegetarian', 'No Onion No Garlic (Sattvic)', 'No Onion No Garlic (Sattvic)', 'Vegetarian', 'Vegetarian', 'Vegetarian', 'High Protein Vegetarian', 'Vegetarian', 'High Protein Vegetarian', 'Vegetarian', 'Vegetarian', 'High Protein Vegetarian', 'Vegetarian', 'Vegetarian', 'High Protein Vegetarian', 'High Protein Non Vegetarian', 'High Protein Vegetarian', 'Vegetarian', 'High Protein Non Vegetarian', 'Vegetarian', 'Vegetarian', 'High Protein Vegetarian', 'Vegetarian', 'Vegetarian', 'Eggetarian', 'Vegetarian', 'Vegetarian', 'Vegetarian', 'Vegetarian', 'Vegetarian', 'Vegetarian', 'Vegetarian', 'Vegetarian', 'Vegetarian', 'Non Vegeterian', 'Vegetarian', 'Vegetarian', 'Non Vegeterian', 'High Protein Vegetarian', 'Vegetarian', 'Vegetarian', 'Vegetarian', 'Vegetarian', 'Non Vegeterian', 'Vegetarian', 'Vegetarian', 'Vegetarian', 'High Protein Vegetarian', 'Vegan', 'Vegetarian', 'Non Vegeterian', 'Eggetarian', 'Vegetarian', 'Vegetarian', 'High Protein Vegetarian', 'Non Vegeterian', 'Vegetarian', 'Vegetarian', 'Vegetarian', 'Vegetarian', 'High Protein Non Vegetarian', 'Vegetarian', 'Eggetarian', 'No Onion No Garlic (Sattvic)', 'Vegetarian', 'Vegetarian', 'Vegetarian', 'Vegetarian', 'High Protein Vegetarian', 'Vegetarian', 'High Protein Vegetarian', 'Diabetic Friendly', 'Vegetarian', 'Vegetarian', 'Vegetarian', 'Non Vegeterian', 'Vegetarian', 'High Protein Vegetarian', 'High Protein Non Vegetarian', 'Eggetarian', 'Vegetarian', 'Vegetarian', 'Vegetarian', 'Vegetarian', 'Vegetarian', 'Vegetarian', 'Non Vegeterian', 'Vegetarian', 'Vegetarian', 'High Protein Vegetarian', 'Vegetarian', 'Vegetarian', 'High Protein Non Vegetarian', 'Vegetarian', 'Vegetarian', 'Vegetarian', 'High Protein Non Vegetarian', 'Vegetarian', 'Vegetarian', 'Vegetarian', 'Vegetarian', 'Vegetarian', 'Vegetarian', 'Vegetarian', 'Vegetarian', 'Vegetarian', 'Vegetarian', 'High Protein Non Vegetarian', 'Vegetarian', 'High Protein Vegetarian', 'Vegetarian', 'Non Vegeterian', 'High Protein Vegetarian', 'Vegetarian', 'Vegetarian', 'Vegetarian', 'Diabetic Friendly', 'Eggetarian', 'Vegetarian', 'Vegetarian', 'Vegetarian', 'Vegetarian', 'Vegetarian', 'Vegetarian', 'Vegetarian', 'Vegetarian', 'Vegetarian', 'Vegetarian', 'Eggetarian', 'Eggetarian', 'Vegetarian', 'Vegetarian', 'Vegetarian', 'Non Vegeterian', 'Non Vegeterian', 'Vegetarian', 'High Protein Non Vegetarian', 'Gluten Free', 'High Protein Vegetarian', 'Vegetarian', 'Vegetarian', 'Vegetarian', 'Gluten Free', 'Vegetarian', 'Vegetarian', 'Vegetarian', 'Vegetarian', 'No Onion No Garlic (Sattvic)', 'Gluten Free', 'Vegetarian', 'Eggetarian', 'Vegetarian', 'Vegetarian', 'Vegetarian', 'Non Vegeterian', 'Vegetarian', 'Vegetarian', 'Vegetarian', 'Vegetarian', 'Eggetarian', 'Vegetarian', 'Vegetarian', 'Diabetic Friendly', 'Vegetarian', 'Vegetarian', 'Eggetarian', 'Vegetarian', 'Vegetarian', 'Vegetarian', 'Vegetarian', 'Vegetarian', 'Vegetarian', 'Vegetarian', 'Non Vegeterian', 'Vegetarian', 'Non Vegeterian', 'Vegetarian', 'Eggetarian', 'Vegetarian', 'Vegetarian', 'Gluten Free', 'Vegetarian', 'Vegetarian', 'Vegetarian', 'Vegetarian', 'Diabetic Friendly', 'Non Vegeterian', 'Vegetarian', 'Vegetarian', 'Diabetic Friendly', 'Vegetarian', 'Vegetarian', 'Vegetarian', 'Vegetarian', 'Vegetarian', 'Non Vegeterian', 'Vegetarian', 'Vegetarian', 'Vegetarian', 'Vegetarian', 'Vegetarian', 'Eggetarian', 'Vegetarian', 'Vegetarian', 'High Protein Vegetarian', 'Vegetarian', 'Vegetarian', 'Vegetarian', 'Vegan', 'Vegetarian', 'Vegetarian', 'Vegetarian', 'Non Vegeterian', 'Vegetarian', 'Vegetarian', 'Vegetarian', 'Vegetarian', 'High Protein Vegetarian', 'Vegetarian', 'Vegetarian', 'High Protein Non Vegetarian', 'High Protein Vegetarian', 'Vegetarian', 'Vegetarian', 'Vegetarian', 'High Protein Vegetarian', 'Vegetarian', 'Vegetarian', 'Vegetarian', 'Diabetic Friendly', 'Vegetarian', 'Diabetic Friendly', 'Vegetarian', 'Vegetarian', 'Vegetarian', 'Vegetarian', 'High Protein Vegetarian', 'Non Vegeterian', 'No Onion No Garlic (Sattvic)', 'High Protein Vegetarian', 'High Protein Vegetarian', 'Vegetarian', 'Vegetarian', 'Vegan', 'Vegetarian', 'Vegetarian', 'Eggetarian', 'High Protein Vegetarian', 'Vegetarian', 'Vegetarian', 'Vegetarian', 'Vegetarian', 'Gluten Free', 'Vegetarian', 'Vegetarian', 'Vegetarian', 'Non Vegeterian', 'Vegetarian', 'Vegetarian', 'Vegetarian', 'Vegetarian', 'Vegetarian', 'Vegetarian', 'Vegetarian', 'Vegetarian', 'Non Vegeterian', 'Eggetarian', 'Vegetarian', 'Vegetarian', 'Vegetarian', 'Vegetarian', 'Vegetarian', 'Vegetarian', 'High Protein Vegetarian', 'Gluten Free', 'Vegetarian', 'Vegetarian', 'No Onion No Garlic (Sattvic)', 'High Protein Vegetarian', 'Vegetarian', 'Vegetarian', 'Vegetarian', 'Vegetarian', 'Vegetarian', 'Diabetic Friendly', 'High Protein Non Vegetarian', 'Vegetarian', 'Vegetarian', 'Vegetarian', 'Vegetarian', 'Vegetarian', 'High Protein Non Vegetarian', 'High Protein Non Vegetarian', 'Vegetarian', 'Vegetarian', 'High Protein Vegetarian', 'High Protein Vegetarian', 'Vegetarian', 'High Protein Non Vegetarian', 'Vegetarian', 'Vegetarian', 'Vegetarian', 'Vegetarian', 'Vegetarian', 'High Protein Vegetarian', 'Vegetarian', 'Vegetarian', 'Vegetarian', 'Vegetarian', 'Vegetarian', 'Vegetarian', 'Vegetarian', 'Non Vegeterian', 'Eggetarian', 'Non Vegeterian', 'Vegetarian', 'No Onion No Garlic (Sattvic)', 'Non Vegeterian', 'Non Vegeterian', 'Vegetarian', 'Vegetarian', 'High Protein Vegetarian', 'Eggetarian', 'Eggetarian', 'Diabetic Friendly', 'Vegetarian', 'Vegetarian', 'Vegetarian', 'Diabetic Friendly', 'Vegetarian', 'Vegetarian', 'Vegetarian', 'Vegetarian', 'Vegetarian', 'High Protein Vegetarian', 'Vegetarian', 'Vegetarian', 'Sugar Free Diet', 'Vegetarian', 'Vegetarian', 'Eggetarian', 'Vegetarian', 'Vegetarian', 'Vegetarian', 'High Protein Vegetarian', 'Vegetarian', 'Vegetarian', 'Vegetarian', 'Eggetarian', 'Eggetarian', 'Vegetarian', 'High Protein Vegetarian', 'Vegetarian', 'No Onion No Garlic (Sattvic)', 'High Protein Non Vegetarian', 'Vegetarian', 'Vegetarian', 'Vegetarian', 'No Onion No Garlic (Sattvic)', 'Vegetarian', 'Vegetarian', 'High Protein Vegetarian', 'Vegetarian', 'Vegetarian', 'Vegetarian', 'Vegetarian', 'Vegetarian', 'Vegetarian', 'Non Vegeterian', 'Vegetarian', 'Vegetarian', 'Vegetarian', 'High Protein Vegetarian', 'Vegetarian', 'Gluten Free', 'Vegetarian', 'High Protein Vegetarian', 'High Protein Non Vegetarian', 'Vegetarian', 'Vegetarian', 'High Protein Non Vegetarian', 'Vegetarian', 'Vegetarian', 'Non Vegeterian', 'Vegetarian', 'Vegetarian', 'High Protein Vegetarian', 'High Protein Non Vegetarian', 'Vegetarian', 'Non Vegeterian', 'Vegetarian', 'Vegetarian', 'Vegetarian', 'High Protein Vegetarian', 'Vegetarian', 'Vegetarian', 'High Protein Vegetarian', 'Vegetarian', 'High Protein Non Vegetarian', 'Vegetarian', 'Vegetarian', 'Vegetarian', 'Non Vegeterian', 'Vegetarian', 'Vegetarian', 'Vegetarian', 'High Protein Non Vegetarian', 'Vegetarian', 'Vegetarian', 'Vegetarian', 'High Protein Non Vegetarian', 'Vegetarian', 'Vegetarian', 'Vegetarian', 'Vegetarian', 'Vegetarian', 'Vegetarian', 'Vegetarian', 'Diabetic Friendly', 'Vegetarian', 'Vegetarian', 'Vegetarian', 'Vegetarian', 'Vegetarian', 'Non Vegeterian', 'Vegetarian', 'Vegetarian', 'Vegetarian', 'Vegetarian', 'Vegetarian', 'Vegetarian', 'Eggetarian', 'Vegetarian', 'Non Vegeterian', 'Vegetarian', 'Vegetarian', 'Eggetarian', 'Diabetic Friendly', 'Vegetarian', 'Eggetarian', 'Vegetarian', 'No Onion No Garlic (Sattvic)', 'Non Vegeterian', 'Vegetarian', 'Vegetarian', 'Vegetarian', 'Vegetarian', 'Vegetarian', 'Vegetarian', 'Vegetarian', 'Vegetarian', 'Non Vegeterian', 'Vegetarian', 'Vegetarian', 'Vegetarian', 'Vegetarian', 'Vegetarian', 'Non Vegeterian', 'Vegetarian', 'Vegetarian', 'Vegetarian', 'Vegetarian', 'Vegetarian', 'Non Vegeterian', 'Vegetarian', 'Vegetarian', 'High Protein Vegetarian', 'Vegetarian', 'Vegetarian', 'Vegan', 'Vegetarian', 'Non Vegeterian', 'High Protein Vegetarian', 'Vegan', 'High Protein Non Vegetarian', 'High Protein Vegetarian', 'Vegetarian', 'Vegetarian', 'Vegetarian', 'High Protein Vegetarian', 'High Protein Vegetarian', 'Vegetarian', 'Vegetarian', 'Vegetarian', 'High Protein Vegetarian', 'Vegetarian', 'Non Vegeterian', 'Vegetarian', 'Vegetarian', 'Vegetarian', 'Vegetarian', 'Vegetarian', 'Vegetarian', 'Vegetarian', 'Vegetarian', 'Vegetarian', 'Vegetarian', 'Vegetarian', 'Vegetarian', 'Vegetarian', 'Vegetarian', 'Vegetarian', 'High Protein Vegetarian', 'Vegetarian', 'Vegetarian', 'Vegetarian', 'Diabetic Friendly', 'Vegetarian', 'Vegetarian', 'Vegetarian', 'Vegetarian', 'Vegetarian', 'Vegetarian', 'Vegetarian', 'Vegetarian', 'Vegetarian', 'Vegetarian', 'Vegetarian', 'Vegetarian', 'Vegetarian', 'Vegetarian', 'Vegetarian', 'High Protein Vegetarian', 'High Protein Vegetarian', 'High Protein Non Vegetarian', 'Vegetarian', 'Vegetarian', 'Vegetarian', 'Eggetarian', 'Vegetarian', 'Vegetarian', 'Diabetic Friendly', 'Vegetarian', 'Vegetarian', 'Vegetarian', 'High Protein Vegetarian', 'Vegetarian', 'Vegetarian', 'Vegetarian', 'Vegetarian', 'Vegetarian', 'Vegetarian', 'No Onion No Garlic (Sattvic)', 'Vegetarian', 'Vegetarian', 'Vegetarian', 'High Protein Non Vegetarian', 'Vegetarian', 'Vegetarian', 'Eggetarian', 'Vegetarian', 'Vegetarian', 'Vegetarian', 'Vegetarian', 'Vegetarian', 'Vegetarian', 'High Protein Vegetarian', 'Non Vegeterian', 'Vegetarian', 'Eggetarian', 'Vegetarian', 'Non Vegeterian', 'Vegetarian', 'Vegetarian', 'High Protein Vegetarian', 'No Onion No Garlic (Sattvic)', 'Vegetarian', 'Non Vegeterian', 'Eggetarian', 'Vegetarian', 'Vegetarian', 'High Protein Vegetarian', 'Vegetarian', 'Vegetarian', 'High Protein Vegetarian', 'Eggetarian', 'High Protein Vegetarian', 'Vegetarian', 'Vegetarian', 'Vegetarian', 'Vegetarian', 'Vegetarian', 'Vegetarian', 'Eggetarian', 'Vegetarian', 'Vegetarian', 'No Onion No Garlic (Sattvic)', 'Eggetarian', 'Non Vegeterian', 'Non Vegeterian', 'Eggetarian', 'Vegetarian', 'Vegetarian', 'Diabetic Friendly', 'Eggetarian', 'Vegetarian', 'Diabetic Friendly', 'Vegetarian', 'High Protein Non Vegetarian', 'Vegetarian', 'Eggetarian', 'Vegetarian', 'Vegetarian', 'Vegetarian', 'Vegetarian', 'Vegetarian', 'Vegetarian', 'Vegetarian', 'Vegetarian', 'High Protein Vegetarian', 'Vegetarian', 'Vegetarian', 'Vegetarian', 'Non Vegeterian', 'Vegetarian', 'Vegetarian', 'High Protein Vegetarian', 'Vegetarian', 'High Protein Vegetarian', 'Diabetic Friendly', 'Diabetic Friendly', 'Vegetarian', 'Vegetarian', 'Vegetarian', 'Eggetarian', 'Vegetarian', 'Vegetarian', 'Vegetarian', 'Vegetarian', 'Vegetarian', 'Vegetarian', 'Vegetarian', 'Vegetarian', 'Vegetarian', 'High Protein Vegetarian', 'Vegetarian', 'High Protein Vegetarian', 'Vegetarian', 'Eggetarian', 'Vegetarian', 'Vegetarian', 'Vegetarian', 'Non Vegeterian', 'High Protein Vegetarian', 'Vegetarian', 'Vegetarian', 'Vegetarian', 'Eggetarian', 'Vegetarian', 'Vegetarian', 'Vegetarian', 'High Protein Vegetarian', 'Vegetarian', 'Vegetarian', 'High Protein Vegetarian', 'Vegetarian', 'Vegetarian', 'Eggetarian', 'Vegetarian', 'Vegetarian', 'Vegetarian', 'Vegetarian', 'Vegetarian', 'Vegetarian', 'Vegetarian', 'Vegetarian', 'Vegetarian', 'High Protein Vegetarian', 'Vegetarian', 'Vegetarian', 'Vegetarian', 'Vegetarian', 'Diabetic Friendly', 'High Protein Vegetarian', 'Vegetarian', 'Vegetarian', 'Vegetarian', 'Vegetarian', 'Vegetarian', 'Vegetarian', 'Vegetarian', 'Vegetarian', 'Vegetarian', 'High Protein Non Vegetarian', 'Vegetarian', 'Vegetarian', 'Vegetarian', 'Vegetarian', 'Vegetarian', 'Vegetarian', 'Vegetarian', 'High Protein Vegetarian', 'Vegetarian', 'Non Vegeterian', 'Vegetarian', 'Vegetarian', 'Vegetarian', 'Vegetarian', 'Vegetarian', 'High Protein Non Vegetarian', 'High Protein Non Vegetarian', 'High Protein Non Vegetarian', 'High Protein Vegetarian', 'Vegetarian', 'Vegetarian', 'Eggetarian', 'Vegetarian', 'High Protein Vegetarian', 'Vegetarian', 'High Protein Vegetarian', 'Vegetarian', 'Vegetarian', 'Vegetarian', 'Vegetarian', 'Vegetarian', 'Vegetarian', 'Non Vegeterian', 'Vegetarian', 'Vegetarian', 'Vegetarian', 'Vegetarian', 'Vegetarian', 'Vegetarian', 'Vegetarian', 'Vegetarian', 'Vegetarian', 'Vegetarian', 'High Protein Vegetarian', 'Vegetarian', 'Vegetarian', 'Diabetic Friendly', 'Vegetarian', 'Vegetarian', 'High Protein Vegetarian', 'High Protein Non Vegetarian', 'Vegan', 'Non Vegeterian', 'Eggetarian', 'Vegetarian', 'Vegetarian', 'Vegetarian', 'High Protein Non Vegetarian', 'High Protein Non Vegetarian', 'Vegetarian', 'Diabetic Friendly', 'High Protein Vegetarian', 'High Protein Vegetarian', 'Vegetarian', 'Vegetarian', 'Vegetarian', 'Vegetarian', 'High Protein Vegetarian', 'High Protein Vegetarian', 'Vegetarian', 'Vegetarian', 'Vegetarian', 'Vegetarian', 'Vegetarian', 'Vegetarian', 'Vegetarian', 'Eggetarian', 'Diabetic Friendly', 'Vegetarian', 'Vegetarian', 'Vegetarian', 'Eggetarian', 'Vegetarian', 'Vegetarian', 'Eggetarian', 'Eggetarian', 'Vegetarian', 'Vegetarian', 'Vegetarian', 'Vegetarian', 'Vegetarian', 'Vegetarian', 'High Protein Vegetarian', 'Vegetarian', 'Vegetarian', 'Vegetarian', 'Vegetarian', 'Vegetarian', 'High Protein Non Vegetarian', 'Vegetarian', 'Vegetarian', 'Vegetarian', 'Vegetarian', 'Vegetarian', 'Vegetarian', 'Vegetarian', 'Non Vegeterian', 'Diabetic Friendly', 'Vegetarian', 'High Protein Vegetarian', 'Eggetarian', 'Vegetarian', 'Vegetarian', 'Vegetarian', 'Vegetarian', 'Vegetarian', 'Vegetarian', 'Vegetarian', 'Vegetarian', 'Non Vegeterian', 'Vegetarian', 'High Protein Vegetarian', 'Non Vegeterian', 'High Protein Non Vegetarian', 'High Protein Non Vegetarian', 'Vegetarian', 'Vegetarian', 'Eggetarian', 'Non Vegeterian', 'Vegetarian', 'Vegetarian', 'Vegetarian', 'Vegetarian', 'Diabetic Friendly', 'Vegetarian', 'Vegetarian', 'Vegetarian', 'Vegetarian', 'Vegetarian', 'Vegan', 'Non Vegeterian', 'Vegetarian', 'High Protein Vegetarian', 'No Onion No Garlic (Sattvic)', 'High Protein Non Vegetarian', 'Diabetic Friendly', 'Vegetarian', 'Vegan', 'Vegetarian', 'Vegetarian', 'High Protein Vegetarian', 'Sugar Free Diet', 'Vegetarian', 'Vegetarian', 'Vegetarian', 'Diabetic Friendly', 'High Protein Vegetarian', 'Vegetarian', 'High Protein Non Vegetarian', 'Eggetarian', 'Vegetarian', 'Vegetarian', 'Eggetarian', 'Vegetarian', 'Vegetarian', 'High Protein Vegetarian', 'Diabetic Friendly', 'Vegetarian', 'Vegetarian', 'Vegetarian', 'Non Vegeterian', 'Vegetarian', 'Vegetarian', 'Vegetarian', 'High Protein Vegetarian', 'Vegetarian', 'Eggetarian', 'Vegetarian', 'No Onion No Garlic (Sattvic)', 'Vegetarian', 'Vegetarian', 'Non Vegeterian', 'Vegetarian', 'High Protein Vegetarian', 'Vegetarian', 'Vegetarian', 'Diabetic Friendly', 'Vegetarian', 'Diabetic Friendly', 'Vegetarian', 'Vegetarian', 'Vegetarian', 'Vegetarian', 'Vegetarian', 'Vegetarian', 'Non Vegeterian', 'High Protein Vegetarian', 'Vegetarian', 'Vegetarian', 'Vegetarian', 'High Protein Non Vegetarian', 'High Protein Vegetarian', 'Non Vegeterian', 'Vegetarian', 'Non Vegeterian', 'Vegetarian', 'Vegetarian', 'Vegetarian', 'Vegetarian', 'Vegetarian', 'Vegetarian', 'High Protein Vegetarian', 'Vegetarian', 'High Protein Vegetarian', 'Vegetarian', 'Vegetarian', 'Vegetarian', 'Vegetarian', 'Vegetarian', 'Vegetarian', 'Vegetarian', 'Vegetarian', 'Diabetic Friendly', 'Vegetarian', 'Vegetarian', 'Vegetarian', 'Vegetarian', 'Vegetarian', 'Vegetarian', 'Vegetarian', 'Vegetarian', 'Vegetarian', 'Vegetarian', 'High Protein Non Vegetarian', 'High Protein Non Vegetarian', 'Vegetarian', 'Vegetarian', 'Vegetarian', 'Vegetarian', 'Non Vegeterian', 'Vegetarian', 'Vegetarian', 'Non Vegeterian', 'Vegetarian', 'Vegetarian', 'Vegetarian', 'Vegetarian', 'Eggetarian', 'Diabetic Friendly', 'High Protein Vegetarian', 'Eggetarian', 'Vegetarian', 'Vegetarian', 'Vegetarian', 'Vegetarian', 'High Protein Vegetarian', 'High Protein Vegetarian', 'High Protein Vegetarian', 'Vegetarian', 'Vegetarian', 'Vegetarian', 'Vegetarian', 'Vegetarian', 'Vegetarian', 'Vegetarian', 'High Protein Vegetarian', 'Vegetarian', 'Vegetarian', 'Vegetarian', 'Vegetarian', 'Vegetarian', 'High Protein Vegetarian', 'Vegetarian', 'Vegetarian', 'Vegetarian', 'Vegetarian', 'Vegetarian', 'Vegetarian', 'Vegetarian', 'Eggetarian', 'Vegetarian', 'Eggetarian', 'Vegetarian', 'Vegetarian', 'Vegetarian', 'Vegetarian', 'Vegetarian', 'Diabetic Friendly', 'Vegetarian', 'High Protein Non Vegetarian', 'Vegetarian', 'Non Vegeterian', 'Vegetarian', 'Vegetarian', 'Non Vegeterian', 'Vegetarian', 'Vegetarian', 'High Protein Vegetarian', 'Eggetarian', 'Vegetarian', 'Vegan', 'High Protein Vegetarian', 'Vegetarian', 'Vegetarian', 'High Protein Vegetarian', 'Vegetarian', 'Eggetarian', 'Vegetarian', 'Vegetarian', 'Vegetarian', 'Vegetarian', 'Vegetarian', 'Vegetarian', 'Vegetarian', 'Vegetarian', 'Vegetarian', 'Diabetic Friendly', 'Vegetarian', 'Vegetarian', 'Eggetarian', 'Vegetarian', 'Vegetarian', 'Vegetarian', 'Non Vegeterian', 'Non Vegeterian', 'Vegetarian', 'Diabetic Friendly', 'Vegetarian', 'Vegetarian', 'Vegetarian', 'Vegetarian', 'High Protein Non Vegetarian', 'Vegetarian', 'Vegetarian', 'Vegetarian', 'Eggetarian', 'Vegetarian', 'Vegetarian', 'Vegetarian', 'Vegetarian', 'Diabetic Friendly', 'Vegetarian', 'Eggetarian', 'Diabetic Friendly', 'Vegetarian', 'Vegetarian', 'Vegetarian', 'Vegetarian', 'No Onion No Garlic (Sattvic)', 'High Protein Non Vegetarian', 'Vegetarian', 'Vegetarian', 'Vegetarian', 'Vegetarian', 'Vegetarian', 'Vegetarian', 'Vegetarian', 'Vegetarian', 'Vegetarian', 'Non Vegeterian', 'Vegetarian', 'Vegetarian', 'Vegetarian', 'Vegetarian', 'Vegetarian', 'High Protein Vegetarian', 'High Protein Non Vegetarian', 'Vegetarian', 'Vegetarian', 'Non Vegeterian', 'Eggetarian', 'High Protein Vegetarian', 'High Protein Vegetarian', 'Vegetarian', 'Vegetarian', 'Vegetarian', 'Eggetarian', 'Vegetarian', 'Vegetarian', 'Vegetarian', 'Vegetarian', 'High Protein Vegetarian', 'Vegetarian', 'Vegetarian', 'Vegetarian', 'High Protein Vegetarian', 'Vegetarian', 'Diabetic Friendly', 'Vegetarian', 'Vegetarian', 'High Protein Vegetarian', 'Vegetarian', 'Vegetarian', 'High Protein Vegetarian', 'High Protein Vegetarian', 'Vegetarian', 'Vegetarian', 'Vegetarian', 'Vegetarian', 'High Protein Vegetarian', 'Vegetarian', 'Vegetarian', 'Vegetarian', 'High Protein Non Vegetarian', 'High Protein Non Vegetarian', 'Eggetarian', 'Diabetic Friendly', 'Non Vegeterian', 'Vegetarian', 'High Protein Vegetarian', 'Vegetarian', 'Vegetarian', 'High Protein Non Vegetarian', 'Vegetarian', 'Vegetarian', 'Eggetarian', 'Vegetarian', 'Vegetarian', 'Vegetarian', 'Vegetarian', 'Eggetarian', 'Vegetarian', 'Vegetarian', 'High Protein Vegetarian', 'Vegetarian', 'Eggetarian', 'Vegetarian', 'Vegetarian', 'Vegetarian', 'Vegetarian', 'Non Vegeterian', 'Vegetarian', 'High Protein Vegetarian', 'Vegetarian', 'Vegetarian', 'High Protein Vegetarian', 'Vegetarian', 'Eggetarian', 'Eggetarian', 'Vegetarian', 'Vegetarian', 'Vegetarian', 'Vegetarian', 'Vegetarian', 'Vegetarian', 'High Protein Vegetarian', 'Vegetarian', 'Vegetarian', 'Vegetarian', 'Non Vegeterian', 'High Protein Vegetarian', 'High Protein Vegetarian', 'High Protein Vegetarian', 'Vegetarian', 'High Protein Vegetarian', 'Vegetarian', 'High Protein Vegetarian', 'Vegetarian', 'High Protein Vegetarian', 'High Protein Vegetarian', 'Non Vegeterian', 'Vegetarian', 'Vegetarian', 'High Protein Non Vegetarian', 'Vegetarian', 'Vegetarian', 'Vegetarian', 'High Protein Non Vegetarian', 'Vegetarian', 'Vegetarian', 'Vegetarian', 'Vegetarian', 'Vegetarian', 'High Protein Non Vegetarian', 'Vegetarian', 'Eggetarian', 'Vegetarian', 'Non Vegeterian', 'Vegetarian', 'Vegetarian', 'Vegetarian', 'Vegetarian', 'Vegetarian', 'Vegetarian', 'Vegetarian', 'Vegetarian', 'Diabetic Friendly', 'Vegetarian', 'High Protein Vegetarian', 'High Protein Vegetarian', 'High Protein Vegetarian', 'Gluten Free', 'Vegetarian', 'Vegetarian', 'Vegetarian', 'Vegetarian', 'Vegetarian', 'Vegetarian', 'Vegetarian', 'Vegetarian', 'Vegetarian', 'Vegetarian', 'Non Vegeterian', 'Vegetarian', 'Vegan', 'High Protein Non Vegetarian', 'Eggetarian', 'Vegetarian', 'Vegetarian', 'Eggetarian', 'High Protein Vegetarian', 'High Protein Vegetarian', 'Vegetarian', 'Vegetarian', 'Vegetarian', 'Vegetarian', 'Vegetarian', 'High Protein Vegetarian', 'High Protein Vegetarian', 'Vegetarian', 'Vegetarian', 'Non Vegeterian', 'Vegetarian', 'Vegetarian', 'Vegetarian', 'No Onion No Garlic (Sattvic)', 'Vegetarian', 'Vegetarian', 'Vegetarian', 'Diabetic Friendly', 'Vegetarian', 'High Protein Non Vegetarian', 'Vegetarian', 'Vegetarian', 'Vegetarian', 'Vegetarian', 'High Protein Vegetarian', 'Vegetarian', 'Vegetarian', 'Vegan', 'Vegetarian', 'Vegetarian', 'Non Vegeterian', 'Eggetarian', 'Non Vegeterian', 'Vegetarian', 'Vegetarian', 'Vegetarian', 'Vegetarian', 'Vegetarian', 'Vegetarian', 'Vegetarian', 'Vegetarian', 'Non Vegeterian', 'Eggetarian', 'Vegetarian', 'Vegetarian', 'Vegetarian', 'Vegetarian', 'Vegetarian', 'Vegetarian', 'Non Vegeterian', 'Eggetarian', 'Vegetarian', 'Vegetarian', 'Vegetarian', 'Vegetarian', 'Vegetarian', 'Vegetarian', 'Diabetic Friendly', 'Diabetic Friendly', 'Eggetarian', 'Vegetarian', 'Vegetarian', 'Vegetarian', 'Eggetarian', 'Eggetarian', 'Vegetarian', 'Vegetarian', 'Vegetarian', 'Vegetarian', 'High Protein Non Vegetarian', 'Eggetarian', 'Vegetarian', 'Vegetarian', 'Vegetarian', 'Non Vegeterian', 'Vegetarian', 'Vegetarian', 'Vegetarian', 'Vegetarian', 'Vegetarian', 'Vegetarian', 'Vegetarian', 'Vegetarian', 'Vegetarian', 'Non Vegeterian', 'Non Vegeterian', 'Vegetarian', 'Vegetarian', 'High Protein Vegetarian', 'Vegan', 'Eggetarian', 'Vegetarian', 'Vegetarian', 'Vegetarian', 'Vegetarian', 'Vegetarian', 'Non Vegeterian', 'High Protein Vegetarian', 'High Protein Vegetarian', 'Vegetarian', 'Vegetarian', 'Non Vegeterian', 'Vegetarian', 'Vegetarian', 'Non Vegeterian', 'Vegetarian', 'Vegetarian', 'High Protein Vegetarian', 'Vegetarian', 'Diabetic Friendly', 'Vegetarian', 'High Protein Vegetarian', 'Vegetarian', 'Vegetarian', 'Eggetarian', 'Vegetarian', 'Vegetarian', 'Vegetarian', 'Vegetarian', 'Vegetarian', 'Vegetarian', 'Vegetarian', 'Non Vegeterian', 'Diabetic Friendly', 'Non Vegeterian', 'Vegetarian', 'High Protein Vegetarian', 'Vegan', 'High Protein Vegetarian', 'Non Vegeterian', 'Vegetarian', 'Vegetarian', 'Vegetarian', 'High Protein Vegetarian', 'Vegetarian', 'Non Vegeterian', 'Diabetic Friendly', 'Vegetarian', 'Eggetarian', 'Vegan', 'High Protein Non Vegetarian', 'Vegetarian', 'Non Vegeterian', 'High Protein Vegetarian', 'Vegetarian', 'Vegetarian', 'High Protein Vegetarian', 'High Protein Vegetarian', 'Non Vegeterian', 'High Protein Vegetarian', 'Vegetarian', 'Vegetarian', 'Vegetarian', 'Vegetarian', 'Vegetarian', 'Vegan', 'Vegetarian', 'Diabetic Friendly', 'Vegetarian', 'Vegetarian', 'Vegetarian', 'Vegetarian', 'Vegetarian', 'Vegetarian', 'High Protein Vegetarian', 'Eggetarian', 'Vegetarian', 'Vegetarian', 'Gluten Free', 'Non Vegeterian', 'High Protein Vegetarian', 'Vegetarian', 'Vegetarian', 'Vegan', 'Vegetarian', 'Vegetarian', 'Non Vegeterian', 'Non Vegeterian', 'High Protein Non Vegetarian', 'Vegetarian', 'High Protein Vegetarian', 'Vegetarian', 'High Protein Non Vegetarian', 'Vegetarian', 'Vegetarian', 'Non Vegeterian', 'High Protein Vegetarian', 'Vegetarian', 'Vegetarian', 'High Protein Vegetarian', 'High Protein Non Vegetarian', 'High Protein Non Vegetarian', 'Vegetarian', 'Vegetarian', 'Non Vegeterian', 'Vegetarian', 'Vegetarian', 'Diabetic Friendly', 'Vegetarian', 'Non Vegeterian', 'Vegetarian', 'Vegetarian', 'High Protein Vegetarian', 'Non Vegeterian', 'Vegetarian', 'Vegetarian', 'Vegan', 'Vegan', 'Vegetarian', 'Vegetarian', 'Eggetarian', 'Vegetarian', 'Vegetarian', 'Vegetarian', 'Vegetarian', 'Diabetic Friendly', 'Eggetarian', 'Vegetarian', 'Vegetarian', 'Eggetarian', 'Vegetarian', 'Vegetarian', 'Vegetarian', 'High Protein Vegetarian', 'Vegetarian', 'Diabetic Friendly', 'Non Vegeterian', 'Vegetarian', 'Non Vegeterian', 'Vegetarian', 'Diabetic Friendly', 'Vegetarian', 'Vegetarian', 'Vegetarian', 'No Onion No Garlic (Sattvic)', 'Vegetarian', 'Vegetarian', 'Non Vegeterian', 'Gluten Free', 'Vegetarian', 'Eggetarian', 'Vegetarian', 'Non Vegeterian', 'Diabetic Friendly', 'Vegetarian', 'High Protein Non Vegetarian', 'Vegetarian', 'Eggetarian', 'Vegetarian', 'Vegetarian', 'Vegetarian', 'Vegetarian', 'Vegetarian', 'Vegetarian', 'Vegetarian', 'Non Vegeterian', 'Vegetarian', 'Vegetarian', 'Vegetarian', 'Vegetarian', 'Vegetarian', 'High Protein Vegetarian', 'Vegetarian', 'Vegetarian', 'Vegetarian', 'Vegetarian', 'Vegetarian', 'High Protein Non Vegetarian', 'Vegetarian', 'Vegetarian', 'Diabetic Friendly', 'Vegetarian', 'Vegetarian', 'Vegetarian', 'High Protein Vegetarian', 'Vegetarian', 'Vegetarian', 'Vegetarian', 'Vegetarian', 'Eggetarian', 'High Protein Vegetarian', 'Vegetarian', 'No Onion No Garlic (Sattvic)', 'Vegetarian', 'Vegetarian', 'Non Vegeterian', 'Vegetarian', 'Vegetarian', 'Vegetarian', 'Vegetarian', 'High Protein Vegetarian', 'Vegetarian', 'Non Vegeterian', 'Non Vegeterian', 'Vegetarian', 'Vegetarian', 'Diabetic Friendly', 'Vegetarian', 'High Protein Vegetarian', 'Vegetarian', 'Vegetarian', 'Eggetarian', 'Vegetarian', 'Vegetarian', 'Vegetarian', 'Vegetarian', 'Vegetarian', 'Vegetarian', 'High Protein Vegetarian', 'Vegetarian', 'Vegetarian', 'Vegetarian', 'Vegetarian', 'Vegetarian', 'Vegetarian', 'High Protein Vegetarian', 'Vegetarian', 'Vegetarian', 'Vegetarian', 'Vegetarian', 'Vegetarian', 'Diabetic Friendly', 'Vegetarian', 'Vegetarian', 'Vegetarian', 'Vegetarian', 'High Protein Vegetarian', 'Gluten Free', 'Vegetarian', 'Vegetarian', 'Vegetarian', 'Vegetarian', 'Vegetarian', 'Vegetarian', 'Vegetarian', 'Eggetarian', 'Vegan', 'Vegetarian', 'Vegetarian', 'Vegetarian', 'Vegan', 'Vegetarian', 'High Protein Non Vegetarian', 'High Protein Vegetarian', 'Vegetarian', 'Non Vegeterian', 'Non Vegeterian', 'Vegetarian', 'Vegetarian', 'Vegetarian', 'Vegetarian', 'High Protein Vegetarian', 'Vegetarian', 'Non Vegeterian', 'Vegetarian', 'Vegetarian', 'Vegetarian', 'Vegetarian', 'Vegetarian', 'Vegetarian', 'Vegetarian', 'High Protein Non Vegetarian', 'Vegetarian', 'Vegetarian', 'High Protein Non Vegetarian', 'Eggetarian', 'High Protein Vegetarian', 'Gluten Free', 'Vegetarian', 'Vegetarian', 'Vegetarian', 'High Protein Non Vegetarian', 'Vegetarian', 'Vegetarian', 'Vegetarian', 'Vegan', 'Vegetarian', 'Vegetarian', 'Non Vegeterian', 'Eggetarian', 'Eggetarian', 'Vegetarian', 'Vegetarian', 'Vegetarian', 'High Protein Vegetarian', 'Vegetarian', 'Vegetarian', 'Vegetarian', 'High Protein Vegetarian', 'Vegetarian', 'Vegetarian', 'High Protein Vegetarian', 'Vegetarian', 'Vegetarian', 'Vegetarian', 'Vegetarian', 'Gluten Free', 'Vegetarian', 'Vegetarian', 'Vegetarian', 'High Protein Vegetarian', 'Non Vegeterian', 'Vegetarian', 'Vegetarian', 'Eggetarian', 'Non Vegeterian', 'Vegetarian', 'Vegetarian', 'Vegetarian', 'Vegetarian', 'Vegetarian', 'Vegetarian', 'Eggetarian', 'Vegetarian', 'Vegetarian', 'Vegetarian', 'Vegetarian', 'Vegetarian', 'Non Vegeterian', 'Vegetarian', 'Diabetic Friendly', 'Non Vegeterian', 'Vegetarian', 'Vegetarian', 'Vegetarian', 'Gluten Free', 'Vegetarian', 'Non Vegeterian', 'Vegetarian', 'Vegetarian', 'Vegetarian', 'Vegetarian', 'Vegetarian', 'Vegetarian', 'Vegetarian', 'Vegetarian', 'Vegetarian', 'Vegetarian', 'Vegetarian', 'Vegetarian', 'Vegetarian', 'Vegetarian', 'Vegetarian', 'Vegetarian', 'Vegetarian', 'Vegetarian', 'High Protein Non Vegetarian', 'Non Vegeterian', 'No Onion No Garlic (Sattvic)', 'Vegetarian', 'Eggetarian', 'Vegetarian', 'Vegetarian', 'Vegetarian', 'Vegetarian', 'High Protein Vegetarian', 'Vegetarian', 'Vegetarian', 'High Protein Non Vegetarian', 'Vegetarian', 'Vegetarian', 'Vegetarian', 'High Protein Vegetarian', 'Non Vegeterian', 'Vegetarian', 'Vegetarian', 'Vegetarian', 'Vegetarian', 'Vegetarian', 'Vegetarian', 'Vegetarian', 'Vegetarian', 'Vegetarian', 'Eggetarian', 'Vegetarian', 'Vegetarian', 'Vegetarian', 'Vegetarian', 'Vegetarian', 'Diabetic Friendly', 'High Protein Vegetarian', 'Vegetarian', 'Vegetarian', 'Diabetic Friendly', 'Eggetarian', 'Vegetarian', 'Vegetarian', 'Vegetarian', 'Vegetarian', 'Vegetarian', 'Non Vegeterian', 'Vegetarian', 'Vegetarian', 'High Protein Non Vegetarian', 'Vegetarian', 'Vegetarian', 'Vegetarian', 'High Protein Vegetarian', 'Vegetarian', 'Vegetarian', 'High Protein Vegetarian', 'Vegetarian', 'Vegetarian', 'Non Vegeterian', 'Non Vegeterian', 'High Protein Vegetarian', 'Eggetarian', 'Vegetarian', 'Vegetarian', 'Vegetarian', 'Vegetarian', 'Vegetarian', 'Vegetarian', 'Vegetarian', 'Vegetarian', 'Vegetarian', 'Non Vegeterian', 'Vegetarian', 'Vegetarian', 'Vegetarian', 'Vegetarian', 'Vegetarian', 'Vegetarian', 'High Protein Vegetarian', 'Vegetarian', 'Vegetarian', 'Vegetarian', 'Vegetarian', 'Vegetarian', 'Vegetarian', 'Vegetarian', 'Vegetarian', 'Vegetarian', 'Vegetarian', 'Vegetarian', 'Vegetarian', 'High Protein Vegetarian', 'Vegetarian', 'High Protein Vegetarian', 'High Protein Vegetarian', 'Eggetarian', 'Vegan', 'High Protein Vegetarian', 'Non Vegeterian', 'Non Vegeterian', 'Vegetarian', 'High Protein Vegetarian', 'Vegetarian', 'Vegetarian', 'High Protein Vegetarian', 'Vegetarian', 'Vegetarian', 'High Protein Vegetarian', 'High Protein Vegetarian', 'Vegetarian', 'High Protein Vegetarian', 'Non Vegeterian', 'Vegetarian', 'Vegetarian', 'Vegetarian', 'High Protein Non Vegetarian', 'Vegetarian', 'Vegetarian', 'Vegetarian', 'Vegetarian', 'Vegetarian', 'Vegetarian', 'Vegetarian', 'Eggetarian', 'No Onion No Garlic (Sattvic)', 'Vegetarian', 'Vegetarian', 'Vegetarian', 'Vegetarian', 'Vegetarian', 'Vegetarian', 'Vegetarian', 'Vegetarian', 'Non Vegeterian', 'Vegetarian', 'Vegetarian', 'Vegetarian', 'Vegetarian', 'Vegetarian', 'Vegetarian', 'Vegetarian', 'Vegetarian', 'Vegetarian', 'High Protein Vegetarian', 'Eggetarian', 'Vegetarian', 'Vegetarian', 'Vegetarian', 'Vegetarian', 'High Protein Vegetarian', 'Vegetarian', 'Vegetarian', 'Vegetarian', 'Vegetarian', 'Vegetarian', 'Vegetarian', 'Vegetarian', 'Non Vegeterian', 'Vegetarian', 'Vegetarian', 'High Protein Non Vegetarian', 'Vegetarian', 'Vegetarian', 'Vegetarian', 'Vegetarian', 'Vegetarian', 'Non Vegeterian', 'High Protein Vegetarian', 'Vegetarian', 'Vegetarian', 'Diabetic Friendly', 'Eggetarian', 'Eggetarian', 'Vegetarian', 'Vegetarian', 'Vegetarian', 'Vegetarian', 'Vegetarian', 'Gluten Free', 'Vegetarian', 'Vegetarian', 'Vegetarian', 'Vegetarian', 'No Onion No Garlic (Sattvic)', 'Vegetarian', 'Vegetarian', 'Vegetarian', 'High Protein Vegetarian', 'Vegetarian', 'Vegetarian', 'Vegetarian', 'Vegetarian', 'Non Vegeterian', 'Diabetic Friendly', 'High Protein Vegetarian', 'Eggetarian', 'Vegetarian', 'Non Vegeterian', 'Non Vegeterian', 'Vegetarian', 'Vegan', 'Vegetarian', 'Vegetarian', 'Vegetarian', 'Vegetarian', 'Vegetarian', 'Vegetarian', 'Vegetarian', 'Vegetarian', 'Vegetarian', 'Vegetarian', 'No Onion No Garlic (Sattvic)', 'Vegetarian', 'Gluten Free', 'Vegetarian', 'Vegetarian', 'Eggetarian', 'High Protein Vegetarian', 'High Protein Vegetarian', 'Vegetarian', 'Vegetarian', 'High Protein Vegetarian', 'Vegetarian', 'High Protein Vegetarian', 'Vegetarian', 'High Protein Non Vegetarian', 'Vegetarian', 'Vegetarian', 'Vegetarian', 'High Protein Vegetarian', 'Non Vegeterian', 'Vegetarian', 'Vegetarian', 'Vegetarian', 'Gluten Free', 'Vegetarian', 'Vegetarian', 'High Protein Vegetarian', 'Vegetarian', 'Eggetarian', 'Vegetarian', 'High Protein Vegetarian', 'Vegetarian', 'Vegetarian', 'Eggetarian', 'Vegetarian', 'Vegetarian', 'Vegetarian', 'Vegetarian', 'Gluten Free', 'Vegetarian', 'Vegetarian', 'Vegetarian', 'High Protein Non Vegetarian', 'High Protein Vegetarian', 'High Protein Non Vegetarian', 'High Protein Non Vegetarian', 'Vegetarian', 'Gluten Free', 'High Protein Vegetarian', 'Vegetarian', 'Eggetarian', 'Vegetarian', 'Vegetarian', 'High Protein Vegetarian', 'High Protein Vegetarian', 'Vegetarian', 'Vegetarian', 'Vegetarian', 'Vegetarian', 'Non Vegeterian', 'Vegetarian', 'High Protein Vegetarian', 'Vegetarian', 'Vegetarian', 'High Protein Vegetarian', 'Vegetarian', 'High Protein Vegetarian', 'Eggetarian', 'High Protein Vegetarian', 'Vegetarian', 'Vegetarian', 'Vegetarian', 'Vegetarian', 'Vegetarian', 'Vegetarian', 'Vegetarian', 'High Protein Non Vegetarian', 'High Protein Vegetarian', 'High Protein Vegetarian', 'Vegetarian', 'Vegetarian', 'Vegetarian', 'Vegetarian', 'High Protein Non Vegetarian', 'Vegetarian', 'Non Vegeterian', 'Vegetarian', 'Vegetarian', 'Vegetarian', 'Vegetarian', 'Vegetarian', 'Non Vegeterian', 'High Protein Vegetarian', 'Vegetarian', 'Non Vegeterian', 'High Protein Non Vegetarian', 'High Protein Non Vegetarian', 'Vegetarian', 'Vegetarian', 'Vegetarian', 'Vegetarian', 'Vegetarian', 'Eggetarian', 'Vegetarian', 'Vegetarian', 'Vegetarian', 'High Protein Vegetarian', 'Eggetarian', 'Vegan', 'Vegetarian', 'Vegetarian', 'Vegetarian', 'Vegetarian', 'Vegetarian', 'Vegetarian', 'Eggetarian', 'Vegetarian', 'Vegetarian', 'Vegetarian', 'High Protein Vegetarian', 'High Protein Vegetarian', 'Vegetarian', 'Vegetarian', 'Vegetarian', 'Vegetarian', 'Vegetarian', 'Vegetarian', 'Vegetarian', 'Vegetarian', 'Vegetarian', 'High Protein Non Vegetarian', 'Eggetarian', 'Vegetarian', 'Vegetarian', 'Vegetarian', 'Diabetic Friendly', 'Vegetarian', 'Vegetarian', 'Vegetarian', 'Vegetarian', 'No Onion No Garlic (Sattvic)', 'Vegetarian', 'Vegetarian', 'Vegetarian', 'Vegetarian', 'High Protein Vegetarian', 'Vegetarian', 'Vegetarian', 'High Protein Vegetarian', 'Vegetarian', 'Vegetarian', 'Diabetic Friendly', 'Vegetarian', 'Vegetarian', 'Vegetarian', 'Vegetarian', 'Vegetarian', 'Vegetarian', 'Vegetarian', 'Vegetarian', 'Vegetarian', 'Eggetarian', 'Eggetarian', 'Non Vegeterian', 'Non Vegeterian', 'Vegetarian', 'Vegetarian', 'Vegetarian', 'Vegetarian', 'Vegetarian', 'High Protein Vegetarian', 'High Protein Vegetarian', 'Vegetarian', 'Vegetarian', 'Vegetarian', 'High Protein Vegetarian', 'Non Vegeterian', 'High Protein Non Vegetarian', 'Vegetarian', 'Vegetarian', 'Vegetarian', 'Vegetarian', 'Vegetarian', 'Non Vegeterian', 'Diabetic Friendly', 'Vegan', 'High Protein Vegetarian', 'Vegetarian', 'Vegetarian', 'Vegetarian', 'Vegetarian', 'Vegetarian', 'Vegetarian', 'High Protein Vegetarian', 'Vegetarian', 'Vegetarian', 'High Protein Non Vegetarian', 'High Protein Vegetarian', 'Vegetarian', 'Vegetarian', 'Vegetarian', 'Eggetarian', 'Vegetarian', 'High Protein Vegetarian', 'Vegetarian', 'Vegetarian', 'Vegetarian', 'Vegetarian', 'Eggetarian', 'Vegetarian', 'Vegetarian', 'High Protein Vegetarian', 'Vegetarian', 'Non Vegeterian', 'Vegetarian', 'Diabetic Friendly', 'Vegetarian', 'Vegetarian', 'Vegetarian', 'Vegetarian', 'Vegetarian', 'Diabetic Friendly', 'High Protein Non Vegetarian', 'Vegetarian', 'Vegetarian', 'Eggetarian', 'Vegetarian', 'Vegetarian', 'Vegetarian', 'High Protein Non Vegetarian', 'Eggetarian', 'Vegetarian', 'Vegetarian', 'Vegetarian', 'High Protein Vegetarian', 'Eggetarian', 'Vegetarian', 'High Protein Vegetarian', 'Vegetarian', 'Vegetarian', 'Vegetarian', 'Vegetarian', 'Vegetarian', 'Vegetarian', 'Vegetarian', 'Vegetarian', 'Vegetarian', 'Vegetarian', 'Vegan', 'High Protein Vegetarian', 'High Protein Vegetarian', 'High Protein Vegetarian', 'High Protein Non Vegetarian', 'Vegetarian', 'Vegetarian', 'Vegetarian', 'Vegetarian', 'Vegetarian', 'Eggetarian', 'Vegetarian', 'Vegetarian', 'Diabetic Friendly', 'Non Vegeterian', 'Vegetarian', 'Vegetarian', 'Eggetarian', 'Vegetarian', 'Vegetarian', 'Non Vegeterian', 'Eggetarian', 'High Protein Vegetarian', 'Vegetarian', 'Vegetarian', 'Vegetarian', 'High Protein Vegetarian', 'Vegetarian', 'Vegetarian', 'Vegetarian', 'Vegetarian', 'Vegetarian', 'Vegetarian', 'Vegetarian', 'Vegetarian', 'Vegetarian', 'Vegetarian', 'Diabetic Friendly', 'Vegetarian', 'Vegetarian', 'Vegetarian', 'Vegetarian', 'Vegetarian', 'Vegetarian', 'Vegetarian', 'Non Vegeterian', 'Vegetarian', 'Vegetarian', 'Vegetarian', 'High Protein Vegetarian', 'Vegetarian', 'Vegetarian', 'Vegetarian', 'Vegetarian', 'Vegetarian', 'Vegetarian', 'Vegetarian', 'High Protein Vegetarian', 'Vegetarian', 'Vegetarian', 'Vegetarian', 'Vegetarian', 'Vegetarian', 'Diabetic Friendly', 'Vegetarian', 'Vegetarian', 'Vegetarian', 'Vegetarian', 'Vegetarian', 'Vegetarian', 'Vegetarian', 'Vegetarian', 'Vegetarian', 'Vegetarian', 'Non Vegeterian', 'Non Vegeterian', 'Non Vegeterian', 'Vegetarian', 'Vegetarian', 'Vegetarian', 'Vegetarian', 'High Protein Vegetarian', 'Eggetarian', 'High Protein Vegetarian', 'Non Vegeterian', 'No Onion No Garlic (Sattvic)', 'High Protein Vegetarian', 'Non Vegeterian', 'Vegetarian', 'Vegetarian', 'Vegetarian', 'Eggetarian', 'High Protein Non Vegetarian', 'Vegetarian', 'Vegetarian', 'Eggetarian', 'Vegetarian', 'Vegetarian', 'Diabetic Friendly', 'Vegetarian', 'High Protein Non Vegetarian', 'Vegetarian', 'Vegetarian', 'Vegetarian', 'Vegetarian', 'Vegetarian', 'Vegetarian', 'Vegetarian', 'High Protein Non Vegetarian', 'Vegetarian', 'Vegetarian', 'No Onion No Garlic (Sattvic)', 'Vegetarian', 'Vegetarian', 'No Onion No Garlic (Sattvic)', 'Vegetarian', 'Vegetarian', 'Vegetarian', 'Vegetarian', 'High Protein Vegetarian', 'Vegetarian', 'Non Vegeterian', 'Vegetarian', 'Vegetarian', 'Vegetarian', 'High Protein Vegetarian', 'Vegetarian', 'Vegetarian', 'Vegetarian', 'Vegetarian', 'Vegetarian', 'Vegetarian', 'Vegetarian', 'Vegetarian', 'Eggetarian', 'Vegetarian', 'Vegetarian', 'Vegetarian', 'Vegetarian', 'Vegetarian', 'Non Vegeterian', 'Vegetarian', 'Vegetarian', 'Vegetarian', 'Vegetarian', 'Vegetarian', 'Vegetarian', 'Vegetarian', 'Vegetarian', 'High Protein Vegetarian', 'Vegetarian', 'Vegetarian', 'Vegetarian', 'Gluten Free', 'Non Vegeterian', 'Vegetarian', 'High Protein Vegetarian', 'Vegetarian', 'Vegetarian', 'High Protein Vegetarian', 'Vegetarian', 'Vegetarian', 'Vegetarian', 'Vegetarian', 'Non Vegeterian', 'Non Vegeterian', 'Vegetarian', 'Vegetarian', 'Vegetarian', 'Vegetarian', 'Vegetarian', 'Non Vegeterian', 'Diabetic Friendly', 'Vegetarian', 'Vegetarian', 'High Protein Vegetarian', 'Vegetarian', 'Vegetarian', 'High Protein Vegetarian', 'Vegetarian', 'Vegetarian', 'Non Vegeterian', 'Vegetarian', 'High Protein Vegetarian', 'High Protein Non Vegetarian', 'High Protein Vegetarian', 'Vegetarian', 'Vegetarian', 'Vegetarian', 'Vegetarian', 'Vegetarian', 'Vegetarian', 'Vegetarian', 'Vegetarian', 'Vegetarian', 'Vegetarian', 'Vegetarian', 'Vegetarian', 'Non Vegeterian', 'Vegetarian', 'Diabetic Friendly', 'Vegetarian', 'High Protein Non Vegetarian', 'Vegetarian', 'Gluten Free', 'Vegetarian', 'Vegetarian', 'Vegetarian', 'Vegetarian', 'Vegetarian', 'Vegetarian', 'Vegetarian', 'Non Vegeterian', 'Vegetarian', 'Vegetarian', 'Vegetarian', 'Vegetarian', 'Vegetarian', 'Non Vegeterian', 'Vegetarian', 'Non Vegeterian', 'Vegetarian', 'Vegetarian', 'Vegetarian', 'Diabetic Friendly', 'Vegetarian', 'Vegetarian', 'Vegetarian', 'High Protein Vegetarian', 'Eggetarian', 'Vegetarian', 'Vegetarian', 'Vegetarian', 'High Protein Vegetarian', 'Vegetarian', 'Vegetarian', 'High Protein Vegetarian', 'Vegetarian', 'Eggetarian', 'Vegetarian', 'Non Vegeterian', 'High Protein Vegetarian', 'High Protein Vegetarian', 'Vegetarian', 'Vegetarian', 'Vegetarian', 'High Protein Vegetarian', 'Vegetarian', 'Vegetarian', 'Eggetarian', 'Vegetarian', 'Vegetarian', 'Diabetic Friendly', 'Vegetarian', 'High Protein Non Vegetarian', 'Vegetarian', 'Vegetarian', 'Vegetarian', 'High Protein Vegetarian', 'High Protein Vegetarian', 'Vegetarian', 'Vegetarian', 'Vegetarian', 'Diabetic Friendly', 'Vegetarian', 'High Protein Non Vegetarian', 'Diabetic Friendly', 'Vegetarian', 'High Protein Vegetarian', 'Vegetarian', 'Diabetic Friendly', 'Vegetarian', 'Vegetarian', 'No Onion No Garlic (Sattvic)', 'Vegetarian', 'Vegetarian', 'Vegetarian', 'Vegetarian', 'Vegetarian', 'Vegetarian', 'Non Vegeterian', 'Vegetarian', 'Vegetarian', 'High Protein Vegetarian', 'Vegetarian', 'Vegetarian', 'No Onion No Garlic (Sattvic)', 'Vegetarian', 'Vegetarian', 'Vegetarian', 'Non Vegeterian', 'No Onion No Garlic (Sattvic)', 'Vegetarian', 'Non Vegeterian', 'Vegetarian', 'Vegetarian', 'Vegetarian', 'Vegetarian', 'Vegetarian', 'Vegetarian', 'High Protein Vegetarian', 'Vegetarian', 'Vegetarian', 'Vegetarian', 'Vegetarian', 'Vegetarian', 'Vegetarian', 'Vegetarian', 'Vegetarian', 'Vegetarian', 'Vegetarian', 'Vegetarian', 'Vegetarian', 'Vegetarian', 'Vegetarian', 'Vegetarian', 'High Protein Vegetarian', 'Non Vegeterian', 'Non Vegeterian', 'Vegetarian', 'Vegetarian', 'Vegetarian', 'Vegetarian', 'Vegetarian', 'Vegetarian', 'High Protein Vegetarian', 'Vegetarian', 'Vegetarian', 'Vegetarian', 'Eggetarian', 'Vegetarian', 'Vegetarian', 'High Protein Vegetarian', 'Non Vegeterian', 'Vegetarian', 'Vegetarian', 'High Protein Vegetarian', 'Vegetarian', 'Vegetarian', 'Vegetarian', 'Vegetarian', 'Vegetarian', 'Vegetarian', 'High Protein Vegetarian', 'Vegetarian', 'Vegetarian', 'Vegetarian', 'Non Vegeterian', 'Vegetarian', 'Vegetarian', 'High Protein Vegetarian', 'Vegetarian', 'Vegetarian', 'High Protein Vegetarian', 'Vegetarian', 'Vegetarian', 'Non Vegeterian', 'Vegetarian', 'High Protein Vegetarian', 'Vegan', 'Vegetarian', 'Vegetarian', 'Diabetic Friendly', 'Vegetarian', 'Vegetarian', 'Vegetarian', 'Vegetarian', 'Vegetarian', 'Vegetarian', 'Vegetarian', 'High Protein Vegetarian', 'Vegetarian', 'Vegetarian', 'Non Vegeterian', 'Vegetarian', 'Vegan', 'Non Vegeterian', 'High Protein Vegetarian', 'Vegetarian', 'High Protein Vegetarian', 'Vegetarian', 'No Onion No Garlic (Sattvic)', 'Vegetarian', 'Vegetarian', 'Vegetarian', 'High Protein Vegetarian', 'Vegetarian', 'Vegetarian', 'Vegetarian', 'High Protein Vegetarian', 'Vegetarian', 'Vegetarian', 'Vegetarian', 'Vegetarian', 'Vegetarian', 'Vegetarian', 'Eggetarian', 'Vegetarian', 'Vegetarian', 'Vegetarian', 'Vegetarian', 'Vegetarian', 'Vegetarian', 'Vegetarian', 'Non Vegeterian', 'Vegetarian', 'High Protein Vegetarian', 'Vegetarian', 'Vegetarian', 'Eggetarian', 'Vegetarian', 'Vegetarian', 'Vegetarian', 'Vegetarian', 'Vegetarian', 'Vegetarian', 'High Protein Vegetarian', 'Vegetarian', 'Eggetarian', 'Vegetarian', 'High Protein Vegetarian', 'High Protein Vegetarian', 'Non Vegeterian', 'Vegetarian', 'Vegetarian', 'Vegetarian', 'Diabetic Friendly', 'Vegetarian', 'Vegetarian', 'Vegetarian', 'High Protein Vegetarian', 'Vegetarian', 'Vegetarian', 'Vegetarian', 'Vegetarian', 'Vegetarian', 'High Protein Vegetarian', 'Vegetarian', 'Vegetarian', 'High Protein Vegetarian', 'High Protein Vegetarian', 'Non Vegeterian', 'Vegetarian', 'Vegetarian', 'High Protein Non Vegetarian', 'Vegetarian', 'Vegan', 'Vegetarian', 'Vegetarian', 'Vegetarian', 'Vegetarian', 'Vegetarian', 'Vegetarian', 'Vegetarian', 'Vegetarian', 'Diabetic Friendly', 'Vegetarian', 'Vegetarian', 'Vegetarian', 'Vegetarian', 'Vegetarian', 'Vegetarian', 'Vegetarian', 'Vegetarian', 'High Protein Vegetarian', 'Vegetarian', 'Diabetic Friendly', 'High Protein Vegetarian', 'Vegetarian', 'High Protein Vegetarian', 'Vegetarian', 'Non Vegeterian', 'Vegetarian', 'Gluten Free', 'Diabetic Friendly', 'Vegetarian', 'Vegetarian', 'Vegetarian', 'High Protein Vegetarian', 'Vegetarian', 'Vegetarian', 'High Protein Non Vegetarian', 'Vegetarian', 'Vegetarian', 'Eggetarian', 'Vegetarian', 'Vegetarian', 'Vegetarian', 'High Protein Vegetarian', 'Vegetarian', 'Vegetarian', 'Non Vegeterian', 'Vegetarian', 'Non Vegeterian', 'Vegetarian', 'Vegetarian', 'Vegetarian', 'Vegetarian', 'Vegetarian', 'Non Vegeterian', 'Non Vegeterian', 'Vegetarian', 'Vegetarian', 'High Protein Vegetarian', 'High Protein Vegetarian', 'Vegetarian', 'High Protein Non Vegetarian', 'Vegetarian', 'Vegetarian', 'Vegetarian', 'Vegetarian', 'Eggetarian', 'Non Vegeterian', 'Vegetarian', 'Vegetarian', 'Vegetarian', 'Diabetic Friendly', 'High Protein Vegetarian', 'Non Vegeterian', 'Vegetarian', 'Non Vegeterian', 'Vegetarian', 'Vegetarian', 'Vegetarian', 'Vegetarian', 'Vegetarian', 'Vegetarian', 'High Protein Vegetarian', 'Vegetarian', 'Vegetarian', 'Vegetarian', 'Vegetarian', 'Vegetarian', 'Vegetarian', 'Diabetic Friendly', 'Vegetarian', 'High Protein Vegetarian', 'High Protein Non Vegetarian', 'Vegetarian', 'High Protein Vegetarian', 'Vegetarian', 'High Protein Non Vegetarian', 'Vegetarian', 'Vegetarian', 'Vegetarian', 'Vegetarian', 'Vegetarian', 'Vegetarian', 'High Protein Vegetarian', 'Vegetarian', 'Vegetarian', 'High Protein Vegetarian', 'Vegetarian', 'Vegetarian', 'Diabetic Friendly', 'Vegetarian', 'Eggetarian', 'Vegetarian', 'Vegetarian', 'Vegetarian', 'Vegetarian', 'Vegetarian', 'Vegetarian', 'Vegetarian', 'Eggetarian', 'Vegetarian', 'Non Vegeterian', 'High Protein Vegetarian', 'Vegetarian', 'Non Vegeterian', 'Vegan', 'Vegetarian', 'Vegetarian', 'Vegetarian', 'Vegetarian', 'Vegetarian', 'High Protein Vegetarian', 'High Protein Vegetarian', 'Vegetarian', 'Vegetarian', 'Non Vegeterian', 'High Protein Vegetarian', 'Non Vegeterian', 'Vegetarian', 'Vegetarian', 'Vegetarian', 'Vegetarian', 'Eggetarian', 'High Protein Vegetarian', 'Vegetarian', 'Vegetarian', 'High Protein Vegetarian', 'Diabetic Friendly', 'Diabetic Friendly', 'Vegetarian', 'Vegetarian', 'Vegetarian', 'High Protein Vegetarian', 'Vegetarian', 'Vegetarian', 'Vegetarian', 'Vegetarian', 'Vegetarian', 'Vegetarian', 'Vegetarian', 'High Protein Non Vegetarian', 'Vegetarian', 'Vegetarian', 'Eggetarian', 'Diabetic Friendly', 'Vegetarian', 'Vegetarian', 'High Protein Non Vegetarian', 'Vegetarian', 'High Protein Vegetarian', 'Sugar Free Diet', 'Non Vegeterian', 'Eggetarian', 'Eggetarian', 'Vegetarian', 'Vegetarian', 'High Protein Vegetarian', 'Vegetarian', 'Vegetarian', 'High Protein Vegetarian', 'Vegetarian', 'Vegetarian', 'Vegetarian', 'Vegetarian', 'Vegetarian', 'High Protein Vegetarian', 'Vegetarian', 'Vegetarian', 'Vegetarian', 'Eggetarian', 'High Protein Vegetarian', 'Vegetarian', 'Vegetarian', 'Vegetarian', 'Vegetarian', 'Eggetarian', 'Vegetarian', 'High Protein Vegetarian', 'Vegetarian', 'Vegetarian', 'Vegetarian', 'Vegetarian', 'Vegetarian', 'Vegetarian', 'Vegetarian', 'Vegetarian', 'Eggetarian', 'Vegetarian', 'Vegetarian', 'High Protein Vegetarian', 'Vegetarian', 'Non Vegeterian', 'Vegetarian', 'Vegetarian', 'Vegetarian', 'Vegetarian', 'Vegetarian', 'Non Vegeterian', 'Vegetarian', 'Vegetarian', 'Vegetarian', 'Vegetarian', 'Vegetarian', 'Vegetarian', 'Vegetarian', 'Vegetarian', 'Diabetic Friendly', 'Vegetarian', 'Vegetarian', 'Vegetarian', 'Vegetarian', 'Vegetarian', 'Vegetarian', 'Vegetarian', 'Vegetarian', 'Vegetarian', 'Vegetarian', 'High Protein Vegetarian', 'Vegetarian', 'High Protein Vegetarian', 'High Protein Vegetarian', 'High Protein Vegetarian', 'Vegetarian', 'Vegetarian', 'High Protein Non Vegetarian', 'Vegetarian', 'Vegetarian', 'Vegetarian', 'Vegetarian', 'High Protein Vegetarian', 'High Protein Vegetarian', 'Vegetarian', 'Vegetarian', 'Vegetarian', 'Diabetic Friendly', 'Diabetic Friendly', 'Vegetarian', 'Vegetarian', 'Vegetarian', 'Eggetarian', 'Vegan', 'Vegetarian', 'Vegetarian', 'Vegetarian', 'Vegetarian', 'Vegetarian', 'Vegetarian', 'High Protein Vegetarian', 'Vegetarian', 'Vegetarian', 'Vegetarian', 'Vegetarian', 'Vegetarian', 'Non Vegeterian', 'High Protein Vegetarian', 'Non Vegeterian', 'High Protein Vegetarian', 'Vegetarian', 'Vegetarian', 'Vegetarian', 'Vegetarian', 'Vegetarian', 'Vegetarian', 'Vegetarian', 'High Protein Vegetarian', 'Vegetarian', 'Vegetarian', 'Vegetarian', 'High Protein Non Vegetarian', 'Vegetarian', 'Non Vegeterian', 'Vegetarian', 'Eggetarian', 'Vegetarian', 'Vegetarian', 'Diabetic Friendly', 'Vegetarian', 'Vegetarian', 'High Protein Vegetarian', 'Vegetarian', 'Gluten Free', 'Vegetarian', 'Vegetarian', 'Eggetarian', 'Vegetarian', 'Vegetarian', 'Non Vegeterian', 'Vegetarian', 'Vegetarian', 'High Protein Non Vegetarian', 'High Protein Vegetarian', 'Vegetarian', 'Vegetarian', 'High Protein Non Vegetarian', 'Vegetarian', 'Vegetarian', 'Vegetarian', 'High Protein Non Vegetarian', 'Vegetarian', 'High Protein Vegetarian', 'High Protein Vegetarian', 'Vegetarian', 'Vegetarian', 'Vegetarian', 'Vegetarian', 'Vegetarian', 'Non Vegeterian', 'Vegetarian', 'Vegetarian', 'No Onion No Garlic (Sattvic)', 'No Onion No Garlic (Sattvic)', 'No Onion No Garlic (Sattvic)', 'Vegetarian', 'Vegetarian', 'Vegetarian', 'High Protein Vegetarian', 'Vegetarian', 'High Protein Vegetarian', 'Vegetarian', 'Vegetarian', 'Eggetarian', 'Vegetarian', 'Vegetarian', 'Vegetarian', 'Diabetic Friendly', 'Vegetarian', 'Vegetarian', 'Vegetarian', 'Vegetarian', 'Vegetarian', 'Vegetarian', 'Vegetarian', 'Vegetarian', 'Vegetarian', 'Vegetarian', 'Vegetarian', 'Vegetarian', 'Eggetarian', 'Vegetarian', 'Vegetarian', 'Vegetarian', 'Vegetarian', 'Vegetarian', 'High Protein Vegetarian', 'Vegetarian', 'Vegetarian', 'Vegetarian', 'High Protein Vegetarian', 'Vegetarian', 'Eggetarian', 'High Protein Vegetarian', 'Vegetarian', 'Vegetarian', 'Vegetarian', 'Vegetarian', 'No Onion No Garlic (Sattvic)', 'Vegetarian', 'Vegetarian', 'High Protein Vegetarian', 'Vegetarian', 'Vegan', 'Vegetarian', 'Non Vegeterian', 'Vegetarian', 'Vegetarian', 'Vegetarian', 'Vegetarian', 'Vegetarian', 'Vegetarian', 'Non Vegeterian', 'Vegetarian', 'Vegetarian', 'Vegetarian', 'Vegetarian', 'Non Vegeterian', 'Vegetarian', 'Vegetarian', 'Eggetarian', 'Diabetic Friendly', 'Vegetarian', 'Vegetarian', 'Vegetarian', 'Vegetarian', 'Vegetarian', 'Vegetarian', 'Vegetarian', 'Vegetarian', 'Vegetarian', 'Eggetarian', 'No Onion No Garlic (Sattvic)', 'Eggetarian', 'Non Vegeterian', 'Non Vegeterian', 'Eggetarian', 'Vegetarian', 'High Protein Vegetarian', 'Vegetarian', 'Vegetarian', 'Vegetarian', 'Vegetarian', 'Vegetarian', 'Vegetarian', 'High Protein Vegetarian', 'Non Vegeterian', 'Vegetarian', 'Vegetarian', 'Vegetarian', 'Eggetarian', 'Diabetic Friendly', 'Eggetarian', 'Vegetarian', 'Vegetarian', 'Vegetarian', 'Vegetarian', 'High Protein Non Vegetarian', 'Vegetarian', 'High Protein Vegetarian', 'Vegetarian', 'Diabetic Friendly', 'Vegetarian', 'Diabetic Friendly', 'Vegetarian', 'High Protein Vegetarian', 'High Protein Vegetarian', 'High Protein Vegetarian', 'Eggetarian', 'Vegetarian', 'Vegetarian', 'Vegetarian', 'Vegetarian', 'Vegetarian', 'Vegetarian', 'Vegetarian', 'Eggetarian', 'High Protein Vegetarian', 'Vegetarian', 'Vegetarian', 'Vegetarian', 'Vegetarian', 'Vegetarian', 'Diabetic Friendly', 'High Protein Non Vegetarian', 'Vegetarian', 'Vegetarian', 'High Protein Non Vegetarian', 'Vegetarian', 'Vegetarian', 'Vegetarian', 'Vegetarian', 'Vegetarian', 'High Protein Vegetarian', 'Vegetarian', 'Vegetarian', 'Vegetarian', 'Vegetarian', 'Vegetarian', 'Vegetarian', 'Vegan', 'Vegetarian', 'Vegetarian', 'Vegetarian', 'Vegetarian', 'Eggetarian', 'Non Vegeterian', 'Vegetarian', 'Non Vegeterian', 'Vegetarian', 'Vegetarian', 'Vegetarian', 'Vegetarian', 'Vegetarian', 'Diabetic Friendly', 'Vegetarian', 'Vegetarian', 'Eggetarian', 'Vegetarian', 'Gluten Free', 'Vegetarian', 'Vegetarian', 'Vegetarian', 'High Protein Vegetarian', 'Vegetarian', 'Vegetarian', 'Vegetarian', 'Vegetarian', 'Vegetarian', 'Vegetarian', 'High Protein Vegetarian', 'High Protein Vegetarian', 'Vegetarian', 'Vegetarian', 'Vegetarian', 'Vegetarian', 'Non Vegeterian', 'Vegetarian', 'Vegetarian', 'Vegetarian', 'Vegetarian', 'Vegetarian', 'Non Vegeterian', 'High Protein Vegetarian', 'Vegetarian', 'Vegetarian', 'Vegetarian', 'Vegetarian', 'Eggetarian', 'High Protein Vegetarian', 'Vegan', 'Vegetarian', 'Vegetarian', 'Eggetarian', 'No Onion No Garlic (Sattvic)', 'Vegetarian', 'Diabetic Friendly', 'Vegetarian', 'Vegetarian', 'Vegetarian', 'Vegetarian', 'Non Vegeterian', 'Vegetarian', 'Vegetarian', 'High Protein Vegetarian', 'Vegetarian', 'High Protein Non Vegetarian', 'High Protein Vegetarian', 'Vegetarian', 'Vegetarian', 'Vegetarian', 'Vegetarian', 'Vegetarian', 'Vegetarian', 'Non Vegeterian', 'Vegetarian', 'Eggetarian', 'High Protein Vegetarian', 'Vegetarian', 'High Protein Vegetarian', 'Vegetarian', 'Non Vegeterian', 'High Protein Vegetarian', 'Vegetarian', 'Vegetarian', 'Vegetarian', 'Vegetarian', 'High Protein Non Vegetarian', 'Eggetarian', 'Eggetarian', 'Vegetarian', 'Vegetarian', 'Vegetarian', 'No Onion No Garlic (Sattvic)', 'Vegetarian', 'Eggetarian', 'Vegetarian', 'High Protein Non Vegetarian', 'High Protein Vegetarian', 'Non Vegeterian', 'Vegetarian', 'High Protein Vegetarian', 'High Protein Non Vegetarian', 'Non Vegeterian', 'Eggetarian', 'Vegetarian', 'Vegetarian', 'Vegetarian', 'Vegetarian', 'Vegetarian', 'High Protein Non Vegetarian', 'Vegetarian', 'High Protein Vegetarian', 'Non Vegeterian', 'Vegetarian', 'High Protein Non Vegetarian', 'Vegetarian', 'Vegetarian', 'Vegetarian', 'Vegetarian', 'Vegetarian', 'Vegetarian', 'Vegetarian', 'Eggetarian', 'Vegetarian', 'Vegetarian', 'Vegetarian', 'Vegetarian', 'High Protein Non Vegetarian', 'High Protein Vegetarian', 'Vegetarian', 'Vegetarian', 'Vegetarian', 'Vegetarian', 'Diabetic Friendly', 'Vegetarian', 'High Protein Vegetarian', 'Eggetarian', 'Eggetarian', 'Eggetarian', 'Vegetarian', 'Non Vegeterian', 'High Protein Vegetarian', 'Eggetarian', 'Vegetarian', 'Vegetarian', 'Vegetarian', 'Diabetic Friendly', 'Vegetarian', 'Vegetarian', 'Sugar Free Diet', 'Vegetarian', 'Non Vegeterian', 'Vegetarian', 'Diabetic Friendly', 'Vegetarian', 'High Protein Vegetarian', 'Vegetarian', 'Vegetarian', 'Diabetic Friendly', 'Vegetarian', 'Vegetarian', 'High Protein Vegetarian', 'High Protein Vegetarian', 'Non Vegeterian', 'Vegetarian', 'Vegetarian', 'Vegetarian', 'Vegetarian', 'Vegetarian', 'High Protein Non Vegetarian', 'Vegetarian', 'Vegetarian', 'Non Vegeterian', 'Vegetarian', 'Diabetic Friendly', 'Vegetarian', 'Vegetarian', 'Vegetarian', 'Vegetarian', 'Vegetarian', 'Non Vegeterian', 'Vegetarian', 'Eggetarian', 'Vegetarian', 'High Protein Non Vegetarian', 'Vegetarian', 'High Protein Vegetarian', 'Vegetarian', 'Non Vegeterian', 'Vegetarian', 'Vegetarian', 'Vegetarian', 'Vegetarian', 'Vegetarian', 'Vegetarian', 'Eggetarian', 'Vegetarian', 'Vegetarian', 'Vegetarian', 'Vegetarian', 'Vegetarian', 'Non Vegeterian', 'Vegetarian', 'Vegetarian', 'Vegetarian', 'High Protein Non Vegetarian', 'Vegan', 'High Protein Non Vegetarian', 'Vegetarian', 'Vegetarian', 'Eggetarian', 'Vegetarian', 'Diabetic Friendly', 'Vegetarian', 'Vegetarian', 'High Protein Vegetarian', 'Vegetarian', 'Vegetarian', 'Diabetic Friendly', 'High Protein Vegetarian', 'Vegetarian', 'Vegetarian', 'Diabetic Friendly', 'Vegetarian', 'Vegetarian', 'Non Vegeterian', 'Vegetarian', 'Eggetarian', 'Vegetarian', 'Vegetarian', 'Vegetarian', 'Vegetarian', 'Non Vegeterian', 'Non Vegeterian', 'High Protein Vegetarian', 'Vegetarian', 'Diabetic Friendly', 'Non Vegeterian', 'Vegetarian', 'Vegetarian', 'Vegetarian', 'Vegetarian', 'Vegetarian', 'Vegetarian', 'Vegetarian', 'Vegetarian', 'Vegetarian', 'High Protein Vegetarian', 'Vegetarian', 'Vegetarian', 'Vegetarian', 'Vegetarian', 'Vegetarian', 'Vegetarian', 'Vegetarian', 'Eggetarian', 'Vegetarian', 'Vegetarian', 'Vegetarian', 'High Protein Non Vegetarian', 'Vegetarian', 'Vegetarian', 'Vegetarian', 'Vegetarian', 'Vegetarian', 'Vegetarian', 'Vegetarian', 'Vegetarian', 'Vegetarian', 'Vegetarian', 'Vegetarian', 'High Protein Vegetarian', 'Non Vegeterian', 'Vegetarian', 'Non Vegeterian', 'Vegetarian', 'Vegetarian', 'Vegetarian', 'High Protein Vegetarian', 'Vegetarian', 'Eggetarian', 'High Protein Vegetarian', 'High Protein Non Vegetarian', 'High Protein Vegetarian', 'Vegetarian', 'Vegetarian', 'Vegetarian', 'Vegetarian', 'High Protein Non Vegetarian', 'High Protein Vegetarian', 'Non Vegeterian', 'Vegetarian', 'High Protein Vegetarian', 'Non Vegeterian', 'Eggetarian', 'Vegetarian', 'Vegetarian', 'Vegetarian', 'Non Vegeterian', 'Vegetarian', 'High Protein Vegetarian', 'High Protein Vegetarian', 'Vegetarian', 'Vegetarian', 'Vegetarian', 'High Protein Vegetarian', 'Vegan', 'Vegetarian', 'Vegetarian', 'Vegetarian', 'Vegetarian', 'Vegetarian', 'Vegetarian', 'Vegetarian', 'High Protein Vegetarian', 'Vegetarian', 'Vegetarian', 'Vegetarian', 'Vegan', 'Non Vegeterian', 'Vegetarian', 'Diabetic Friendly', 'Non Vegeterian', 'Vegetarian', 'Vegetarian', 'Vegetarian', 'Vegetarian', 'Vegetarian', 'High Protein Vegetarian', 'Vegetarian', 'Vegetarian', 'Vegetarian', 'Vegetarian', 'Vegetarian', 'Eggetarian', 'Eggetarian', 'Vegetarian', 'Vegetarian', 'Vegetarian', 'Vegetarian', 'Vegetarian', 'Vegetarian', 'Vegetarian', 'Vegetarian', 'Vegetarian', 'Vegetarian', 'Vegetarian', 'No Onion No Garlic (Sattvic)', 'Eggetarian', 'Vegetarian', 'Non Vegeterian', 'Vegetarian', 'Vegetarian', 'Vegetarian', 'Vegetarian', 'Vegetarian', 'Vegetarian', 'Vegetarian', 'Eggetarian', 'Vegetarian', 'Vegetarian', 'Vegetarian', 'Vegetarian', 'Vegetarian', 'Vegetarian', 'Vegetarian', 'Vegetarian', 'Eggetarian', 'Vegetarian', 'Vegetarian', 'Vegetarian', 'Vegetarian', 'Eggetarian', 'Vegetarian', 'Vegetarian', 'Vegetarian', 'Non Vegeterian', 'High Protein Vegetarian', 'Vegetarian', 'Diabetic Friendly', 'Vegetarian', 'Vegetarian', 'Vegetarian', 'Vegetarian', 'Non Vegeterian', 'Vegetarian', 'Vegetarian', 'Vegetarian', 'Vegetarian', 'Vegetarian', 'Vegetarian', 'Vegetarian', 'Vegetarian', 'Vegetarian', 'Vegetarian', 'Vegetarian', 'Vegetarian', 'Vegetarian', 'Vegetarian', 'Vegetarian', 'High Protein Vegetarian', 'Vegetarian', 'High Protein Non Vegetarian', 'Vegetarian', 'Vegetarian', 'Vegetarian', 'Vegetarian', 'Vegetarian', 'Vegetarian', 'High Protein Vegetarian', 'Non Vegeterian', 'High Protein Vegetarian', 'Diabetic Friendly', 'Eggetarian', 'Non Vegeterian', 'Vegetarian', 'Vegetarian', 'Vegetarian', 'Vegetarian', 'Vegetarian', 'Vegetarian', 'Vegetarian', 'High Protein Non Vegetarian', 'Vegetarian', 'Vegetarian', 'Vegetarian', 'Vegetarian', 'Vegetarian', 'Vegetarian', 'Vegetarian', 'Vegetarian', 'Non Vegeterian', 'Vegetarian', 'Vegetarian', 'Vegetarian', 'High Protein Vegetarian', 'High Protein Vegetarian', 'Vegetarian', 'Eggetarian', 'Vegetarian', 'Vegetarian', 'Vegetarian', 'Vegetarian', 'Vegetarian', 'Vegetarian', 'Vegetarian', 'Vegetarian', 'Vegetarian', 'Vegetarian', 'Vegetarian', 'Vegetarian', 'Vegetarian', 'Vegetarian', 'Vegetarian', 'Vegetarian', 'Vegetarian', 'Vegetarian', 'Vegetarian', 'Vegetarian', 'Vegetarian', 'Vegetarian', 'High Protein Vegetarian', 'Vegetarian', 'Vegetarian', 'Eggetarian', 'Vegetarian', 'High Protein Vegetarian', 'Vegetarian', 'Vegetarian', 'Vegetarian', 'Vegetarian', 'Vegetarian', 'Eggetarian', 'Vegetarian', 'Eggetarian', 'Vegetarian', 'Vegetarian', 'Vegetarian', 'Vegetarian', 'Vegetarian', 'Vegetarian', 'Vegetarian', 'Vegetarian', 'Vegetarian', 'Non Vegeterian', 'Eggetarian', 'Vegan', 'Vegetarian', 'Vegetarian', 'High Protein Vegetarian', 'High Protein Non Vegetarian', 'High Protein Non Vegetarian', 'Vegetarian', 'Non Vegeterian', 'Vegetarian', 'Non Vegeterian', 'Vegetarian', 'Vegetarian', 'Vegetarian', 'High Protein Non Vegetarian', 'Non Vegeterian', 'Vegetarian', 'Vegetarian', 'Non Vegeterian', 'Vegetarian', 'Vegetarian', 'Vegetarian', 'Diabetic Friendly', 'Gluten Free', 'Vegetarian', 'Vegetarian', 'Vegetarian', 'Vegetarian', 'Vegetarian', 'Vegetarian', 'Vegetarian', 'High Protein Vegetarian', 'Vegetarian', 'Vegetarian', 'Vegetarian', 'High Protein Non Vegetarian', 'Non Vegeterian', 'Eggetarian', 'Vegetarian', 'Vegetarian', 'Vegetarian', 'Vegetarian', 'Vegetarian', 'Vegetarian', 'Vegetarian', 'Vegetarian', 'Vegetarian', 'Vegetarian', 'Vegetarian', 'Vegetarian', 'Vegetarian', 'Vegetarian', 'Diabetic Friendly', 'Vegetarian', 'Gluten Free', 'Vegetarian', 'Vegetarian', 'High Protein Vegetarian', 'Vegetarian', 'Vegetarian', 'Vegetarian', 'Non Vegeterian', 'Non Vegeterian', 'High Protein Vegetarian', 'Vegetarian', 'Vegetarian', 'Vegetarian', 'Vegetarian', 'High Protein Vegetarian', 'Vegetarian', 'Vegetarian', 'Non Vegeterian', 'Vegetarian', 'Vegetarian', 'Non Vegeterian', 'High Protein Non Vegetarian', 'High Protein Vegetarian', 'High Protein Non Vegetarian', 'High Protein Vegetarian', 'Vegetarian', 'Vegetarian', 'Vegetarian', 'Vegetarian', 'Vegetarian', 'Vegetarian', 'High Protein Vegetarian', 'Vegetarian', 'Vegetarian', 'Vegetarian', 'Vegetarian', 'Diabetic Friendly', 'Non Vegeterian', 'Vegetarian', 'Eggetarian', 'Vegetarian', 'High Protein Vegetarian', 'Vegetarian', 'High Protein Non Vegetarian', 'High Protein Vegetarian', 'High Protein Vegetarian', 'Vegetarian', 'Vegetarian', 'Vegetarian', 'High Protein Vegetarian', 'Vegetarian', 'Vegetarian', 'Vegetarian', 'Vegetarian', 'Vegetarian', 'Vegetarian', 'Vegetarian', 'Vegetarian', 'Non Vegeterian', 'Vegetarian', 'High Protein Vegetarian', 'Vegetarian', 'Vegetarian', 'Vegetarian', 'High Protein Non Vegetarian', 'Vegan', 'Vegetarian', 'Vegetarian', 'Vegetarian', 'Vegetarian', 'Vegetarian', 'Vegetarian', 'High Protein Vegetarian', 'Eggetarian', 'Vegetarian', 'Vegetarian', 'Vegetarian', 'Vegetarian', 'Vegetarian', 'Eggetarian', 'Vegetarian', 'Diabetic Friendly', 'Vegetarian', 'Vegetarian', 'Vegetarian', 'Vegetarian', 'High Protein Vegetarian', 'Vegetarian', 'No Onion No Garlic (Sattvic)', 'Vegetarian', 'Vegetarian', 'Vegetarian', 'Vegetarian', 'Vegetarian', 'Vegetarian', 'Vegetarian', 'Eggetarian', 'Vegetarian', 'Vegetarian', 'High Protein Non Vegetarian', 'High Protein Vegetarian', 'Vegetarian', 'High Protein Vegetarian', 'Vegetarian', 'Non Vegeterian', 'Vegetarian', 'Vegetarian', 'Vegetarian', 'Non Vegeterian', 'Vegetarian', 'Vegetarian', 'Vegetarian', 'High Protein Vegetarian', 'Vegetarian', 'Vegetarian', 'Vegetarian', 'Vegetarian', 'Diabetic Friendly', 'Vegetarian', 'Vegetarian', 'Vegetarian', 'Vegetarian', 'Vegetarian', 'Vegetarian', 'Vegetarian', 'Vegetarian', 'Vegetarian', 'Vegetarian', 'Vegetarian', 'Vegetarian', 'Vegetarian', 'Vegetarian', 'Vegetarian', 'Vegetarian', 'Vegetarian', 'Vegetarian', 'High Protein Vegetarian', 'Vegetarian', 'Vegetarian', 'Vegetarian', 'Eggetarian', 'Vegetarian', 'High Protein Non Vegetarian', 'Vegetarian', 'Vegetarian', 'Diabetic Friendly', 'High Protein Vegetarian', 'Vegetarian', 'Non Vegeterian', 'High Protein Vegetarian', 'Vegetarian', 'Vegetarian', 'Eggetarian', 'Vegetarian', 'Eggetarian', 'Vegetarian', 'High Protein Vegetarian', 'Vegetarian', 'Vegetarian', 'Vegetarian', 'Vegetarian', 'Vegetarian', 'Non Vegeterian', 'High Protein Vegetarian', 'Diabetic Friendly', 'Vegan', 'High Protein Vegetarian', 'Vegetarian', 'Vegetarian', 'Vegetarian', 'Vegetarian', 'Vegetarian', 'Vegetarian', 'Vegetarian', 'Vegetarian', 'Vegetarian', 'Vegetarian', 'Vegetarian', 'High Protein Vegetarian', 'Vegetarian', 'Vegetarian', 'Vegetarian', 'Vegetarian', 'Eggetarian', 'Vegetarian', 'Vegetarian', 'Non Vegeterian', 'Vegetarian', 'Vegetarian', 'Non Vegeterian', 'High Protein Vegetarian', 'Vegetarian', 'Vegetarian', 'Vegetarian', 'Vegetarian', 'Vegetarian', 'Vegetarian', 'Vegetarian', 'Vegetarian', 'Eggetarian', 'Vegetarian', 'Vegetarian', 'Vegetarian', 'Vegetarian', 'Diabetic Friendly', 'High Protein Vegetarian', 'No Onion No Garlic (Sattvic)', 'High Protein Vegetarian', 'Vegetarian', 'Vegetarian', 'Vegetarian', 'Non Vegeterian', 'Vegetarian', 'Vegetarian', 'Vegetarian', 'Vegetarian', 'High Protein Non Vegetarian', 'Vegetarian', 'Sugar Free Diet', 'Diabetic Friendly', 'Vegetarian', 'Vegetarian', 'Vegetarian', 'Vegetarian', 'Eggetarian', 'High Protein Vegetarian', 'Vegetarian', 'Eggetarian', 'Eggetarian', 'High Protein Non Vegetarian', 'Vegetarian', 'Eggetarian', 'Vegetarian', 'Non Vegeterian', 'Vegetarian', 'Diabetic Friendly', 'Vegetarian', 'Vegetarian', 'Vegetarian', 'Vegetarian', 'Vegetarian', 'Eggetarian', 'Diabetic Friendly', 'Vegetarian', 'High Protein Vegetarian', 'High Protein Non Vegetarian', 'Diabetic Friendly', 'Vegetarian', 'Vegetarian', 'High Protein Vegetarian', 'Vegetarian', 'Vegetarian', 'Vegetarian', 'Vegetarian', 'Vegetarian', 'Vegetarian', 'Vegetarian', 'Vegetarian', 'Vegetarian', 'Vegetarian', 'Non Vegeterian', 'Non Vegeterian', 'Non Vegeterian', 'Vegetarian', 'Vegetarian', 'Vegetarian', 'High Protein Vegetarian', 'Eggetarian', 'Vegetarian', 'Vegetarian', 'Diabetic Friendly', 'Vegetarian', 'Vegetarian', 'No Onion No Garlic (Sattvic)', 'Vegetarian', 'High Protein Vegetarian', 'Vegetarian', 'Diabetic Friendly', 'Vegetarian', 'Eggetarian', 'Vegetarian', 'Non Vegeterian', 'Vegetarian', 'High Protein Vegetarian', 'Vegetarian', 'Vegetarian', 'High Protein Vegetarian', 'Vegetarian', 'Vegetarian', 'Vegetarian', 'Vegetarian', 'Vegetarian', 'Vegetarian', 'No Onion No Garlic (Sattvic)', 'Vegetarian', 'Vegetarian', 'Vegetarian', 'Vegetarian', 'High Protein Vegetarian', 'Vegetarian', 'Vegetarian', 'Vegetarian', 'Vegetarian', 'High Protein Vegetarian', 'Vegetarian', 'High Protein Vegetarian', 'Non Vegeterian', 'Vegetarian', 'Vegetarian', 'High Protein Vegetarian', 'Vegetarian', 'No Onion No Garlic (Sattvic)', 'Vegetarian', 'Non Vegeterian', 'Non Vegeterian', 'Vegetarian', 'High Protein Vegetarian', 'Vegetarian', 'Vegetarian', 'Vegetarian', 'High Protein Vegetarian', 'No Onion No Garlic (Sattvic)', 'Vegetarian', 'Vegetarian', 'Vegetarian', 'Eggetarian', 'Vegetarian', 'Vegetarian', 'Vegetarian', 'Vegetarian', 'Diabetic Friendly', 'Diabetic Friendly', 'Vegetarian', 'Non Vegeterian', 'Vegetarian', 'Vegetarian', 'Vegetarian', 'High Protein Non Vegetarian', 'Vegetarian', 'Vegetarian', 'High Protein Vegetarian', 'Vegetarian', 'Vegetarian', 'Diabetic Friendly', 'Vegetarian', 'Vegetarian', 'Vegetarian', 'Vegetarian', 'Vegetarian', 'Diabetic Friendly', 'Vegetarian', 'Vegetarian', 'Vegetarian', 'Vegetarian', 'Vegetarian', 'Eggetarian', 'Eggetarian', 'Vegetarian', 'Vegetarian', 'Vegetarian', 'Vegetarian', 'Vegetarian', 'Vegetarian', 'Vegetarian', 'Vegetarian', 'Eggetarian', 'Vegetarian', 'Vegetarian', 'Vegetarian', 'Vegetarian', 'Vegetarian', 'Vegetarian', 'Vegetarian', 'Vegetarian', 'Vegetarian', 'Vegetarian', 'Vegetarian', 'High Protein Non Vegetarian', 'High Protein Vegetarian', 'Vegetarian', 'Vegetarian', 'Vegetarian', 'Vegetarian', 'Vegetarian', 'Diabetic Friendly', 'Vegetarian', 'Vegetarian', 'Vegetarian', 'Vegan', 'High Protein Vegetarian', 'High Protein Non Vegetarian', 'Vegetarian', 'Vegetarian', 'Vegetarian', 'Vegetarian', 'Vegetarian', 'Vegetarian', 'Vegetarian', 'Vegetarian', 'Vegetarian', 'Vegetarian', 'Vegetarian', 'Vegetarian', 'Vegetarian', 'Vegetarian', 'High Protein Non Vegetarian', 'Vegetarian', 'Vegetarian', 'Eggetarian', 'Vegetarian', 'No Onion No Garlic (Sattvic)', 'Vegetarian', 'Non Vegeterian', 'Vegetarian', 'Eggetarian', 'Vegetarian', 'Diabetic Friendly', 'Vegetarian', 'Vegetarian', 'Vegetarian', 'Diabetic Friendly', 'Vegetarian', 'Vegetarian', 'High Protein Vegetarian', 'Vegetarian', 'Vegetarian', 'Vegetarian', 'Vegetarian', 'Non Vegeterian', 'Vegetarian', 'Vegetarian', 'Eggetarian', 'Vegetarian', 'Vegetarian', 'Vegetarian', 'Vegetarian', 'Non Vegeterian', 'Gluten Free', 'Vegetarian', 'Vegetarian', 'Eggetarian', 'Vegetarian', 'Vegetarian', 'Vegetarian', 'Vegetarian', 'No Onion No Garlic (Sattvic)', 'High Protein Vegetarian', 'High Protein Non Vegetarian', 'Vegetarian', 'Vegetarian', 'Non Vegeterian', 'Vegetarian', 'Diabetic Friendly', 'Vegetarian', 'Vegetarian', 'Vegetarian', 'Vegetarian', 'Vegetarian', 'Vegetarian', 'Vegetarian', 'High Protein Vegetarian', 'Gluten Free', 'Vegetarian', 'Vegetarian', 'Non Vegeterian', 'Vegetarian', 'High Protein Vegetarian', 'Vegetarian', 'Vegetarian', 'Diabetic Friendly', 'High Protein Non Vegetarian', 'Vegetarian', 'Non Vegeterian', 'Vegetarian', 'Vegetarian', 'Vegetarian', 'Vegetarian', 'Vegetarian', 'Vegetarian', 'Eggetarian', 'Vegetarian', 'High Protein Vegetarian', 'High Protein Vegetarian', 'No Onion No Garlic (Sattvic)', 'Non Vegeterian', 'Vegetarian', 'Vegetarian', 'Vegetarian', 'Vegetarian', 'Vegetarian', 'Vegan', 'Diabetic Friendly', 'Vegetarian', 'Non Vegeterian', 'Vegetarian', 'Vegetarian', 'Vegetarian', 'Vegetarian', 'Vegetarian', 'Vegetarian', 'Vegetarian', 'Vegetarian', 'Vegetarian', 'Vegetarian', 'Non Vegeterian', 'Vegetarian', 'Non Vegeterian', 'High Protein Vegetarian', 'Vegetarian', 'Vegetarian', 'Eggetarian', 'Vegetarian', 'Vegetarian', 'Vegetarian', 'High Protein Vegetarian', 'Vegetarian', 'Vegetarian', 'Vegetarian', 'Vegetarian', 'Vegetarian', 'High Protein Vegetarian', 'Vegetarian', 'Vegetarian', 'Vegetarian', 'Eggetarian', 'Vegetarian', 'High Protein Vegetarian', 'Eggetarian', 'Vegetarian', 'Vegetarian', 'Vegetarian', 'Vegetarian', 'High Protein Non Vegetarian', 'Vegetarian', 'Diabetic Friendly', 'Vegetarian', 'Vegan', 'Vegetarian', 'Vegetarian', 'Diabetic Friendly', 'Eggetarian', 'Eggetarian', 'Vegetarian', 'High Protein Non Vegetarian', 'Vegetarian', 'High Protein Vegetarian', 'Vegetarian', 'Vegetarian', 'Vegetarian', 'Vegetarian', 'Vegetarian', 'Vegetarian', 'Vegetarian', 'Vegetarian', 'Non Vegeterian', 'Vegetarian', 'High Protein Vegetarian', 'Vegetarian', 'Vegetarian', 'Vegetarian', 'Vegetarian', 'High Protein Vegetarian', 'Vegetarian', 'Eggetarian', 'Vegetarian', 'Vegetarian', 'Vegetarian', 'Vegetarian', 'Vegetarian', 'Vegetarian', 'Vegetarian', 'Vegetarian', 'Eggetarian', 'Vegetarian', 'Vegetarian', 'Vegetarian', 'No Onion No Garlic (Sattvic)', 'Vegetarian', 'No Onion No Garlic (Sattvic)', 'Vegetarian', 'High Protein Vegetarian', 'Vegetarian', 'Vegetarian', 'Vegetarian', 'Vegetarian', 'High Protein Vegetarian', 'Eggetarian', 'Vegetarian', 'Vegetarian', 'Vegetarian', 'High Protein Vegetarian', 'Vegetarian', 'Vegetarian', 'Eggetarian', 'Vegetarian', 'Eggetarian', 'Vegetarian', 'High Protein Non Vegetarian', 'Vegetarian', 'Vegetarian', 'Vegetarian', 'Vegetarian', 'Vegetarian', 'Vegetarian', 'Diabetic Friendly', 'High Protein Non Vegetarian', 'High Protein Vegetarian', 'Vegetarian', 'Vegetarian', 'Vegetarian', 'Non Vegeterian', 'Eggetarian', 'Vegetarian', 'Vegetarian', 'Vegetarian', 'Vegetarian', 'Vegetarian', 'Vegetarian', 'High Protein Non Vegetarian', 'Vegetarian', 'Vegetarian', 'Vegetarian', 'Vegetarian', 'Vegetarian', 'Vegetarian', 'Vegetarian', 'Vegetarian', 'Vegetarian', 'High Protein Vegetarian', 'High Protein Vegetarian', 'Vegetarian', 'Vegetarian', 'Vegetarian', 'High Protein Vegetarian', 'High Protein Vegetarian', 'Eggetarian', 'Vegetarian', 'Vegetarian', 'Vegetarian', 'Vegetarian', 'Vegetarian', 'Vegetarian', 'Vegetarian', 'Vegetarian', 'Vegetarian', 'Vegetarian', 'High Protein Non Vegetarian', 'Vegetarian', 'Vegetarian', 'Vegetarian', 'Vegetarian', 'Vegetarian', 'Vegetarian', 'High Protein Vegetarian', 'Vegetarian', 'Vegetarian', 'High Protein Vegetarian', 'Vegetarian', 'Vegetarian', 'Vegetarian', 'Vegetarian', 'Vegetarian', 'Vegetarian', 'Vegetarian', 'Vegetarian', 'Vegetarian', 'Vegetarian', 'Vegetarian', 'Vegetarian', 'Vegetarian', 'High Protein Non Vegetarian', 'Vegetarian', 'Vegetarian', 'Vegetarian', 'Diabetic Friendly', 'Vegetarian', 'Vegetarian', 'Vegetarian', 'Diabetic Friendly', 'Vegetarian', 'Eggetarian', 'Eggetarian', 'Vegetarian', 'High Protein Vegetarian', 'Non Vegeterian', 'Vegetarian', 'Vegetarian', 'Vegetarian', 'Vegetarian', 'High Protein Vegetarian', 'Non Vegeterian', 'Vegetarian', 'Vegetarian', 'Vegetarian', 'High Protein Vegetarian', 'Vegetarian', 'Vegetarian', 'Non Vegeterian', 'Vegetarian', 'Vegetarian', 'High Protein Non Vegetarian', 'Vegetarian', 'Vegetarian', 'Vegetarian', 'High Protein Vegetarian', 'Vegetarian', 'Non Vegeterian', 'Non Vegeterian', 'Vegetarian', 'Vegetarian', 'Vegetarian', 'Vegetarian', 'Vegetarian', 'High Protein Non Vegetarian', 'Vegetarian', 'Eggetarian', 'Non Vegeterian', 'Vegetarian', 'Vegetarian', 'Vegetarian', 'Vegetarian', 'High Protein Vegetarian', 'Vegetarian', 'Vegetarian', 'Vegetarian', 'Vegetarian', 'Vegan', 'Vegetarian', 'Vegetarian', 'Diabetic Friendly', 'No Onion No Garlic (Sattvic)', 'High Protein Vegetarian', 'Vegetarian', 'High Protein Non Vegetarian', 'Vegetarian', 'Vegetarian', 'Vegetarian', 'Vegetarian', 'Vegetarian', 'High Protein Non Vegetarian', 'Vegetarian', 'Vegetarian', 'Vegetarian', 'Non Vegeterian', 'Vegetarian', 'Vegetarian', 'Vegetarian', 'Vegetarian', 'Vegetarian', 'Vegetarian', 'Vegetarian', 'High Protein Non Vegetarian', 'Vegetarian', 'Vegetarian', 'Vegetarian', 'Vegetarian', 'Non Vegeterian', 'Vegetarian', 'Vegetarian', 'Vegetarian', 'Vegetarian', 'Vegetarian', 'Vegetarian', 'Vegetarian', 'Vegetarian', 'Vegetarian', 'High Protein Vegetarian', 'High Protein Vegetarian', 'Vegetarian', 'Vegetarian', 'Vegetarian', 'Vegetarian', 'Vegetarian', 'Vegetarian', 'Vegetarian', 'Vegetarian', 'Vegetarian', 'Vegetarian', 'Vegetarian', 'High Protein Vegetarian', 'High Protein Vegetarian', 'Vegetarian', 'Vegetarian', 'Vegetarian', 'Vegetarian', 'High Protein Non Vegetarian', 'Vegetarian', 'Vegetarian', 'Vegetarian', 'Vegetarian', 'Vegetarian', 'Vegetarian', 'High Protein Vegetarian', 'Vegetarian', 'Vegetarian', 'Vegetarian', 'Vegetarian', 'Vegetarian', 'Vegetarian', 'Vegetarian', 'Vegetarian', 'Vegetarian', 'Vegetarian', 'High Protein Vegetarian', 'Vegetarian', 'Eggetarian', 'High Protein Vegetarian', 'Vegetarian', 'Sugar Free Diet', 'Non Vegeterian', 'High Protein Non Vegetarian', 'Vegetarian', 'High Protein Non Vegetarian', 'Vegetarian', 'Vegetarian', 'Vegetarian', 'Vegetarian', 'Vegetarian', 'High Protein Vegetarian', 'Vegetarian', 'Vegetarian', 'Vegetarian', 'Vegetarian', 'Vegetarian', 'Vegetarian', 'Vegetarian', 'Vegetarian', 'Vegetarian', 'High Protein Vegetarian', 'Vegetarian', 'Non Vegeterian', 'High Protein Vegetarian', 'Vegetarian', 'Vegetarian', 'Vegetarian', 'Gluten Free', 'Vegetarian', 'Vegetarian', 'Eggetarian', 'Vegetarian', 'Vegetarian', 'Vegetarian', 'Vegetarian', 'Vegetarian', 'High Protein Vegetarian', 'Vegetarian', 'Vegetarian', 'Non Vegeterian', 'Vegetarian', 'Vegetarian', 'Vegetarian', 'Eggetarian', 'Vegetarian', 'Vegetarian', 'Eggetarian', 'Non Vegeterian', 'Non Vegeterian', 'Vegetarian', 'Vegetarian', 'Vegetarian', 'Vegetarian', 'Non Vegeterian', 'Non Vegeterian', 'High Protein Vegetarian', 'High Protein Vegetarian', 'Non Vegeterian', 'Non Vegeterian', 'Vegetarian', 'High Protein Vegetarian', 'Vegetarian', 'Non Vegeterian', 'Vegetarian', 'High Protein Vegetarian', 'Vegetarian', 'Vegetarian', 'Diabetic Friendly', 'Vegetarian', 'Vegetarian', 'Eggetarian', 'Vegetarian', 'Vegetarian', 'Vegetarian', 'High Protein Non Vegetarian', 'Vegetarian', 'Diabetic Friendly', 'Eggetarian', 'High Protein Vegetarian', 'Vegetarian', 'Vegetarian', 'Vegetarian', 'Sugar Free Diet', 'Vegetarian', 'Vegetarian', 'Vegetarian', 'Vegetarian', 'Vegetarian', 'Vegetarian', 'Vegetarian', 'Diabetic Friendly', 'Vegetarian', 'High Protein Vegetarian', 'Non Vegeterian', 'Vegetarian', 'High Protein Non Vegetarian', 'High Protein Vegetarian', 'High Protein Vegetarian', 'Vegetarian', 'Vegetarian', 'Vegetarian', 'Vegetarian', 'Vegetarian', 'Non Vegeterian', 'High Protein Vegetarian', 'Diabetic Friendly', 'Vegetarian', 'Vegetarian', 'Vegetarian', 'Vegetarian', 'Vegetarian', 'Vegetarian', 'Vegetarian', 'Vegetarian', 'Vegetarian', 'Vegetarian', 'Vegetarian', 'Vegetarian', 'Eggetarian', 'Vegetarian', 'Vegetarian', 'Eggetarian', 'Vegetarian', 'Vegetarian', 'High Protein Vegetarian', 'No Onion No Garlic (Sattvic)', 'Vegetarian', 'Vegetarian', 'Vegetarian', 'Vegetarian', 'Vegetarian', 'Vegetarian', 'Vegetarian', 'Vegetarian', 'Vegetarian', 'Diabetic Friendly', 'Vegetarian', 'High Protein Vegetarian', 'Eggetarian', 'Vegetarian', 'Vegetarian', 'Vegetarian', 'Vegetarian', 'Sugar Free Diet', 'Vegetarian', 'Vegetarian', 'Vegetarian', 'Non Vegeterian', 'Vegetarian', 'No Onion No Garlic (Sattvic)', 'Vegetarian', 'Vegetarian', 'Vegetarian', 'Diabetic Friendly', 'Vegetarian', 'Vegetarian', 'Vegetarian', 'Vegetarian', 'Vegetarian', 'Vegetarian', 'Vegetarian', 'Vegetarian', 'Vegetarian', 'Vegetarian', 'Diabetic Friendly', 'Vegetarian', 'Vegetarian', 'High Protein Non Vegetarian', 'Vegetarian', 'Vegetarian', 'Vegetarian', 'Non Vegeterian', 'Vegetarian', 'Vegetarian', 'Vegetarian', 'Non Vegeterian', 'Eggetarian', 'Vegetarian', 'Diabetic Friendly', 'No Onion No Garlic (Sattvic)', 'Vegetarian', 'Vegetarian', 'High Protein Vegetarian', 'Vegetarian', 'Gluten Free', 'Vegetarian', 'High Protein Vegetarian', 'Vegetarian', 'Vegetarian', 'Vegetarian', 'Vegetarian', 'Vegetarian', 'Vegetarian', 'Vegetarian', 'Vegetarian', 'Vegetarian', 'Vegetarian', 'Non Vegeterian', 'Vegetarian', 'High Protein Vegetarian', 'Gluten Free', 'No Onion No Garlic (Sattvic)', 'High Protein Vegetarian', 'Vegetarian', 'Vegetarian', 'Vegetarian', 'High Protein Vegetarian', 'Vegetarian', 'High Protein Non Vegetarian', 'Vegetarian', 'Vegetarian', 'High Protein Vegetarian', 'Vegetarian', 'Vegetarian', 'Vegetarian', 'Eggetarian', 'Vegetarian', 'Vegetarian', 'Vegetarian', 'Vegetarian', 'No Onion No Garlic (Sattvic)', 'High Protein Non Vegetarian', 'Vegetarian', 'Vegetarian', 'High Protein Vegetarian', 'Diabetic Friendly', 'Diabetic Friendly', 'High Protein Non Vegetarian', 'Vegetarian', 'Vegetarian', 'Vegetarian', 'Vegetarian', 'Vegetarian', 'Vegetarian', 'Vegan', 'Non Vegeterian', 'Vegetarian', 'Vegetarian', 'Eggetarian', 'Vegan', 'Vegetarian', 'Vegetarian', 'Eggetarian', 'Vegetarian', 'Vegetarian', 'Diabetic Friendly', 'Vegetarian', 'Vegetarian', 'Vegetarian', 'Vegetarian', 'Vegetarian', 'Vegetarian', 'Vegetarian', 'Diabetic Friendly', 'Vegetarian', 'Non Vegeterian', 'Vegetarian', 'Vegan', 'High Protein Vegetarian', 'Eggetarian', 'Vegetarian', 'Vegetarian', 'High Protein Vegetarian', 'High Protein Non Vegetarian', 'Vegetarian', 'Vegetarian', 'Vegetarian', 'Vegetarian', 'Vegetarian', 'Vegetarian', 'Vegetarian', 'Vegetarian', 'Vegetarian', 'Vegetarian', 'Vegetarian', 'Vegetarian', 'Vegetarian', 'Diabetic Friendly', 'Vegetarian', 'High Protein Vegetarian', 'High Protein Vegetarian', 'Vegetarian', 'Non Vegeterian', 'Vegetarian', 'High Protein Vegetarian', 'Vegetarian', 'Vegetarian', 'Vegetarian', 'Vegetarian', 'High Protein Non Vegetarian', 'Vegetarian', 'Vegetarian', 'Vegetarian', 'Vegetarian', 'Vegetarian', 'Vegetarian', 'Vegetarian', 'Vegetarian', 'Vegetarian', 'High Protein Vegetarian', 'Non Vegeterian', 'Vegetarian', 'Vegetarian', 'Eggetarian', 'Diabetic Friendly', 'High Protein Vegetarian', 'High Protein Vegetarian', 'Non Vegeterian', 'Vegetarian', 'Vegetarian', 'High Protein Vegetarian', 'Eggetarian', 'High Protein Vegetarian', 'Gluten Free', 'High Protein Vegetarian', 'Vegetarian', 'Eggetarian', 'Vegetarian', 'Eggetarian', 'High Protein Vegetarian', 'Vegetarian', 'High Protein Vegetarian', 'Vegetarian', 'Vegetarian', 'Vegetarian', 'Vegetarian', 'Diabetic Friendly', 'High Protein Vegetarian', 'Vegetarian', 'Vegetarian', 'Eggetarian', 'Vegetarian', 'Vegetarian', 'Non Vegeterian', 'Vegetarian', 'Diabetic Friendly', 'High Protein Non Vegetarian', 'Vegetarian', 'Vegetarian', 'Vegetarian', 'Vegetarian', 'Vegetarian', 'Vegetarian', 'Vegetarian', 'Vegetarian', 'Vegetarian', 'Vegetarian', 'Vegetarian', 'Vegetarian', 'Vegetarian', 'Vegetarian', 'Vegetarian', 'Vegetarian', 'Vegetarian', 'Vegetarian', 'Vegetarian', 'Vegetarian', 'Vegetarian', 'Diabetic Friendly', 'Vegetarian', 'Vegetarian', 'Eggetarian', 'Vegetarian', 'Vegetarian', 'Vegetarian', 'Vegetarian', 'Vegetarian', 'Vegetarian', 'Vegetarian', 'Vegetarian', 'Vegetarian', 'High Protein Vegetarian', 'Vegetarian', 'High Protein Vegetarian', 'Vegetarian', 'High Protein Vegetarian', 'Vegetarian', 'Vegetarian', 'High Protein Vegetarian', 'Vegetarian', 'Vegetarian', 'Vegetarian', 'Vegetarian', 'Vegetarian', 'High Protein Non Vegetarian', 'Vegetarian', 'High Protein Vegetarian', 'High Protein Vegetarian', 'Vegetarian', 'High Protein Vegetarian', 'High Protein Vegetarian', 'Vegetarian', 'Vegetarian', 'Vegetarian', 'Diabetic Friendly', 'Non Vegeterian', 'Vegetarian', 'High Protein Vegetarian', 'Vegetarian', 'Vegetarian', 'Vegetarian', 'Non Vegeterian', 'Vegetarian', 'Vegetarian', 'High Protein Vegetarian', 'Vegetarian', 'Vegetarian', 'Vegetarian', 'Vegetarian', 'Vegetarian', 'Vegetarian', 'High Protein Vegetarian', 'Vegetarian', 'Vegetarian', 'Vegetarian', 'Vegetarian', 'Vegetarian', 'Vegetarian', 'Vegetarian', 'High Protein Vegetarian', 'High Protein Vegetarian', 'Vegetarian', 'Vegetarian', 'Vegetarian', 'Vegetarian', 'Vegetarian', 'Vegetarian', 'Vegetarian', 'Vegetarian', 'Diabetic Friendly', 'Vegetarian', 'Non Vegeterian', 'Vegetarian', 'Vegetarian', 'Non Vegeterian', 'High Protein Vegetarian', 'Vegetarian', 'Vegetarian', 'Vegetarian', 'High Protein Vegetarian', 'Non Vegeterian', 'Vegetarian', 'Vegetarian', 'Vegetarian', 'Vegetarian', 'Vegetarian', 'Vegetarian', 'High Protein Vegetarian', 'Vegetarian', 'Vegetarian', 'Vegetarian', 'Vegetarian', 'Vegetarian', 'Non Vegeterian', 'High Protein Vegetarian', 'Diabetic Friendly', 'Vegetarian', 'Vegetarian', 'Eggetarian', 'Vegetarian', 'Vegetarian', 'Vegetarian', 'Vegetarian', 'High Protein Non Vegetarian', 'Vegetarian', 'Vegetarian', 'Vegetarian', 'Vegetarian', 'Non Vegeterian', 'Non Vegeterian', 'Vegetarian', 'Vegetarian', 'Vegetarian', 'Vegetarian', 'Vegetarian', 'Eggetarian', 'Non Vegeterian', 'Non Vegeterian', 'Vegetarian', 'Vegetarian', 'Non Vegeterian', 'Vegetarian', 'Vegetarian', 'Non Vegeterian', 'Non Vegeterian', 'High Protein Vegetarian', 'Vegetarian', 'Vegetarian', 'Diabetic Friendly', 'Vegetarian', 'Vegetarian', 'Non Vegeterian', 'Vegetarian', 'Vegetarian', 'Vegetarian', 'Vegetarian', 'Vegetarian', 'Vegetarian', 'Diabetic Friendly', 'Non Vegeterian', 'Eggetarian', 'Vegetarian', 'Vegetarian', 'Vegetarian', 'Vegetarian', 'Vegetarian', 'Eggetarian', 'Vegetarian', 'Vegetarian', 'Vegetarian', 'Vegetarian', 'Vegan', 'Vegetarian', 'Vegetarian', 'Non Vegeterian', 'Vegetarian', 'Vegetarian', 'Vegetarian', 'Vegetarian', 'Vegetarian', 'Vegan', 'Vegetarian', 'High Protein Vegetarian', 'Vegetarian', 'Vegetarian', 'Vegetarian', 'Vegetarian', 'High Protein Non Vegetarian', 'Vegetarian', 'High Protein Vegetarian', 'No Onion No Garlic (Sattvic)', 'Diabetic Friendly', 'Vegan', 'Eggetarian', 'Vegetarian', 'Vegetarian', 'Vegetarian', 'Vegetarian', 'Vegetarian', 'Vegetarian', 'Vegetarian', 'Eggetarian', 'Vegetarian', 'Vegetarian', 'Vegetarian', 'High Protein Non Vegetarian', 'Vegetarian', 'Vegetarian', 'High Protein Vegetarian', 'Vegetarian', 'Vegetarian', 'Vegetarian', 'Vegan', 'Vegetarian', 'Vegetarian', 'Vegetarian', 'Vegetarian', 'Vegetarian', 'High Protein Vegetarian', 'High Protein Vegetarian', 'Vegetarian', 'Vegetarian', 'Vegetarian', 'Non Vegeterian', 'Eggetarian', 'Vegetarian', 'Vegetarian', 'Vegetarian', 'Vegetarian', 'Non Vegeterian', 'Vegetarian', 'Vegetarian', 'Gluten Free', 'Gluten Free', 'Vegetarian', 'High Protein Non Vegetarian', 'High Protein Vegetarian', 'Vegetarian', 'High Protein Non Vegetarian', 'No Onion No Garlic (Sattvic)', 'High Protein Non Vegetarian', 'Vegetarian', 'High Protein Vegetarian', 'Eggetarian', 'Vegetarian', 'Diabetic Friendly', 'High Protein Vegetarian', 'Vegetarian', 'Vegetarian', 'Vegetarian', 'Vegetarian', 'Vegetarian', 'Eggetarian', 'Vegetarian', 'Vegetarian', 'Diabetic Friendly', 'Vegetarian', 'Non Vegeterian', 'High Protein Vegetarian', 'Vegetarian', 'Vegetarian', 'Vegetarian', 'Vegetarian', 'Vegetarian', 'Vegetarian', 'Vegetarian', 'High Protein Vegetarian', 'Diabetic Friendly', 'Vegetarian', 'High Protein Non Vegetarian', 'Vegetarian', 'Vegetarian', 'Vegetarian', 'Vegetarian', 'Vegetarian', 'Vegetarian', 'High Protein Non Vegetarian', 'Vegetarian', 'Vegetarian', 'Vegetarian', 'Diabetic Friendly', 'Vegetarian', 'High Protein Vegetarian', 'Vegetarian', 'Vegetarian', 'High Protein Vegetarian', 'Vegetarian', 'Vegetarian', 'Vegetarian', 'Vegetarian', 'Vegetarian', 'Vegetarian', 'Vegetarian', 'Non Vegeterian', 'Vegetarian', 'Vegetarian', 'Vegetarian', 'Vegetarian', 'Vegetarian', 'Vegetarian', 'Vegetarian', 'High Protein Vegetarian', 'Vegetarian', 'Vegetarian', 'Vegetarian', 'Vegetarian', 'Vegetarian', 'Vegetarian', 'Vegetarian', 'Vegetarian', 'Eggetarian', 'Diabetic Friendly', 'Vegetarian', 'Vegetarian', 'Non Vegeterian', 'Vegetarian', 'Vegetarian', 'Vegetarian', 'Vegetarian', 'Diabetic Friendly', 'High Protein Non Vegetarian', 'High Protein Non Vegetarian', 'Eggetarian', 'High Protein Vegetarian', 'Vegetarian', 'Gluten Free', 'Diabetic Friendly', 'Vegan', 'High Protein Non Vegetarian', 'Vegetarian', 'Vegetarian', 'Vegetarian', 'Vegetarian', 'Vegetarian', 'Vegetarian', 'Vegetarian', 'Vegetarian', 'Vegetarian', 'Eggetarian', 'Vegetarian', 'Vegetarian', 'Vegetarian', 'High Protein Vegetarian', 'High Protein Vegetarian', 'High Protein Vegetarian', 'Vegetarian', 'Vegetarian', 'Vegetarian', 'Vegetarian', 'Vegetarian', 'Vegetarian', 'Vegetarian', 'High Protein Vegetarian', 'Vegetarian', 'Vegetarian', 'Vegetarian', 'Vegetarian', 'Non Vegeterian', 'Vegetarian', 'Vegetarian', 'Vegetarian', 'Vegetarian', 'High Protein Vegetarian', 'Vegetarian', 'Vegetarian', 'Non Vegeterian', 'Vegetarian', 'Vegetarian', 'Vegetarian', 'Vegetarian', 'Eggetarian', 'Vegetarian', 'Vegetarian', 'Vegetarian', 'High Protein Vegetarian', 'Eggetarian', 'Eggetarian', 'Diabetic Friendly', 'High Protein Non Vegetarian', 'Vegetarian', 'Diabetic Friendly', 'Vegetarian', 'High Protein Vegetarian', 'Vegetarian', 'Vegetarian', 'Vegetarian', 'Vegetarian', 'Vegetarian', 'High Protein Vegetarian', 'Vegetarian', 'Vegetarian', 'Vegetarian', 'Vegetarian', 'High Protein Vegetarian', 'Vegetarian', 'Vegetarian', 'No Onion No Garlic (Sattvic)', 'Vegetarian', 'Gluten Free', 'Vegetarian', 'Vegetarian', 'High Protein Non Vegetarian', 'Vegetarian', 'Vegetarian', 'No Onion No Garlic (Sattvic)', 'Diabetic Friendly', 'High Protein Vegetarian', 'Vegetarian', 'Non Vegeterian', 'Vegetarian', 'Vegetarian', 'Vegetarian', 'Vegetarian', 'High Protein Vegetarian', 'High Protein Vegetarian', 'Vegetarian', 'Vegetarian', 'High Protein Vegetarian', 'Vegetarian', 'Diabetic Friendly', 'Non Vegeterian', 'Vegetarian', 'Vegetarian', 'No Onion No Garlic (Sattvic)', 'Non Vegeterian', 'High Protein Vegetarian', 'Vegetarian', 'Vegetarian', 'Vegetarian', 'Vegetarian', 'Vegetarian', 'Eggetarian', 'High Protein Vegetarian', 'Vegetarian', 'High Protein Vegetarian', 'Vegetarian', 'Vegetarian', 'Vegetarian', 'Vegetarian', 'Vegetarian', 'Vegetarian', 'Vegetarian', 'Vegetarian', 'Vegetarian', 'Vegetarian', 'Vegetarian', 'Vegetarian', 'Eggetarian', 'High Protein Vegetarian', 'Vegetarian', 'Diabetic Friendly', 'Non Vegeterian', 'Vegetarian', 'Vegetarian', 'Vegetarian', 'Vegetarian', 'Eggetarian', 'Diabetic Friendly', 'Vegetarian', 'Vegetarian', 'Eggetarian', 'Vegetarian', 'Vegetarian', 'High Protein Vegetarian', 'Vegetarian', 'High Protein Vegetarian', 'Non Vegeterian', 'Vegetarian', 'High Protein Vegetarian', 'No Onion No Garlic (Sattvic)', 'Vegetarian', 'Vegetarian', 'Diabetic Friendly', 'Vegetarian', 'Vegetarian', 'Vegetarian', 'Vegetarian', 'Vegetarian', 'Vegetarian', 'Vegetarian', 'Vegetarian', 'Diabetic Friendly', 'Vegetarian', 'Vegetarian', 'Vegetarian', 'Vegetarian', 'Vegetarian', 'High Protein Vegetarian', 'Vegetarian', 'Eggetarian', 'Eggetarian', 'Vegetarian', 'Vegetarian', 'Vegetarian', 'Gluten Free', 'Non Vegeterian', 'Vegetarian', 'Vegetarian', 'Vegetarian', 'Vegetarian', 'Vegetarian', 'Vegetarian', 'Non Vegeterian', 'Vegetarian', 'Vegetarian', 'Eggetarian', 'Vegetarian', 'Vegetarian', 'Vegetarian', 'Vegetarian', 'Vegetarian', 'Eggetarian', 'Vegetarian', 'Vegetarian', 'Vegetarian', 'Vegetarian', 'Vegetarian', 'High Protein Vegetarian', 'Vegetarian', 'Vegetarian', 'High Protein Non Vegetarian', 'Vegetarian', 'Vegetarian', 'Diabetic Friendly', 'Vegetarian', 'Gluten Free', 'Vegetarian', 'Vegetarian', 'Vegetarian', 'Vegetarian', 'Vegetarian', 'Non Vegeterian', 'Vegetarian', 'Vegetarian', 'Vegetarian', 'Vegetarian', 'Vegetarian', 'High Protein Vegetarian', 'Vegetarian', 'High Protein Non Vegetarian', 'Non Vegeterian', 'Non Vegeterian', 'Vegetarian', 'Non Vegeterian', 'Vegetarian', 'Eggetarian', 'Vegetarian', 'Vegetarian', 'Vegetarian', 'Vegetarian', 'Vegetarian', 'Diabetic Friendly', 'Vegetarian', 'Vegetarian', 'Vegetarian', 'Vegetarian', 'Vegetarian', 'Vegetarian', 'Vegetarian', 'High Protein Non Vegetarian', 'Vegetarian', 'Vegetarian', 'Vegetarian', 'Gluten Free', 'High Protein Non Vegetarian', 'Vegetarian', 'High Protein Vegetarian', 'Vegetarian', 'Vegetarian', 'Vegetarian', 'Non Vegeterian', 'Vegetarian', 'Vegetarian', 'Vegetarian', 'Vegetarian', 'Diabetic Friendly', 'Vegetarian', 'Vegetarian', 'Vegetarian', 'Vegetarian', 'Vegetarian', 'Eggetarian', 'Vegetarian', 'Vegetarian', 'Vegetarian', 'High Protein Vegetarian', 'Vegetarian', 'Sugar Free Diet', 'Vegetarian', 'Vegetarian', 'Vegetarian', 'Vegetarian', 'Vegetarian', 'High Protein Vegetarian', 'High Protein Vegetarian', 'Vegetarian', 'Vegetarian', 'High Protein Vegetarian', 'Non Vegeterian', 'Non Vegeterian', 'Vegetarian', 'Vegetarian', 'Vegetarian', 'Vegetarian', 'Vegetarian', 'Vegetarian', 'Vegetarian', 'Gluten Free', 'High Protein Vegetarian', 'Vegetarian', 'Eggetarian', 'Eggetarian', 'High Protein Non Vegetarian', 'Vegetarian', 'Non Vegeterian', 'Vegetarian', 'Vegetarian', 'Vegetarian', 'Vegetarian', 'Vegetarian', 'Vegetarian', 'Vegetarian', 'Vegetarian', 'Vegetarian', 'Eggetarian', 'Vegetarian', 'High Protein Vegetarian', 'Vegetarian', 'Eggetarian', 'Vegetarian', 'Vegetarian', 'Non Vegeterian', 'Vegetarian', 'Vegetarian', 'Vegetarian', 'High Protein Vegetarian', 'Eggetarian', 'Vegetarian', 'Vegetarian', 'Vegetarian', 'Vegetarian', 'Vegetarian', 'Vegetarian', 'High Protein Vegetarian', 'Vegetarian', 'Diabetic Friendly', 'High Protein Non Vegetarian', 'Vegetarian', 'Vegetarian', 'Vegetarian', 'High Protein Vegetarian', 'Vegetarian', 'Vegetarian', 'Vegetarian', 'Vegetarian', 'Gluten Free', 'Vegetarian', 'Vegetarian', 'Non Vegeterian', 'Vegetarian', 'Vegetarian', 'Vegetarian', 'Eggetarian', 'Vegetarian', 'Non Vegeterian', 'Vegetarian', 'Vegetarian', 'Vegetarian', 'Vegetarian', 'Vegetarian', 'Vegetarian', 'Vegetarian', 'Vegetarian', 'Vegetarian', 'Vegetarian', 'Vegetarian', 'Non Vegeterian', 'Vegetarian', 'Vegetarian', 'High Protein Vegetarian', 'Vegetarian', 'Sugar Free Diet', 'Vegetarian', 'Vegetarian', 'Vegetarian', 'Vegetarian', 'Non Vegeterian', 'Vegetarian', 'High Protein Vegetarian', 'Eggetarian', 'Eggetarian', 'Vegetarian', 'Non Vegeterian', 'Vegetarian', 'Vegetarian', 'High Protein Non Vegetarian', 'High Protein Vegetarian', 'Diabetic Friendly', 'Diabetic Friendly', 'Diabetic Friendly', 'Vegetarian', 'Vegetarian', 'No Onion No Garlic (Sattvic)', 'Vegetarian', 'Vegetarian', 'Vegetarian', 'High Protein Vegetarian', 'High Protein Vegetarian', 'Vegetarian', 'Non Vegeterian', 'Vegetarian', 'Vegetarian', 'Vegetarian', 'Vegetarian', 'Vegetarian', 'Gluten Free', 'Non Vegeterian', 'Non Vegeterian', 'Vegetarian', 'Vegetarian', 'Non Vegeterian', 'Eggetarian', 'Vegetarian', 'Non Vegeterian', 'Vegetarian', 'Vegetarian', 'Vegetarian', 'Vegetarian', 'Vegetarian', 'Vegetarian', 'Diabetic Friendly', 'Vegetarian', 'Vegetarian', 'Vegetarian', 'Vegetarian', 'Vegetarian', 'High Protein Non Vegetarian', 'Vegetarian', 'High Protein Vegetarian', 'Vegetarian', 'Vegetarian', 'Vegetarian', 'Diabetic Friendly', 'Vegetarian', 'Vegetarian', 'Vegetarian', 'High Protein Vegetarian', 'Diabetic Friendly', 'Vegetarian', 'Non Vegeterian', 'Vegetarian', 'Vegetarian', 'Sugar Free Diet', 'High Protein Vegetarian', 'Vegetarian', 'Vegetarian', 'Vegetarian', 'Gluten Free', 'Vegetarian', 'High Protein Vegetarian', 'Vegetarian', 'Vegetarian', 'Vegetarian', 'Non Vegeterian', 'Vegetarian', 'Eggetarian', 'Vegetarian', 'Non Vegeterian', 'Diabetic Friendly', 'Vegetarian', 'Vegetarian', 'Vegetarian', 'Vegetarian', 'Vegetarian', 'Vegetarian', 'Vegetarian', 'Vegetarian', 'Vegetarian', 'High Protein Vegetarian', 'Vegetarian', 'High Protein Vegetarian', 'Vegetarian', 'Vegetarian', 'Vegetarian', 'Vegetarian', 'Vegetarian', 'High Protein Vegetarian', 'Vegetarian', 'Vegetarian', 'Vegetarian', 'Vegetarian', 'Vegetarian', 'Vegetarian', 'Eggetarian', 'Vegetarian', 'Vegetarian', 'Vegetarian', 'Vegetarian', 'Vegetarian', 'Vegetarian', 'Sugar Free Diet', 'Vegetarian', 'Vegetarian', 'Vegetarian', 'Vegetarian', 'Vegetarian', 'Vegetarian', 'High Protein Vegetarian', 'Vegetarian', 'Vegetarian', 'High Protein Non Vegetarian', 'Vegetarian', 'Vegetarian', 'High Protein Vegetarian', 'Diabetic Friendly', 'High Protein Vegetarian', 'Vegetarian', 'Vegetarian', 'Vegetarian', 'Non Vegeterian', 'Vegetarian', 'Vegetarian', 'Vegetarian', 'Vegetarian', 'Vegetarian', 'Non Vegeterian', 'High Protein Vegetarian', 'Vegetarian', 'Vegetarian', 'Diabetic Friendly', 'Vegetarian', 'Vegetarian', 'Vegetarian', 'Non Vegeterian', 'Vegetarian', 'Non Vegeterian', 'Vegetarian', 'Vegetarian', 'Vegetarian', 'Diabetic Friendly', 'High Protein Vegetarian', 'High Protein Vegetarian', 'Vegetarian', 'Vegetarian', 'High Protein Vegetarian', 'Vegetarian', 'Vegetarian', 'Vegetarian', 'Vegetarian', 'Non Vegeterian', 'Vegetarian', 'Vegetarian', 'Vegetarian', 'Vegetarian', 'Vegetarian', 'Vegetarian', 'Vegetarian', 'Vegetarian', 'Vegetarian', 'Vegetarian', 'Vegetarian', 'Vegetarian', 'High Protein Non Vegetarian', 'Non Vegeterian', 'Vegetarian', 'Vegetarian', 'Vegetarian', 'Vegetarian', 'Vegetarian', 'Vegetarian', 'High Protein Vegetarian', 'Vegetarian', 'Non Vegeterian', 'Vegetarian', 'Vegetarian', 'Eggetarian', 'Vegetarian', 'Vegetarian', 'Vegetarian', 'Vegetarian', 'Vegetarian', 'Vegetarian', 'Vegetarian', 'No Onion No Garlic (Sattvic)', 'Vegetarian', 'Vegetarian', 'Eggetarian', 'Vegetarian', 'Vegetarian', 'Vegetarian', 'Vegetarian', 'Eggetarian', 'Vegetarian', 'Vegetarian', 'Vegetarian', 'Vegetarian', 'Vegetarian', 'Vegetarian', 'Vegetarian', 'Vegetarian', 'Eggetarian', 'High Protein Vegetarian', 'Vegetarian', 'High Protein Vegetarian', 'High Protein Vegetarian', 'Vegetarian', 'Vegetarian', 'Vegetarian', 'High Protein Non Vegetarian', 'High Protein Non Vegetarian', 'High Protein Vegetarian', 'Non Vegeterian', 'Vegetarian', 'Vegetarian', 'Vegetarian', 'Eggetarian', 'Vegetarian', 'Vegetarian', 'Vegetarian', 'Gluten Free', 'Vegetarian', 'Vegetarian', 'Vegetarian', 'Vegetarian', 'Diabetic Friendly', 'Vegetarian', 'Vegetarian', 'Vegetarian', 'Vegetarian', 'Vegetarian', 'Vegetarian', 'Vegetarian', 'High Protein Non Vegetarian', 'Vegetarian', 'High Protein Vegetarian', 'Vegetarian', 'Vegetarian', 'Vegetarian', 'Vegetarian', 'Vegan', 'High Protein Non Vegetarian', 'Vegetarian', 'Vegetarian', 'High Protein Vegetarian', 'Diabetic Friendly', 'Vegetarian', 'Gluten Free', 'Vegetarian', 'Vegetarian', 'Vegetarian', 'Vegetarian', 'Vegetarian', 'Vegetarian', 'Non Vegeterian', 'Vegetarian', 'Non Vegeterian', 'High Protein Vegetarian', 'Vegetarian', 'Vegan', 'Vegetarian', 'Vegetarian', 'Vegetarian', 'Vegetarian', 'High Protein Vegetarian', 'Vegetarian', 'Eggetarian', 'Vegetarian', 'Vegetarian', 'High Protein Non Vegetarian', 'Diabetic Friendly', 'Vegetarian', 'Vegetarian', 'Vegetarian', 'Vegetarian', 'Vegetarian', 'Vegetarian', 'Vegetarian', 'Non Vegeterian', 'Vegetarian', 'Vegetarian', 'Vegetarian', 'Vegetarian', 'Vegetarian', 'Vegetarian', 'Vegetarian', 'Vegetarian', 'Diabetic Friendly', 'Vegetarian', 'Vegetarian', 'Vegetarian', 'High Protein Vegetarian', 'Vegetarian', 'Vegetarian', 'Eggetarian', 'Vegetarian', 'High Protein Vegetarian', 'High Protein Vegetarian', 'High Protein Non Vegetarian', 'Vegetarian', 'Vegetarian', 'Vegetarian', 'Vegetarian', 'Diabetic Friendly', 'Vegetarian', 'Vegetarian', 'Vegetarian', 'Vegetarian', 'Vegetarian', 'Vegetarian', 'Vegetarian', 'High Protein Vegetarian', 'Vegetarian', 'Vegetarian', 'Non Vegeterian', 'Vegetarian', 'Vegetarian', 'Vegetarian', 'High Protein Vegetarian', 'Eggetarian', 'Non Vegeterian', 'Non Vegeterian', 'High Protein Non Vegetarian', 'Vegetarian', 'Vegetarian', 'Vegetarian', 'Vegetarian', 'Vegetarian', 'Vegetarian', 'Vegetarian', 'Diabetic Friendly', 'Vegetarian', 'Vegetarian', 'High Protein Vegetarian', 'Eggetarian', 'High Protein Vegetarian', 'Eggetarian', 'Eggetarian', 'Eggetarian', 'Vegetarian', 'Vegetarian', 'Vegetarian', 'Vegetarian', 'Vegetarian', 'Vegetarian', 'High Protein Vegetarian', 'Vegetarian', 'Non Vegeterian', 'Vegetarian', 'Vegetarian', 'Vegetarian', 'Vegetarian', 'Non Vegeterian', 'Vegetarian', 'High Protein Vegetarian', 'High Protein Non Vegetarian', 'Vegetarian', 'Eggetarian', 'Vegetarian', 'Vegetarian', 'Vegetarian', 'Eggetarian', 'Vegetarian', 'Vegetarian', 'Vegetarian', 'Vegetarian', 'Vegetarian', 'Diabetic Friendly', 'Vegetarian', 'Diabetic Friendly', 'Vegetarian', 'Vegetarian', 'Non Vegeterian', 'Vegetarian', 'Vegetarian', 'Vegetarian', 'Diabetic Friendly', 'Non Vegeterian', 'Vegetarian', 'Vegetarian', 'Vegetarian', 'Vegetarian', 'Vegetarian', 'Vegetarian', 'Vegetarian', 'Vegetarian', 'Vegetarian', 'Vegetarian', 'Vegetarian', 'Vegetarian', 'Non Vegeterian', 'Vegetarian', 'Non Vegeterian', 'Non Vegeterian', 'High Protein Non Vegetarian', 'Vegetarian', 'Sugar Free Diet', 'Vegetarian', 'Vegetarian', 'Non Vegeterian', 'Vegetarian', 'Vegetarian', 'Vegetarian', 'Non Vegeterian', 'Vegetarian', 'High Protein Vegetarian', 'Vegetarian', 'Vegetarian', 'Vegetarian', 'Vegetarian', 'Vegetarian', 'Vegetarian', 'Vegetarian', 'Vegetarian', 'Vegetarian', 'Vegetarian', 'Vegetarian', 'Vegetarian', 'Vegetarian', 'Vegetarian', 'Vegetarian', 'Vegetarian', 'Vegetarian', 'Vegetarian', 'Vegetarian', 'Vegetarian', 'Vegetarian', 'High Protein Vegetarian', 'Vegetarian', 'Vegetarian', 'Eggetarian', 'Non Vegeterian', 'Vegetarian', 'Vegetarian', 'Vegetarian', 'Vegetarian', 'Vegetarian', 'High Protein Vegetarian', 'Vegetarian', 'Vegetarian', 'Vegetarian', 'Vegetarian', 'Vegetarian', 'Vegetarian', 'Vegetarian', 'Vegetarian', 'Vegetarian', 'Vegetarian', 'Vegetarian', 'Vegetarian', 'Diabetic Friendly', 'Non Vegeterian', 'Vegetarian', 'Vegetarian', 'High Protein Vegetarian', 'Vegetarian', 'Vegetarian', 'Vegetarian', 'Vegetarian', 'Vegetarian', 'Vegetarian', 'Vegetarian', 'Vegetarian', 'Vegetarian', 'High Protein Vegetarian', 'Vegetarian', 'Vegetarian', 'Non Vegeterian', 'Vegetarian', 'Eggetarian', 'Diabetic Friendly', 'Vegetarian', 'No Onion No Garlic (Sattvic)', 'Vegetarian', 'Vegetarian', 'Vegetarian', 'Vegetarian', 'Vegetarian', 'Vegetarian', 'Vegetarian', 'Vegetarian', 'Vegetarian', 'Vegetarian', 'Vegetarian', 'Vegetarian', 'Vegetarian', 'Diabetic Friendly', 'Non Vegeterian', 'High Protein Vegetarian', 'Vegetarian', 'Diabetic Friendly', 'Vegetarian', 'Vegetarian', 'Vegetarian', 'Vegetarian', 'Vegetarian', 'Vegetarian', 'Vegetarian', 'Vegetarian', 'Vegan', 'Vegetarian', 'Vegetarian', 'Non Vegeterian', 'Vegetarian', 'High Protein Vegetarian', 'High Protein Non Vegetarian', 'Vegetarian', 'High Protein Vegetarian', 'Vegetarian', 'Vegetarian', 'Vegetarian', 'Vegetarian', 'Vegetarian', 'High Protein Vegetarian', 'Vegetarian', 'Vegetarian', 'Vegetarian', 'Vegetarian', 'Vegetarian', 'Vegetarian', 'Vegetarian', 'Vegetarian', 'Vegetarian', 'Vegetarian', 'Vegetarian', 'Vegetarian', 'Vegetarian', 'Eggetarian', 'Vegetarian', 'Vegetarian', 'Vegetarian', 'Vegetarian', 'Vegetarian', 'Vegetarian', 'Vegetarian', 'Vegetarian', 'Vegetarian', 'Vegetarian', 'Vegetarian', 'Vegetarian', 'High Protein Non Vegetarian', 'Vegetarian', 'Vegetarian', 'Vegetarian', 'Diabetic Friendly', 'Vegetarian', 'Non Vegeterian', 'Vegetarian', 'Eggetarian', 'High Protein Vegetarian', 'Vegetarian', 'High Protein Non Vegetarian', 'Non Vegeterian', 'High Protein Non Vegetarian', 'Vegetarian', 'High Protein Vegetarian', 'High Protein Vegetarian', 'Vegetarian', 'Non Vegeterian', 'Vegetarian', 'Vegetarian', 'Vegetarian', 'High Protein Vegetarian', 'Vegetarian', 'Diabetic Friendly', 'Vegetarian', 'Vegetarian', 'Diabetic Friendly', 'Vegetarian', 'Vegetarian', 'Non Vegeterian', 'Vegetarian', 'High Protein Vegetarian', 'Vegetarian', 'Non Vegeterian', 'High Protein Vegetarian', 'High Protein Vegetarian', 'Eggetarian', 'Vegetarian', 'High Protein Vegetarian', 'High Protein Vegetarian', 'Vegetarian', 'High Protein Vegetarian', 'Diabetic Friendly', 'Vegetarian', 'Vegetarian', 'Vegetarian', 'Vegetarian', 'Vegetarian', 'Non Vegeterian', 'Vegetarian', 'Vegetarian', 'Vegetarian', 'Vegetarian', 'Non Vegeterian', 'Vegetarian', 'High Protein Vegetarian', 'High Protein Vegetarian', 'High Protein Vegetarian', 'Non Vegeterian', 'Vegan', 'Vegetarian', 'High Protein Non Vegetarian', 'Vegetarian', 'Vegetarian', 'Vegetarian', 'Vegetarian', 'Vegetarian', 'High Protein Vegetarian', 'Vegetarian', 'Non Vegeterian', 'Vegetarian', 'Vegetarian', 'Diabetic Friendly', 'Vegetarian', 'Vegetarian', 'Vegetarian', 'Vegetarian', 'Diabetic Friendly', 'Vegetarian', 'Vegetarian', 'Vegetarian', 'Vegetarian', 'High Protein Vegetarian', 'Vegetarian', 'Vegetarian', 'Vegetarian', 'Diabetic Friendly', 'Vegetarian', 'Diabetic Friendly', 'Vegetarian', 'Vegetarian', 'Diabetic Friendly', 'Diabetic Friendly', 'No Onion No Garlic (Sattvic)', 'Vegetarian', 'Vegetarian', 'Vegetarian', 'Vegetarian', 'Vegetarian', 'Vegetarian', 'Vegetarian', 'Non Vegeterian', 'Vegetarian', 'Vegetarian', 'High Protein Vegetarian', 'High Protein Vegetarian', 'Vegetarian', 'Vegetarian', 'Vegetarian', 'Diabetic Friendly', 'Vegetarian', 'Vegetarian', 'Vegetarian', 'Vegetarian', 'Vegetarian', 'Vegetarian', 'Vegetarian', 'Vegetarian', 'Vegetarian', 'Vegetarian', 'High Protein Vegetarian', 'Vegetarian', 'Vegetarian', 'Vegetarian', 'Non Vegeterian', 'Vegetarian', 'Diabetic Friendly', 'Vegetarian', 'Non Vegeterian', 'Vegetarian', 'High Protein Vegetarian', 'Diabetic Friendly', 'High Protein Vegetarian', 'Diabetic Friendly', 'Vegetarian', 'High Protein Vegetarian', 'Non Vegeterian', 'Vegetarian', 'Vegetarian', 'Vegetarian', 'Vegetarian', 'Vegetarian', 'Eggetarian', 'Vegetarian', 'Vegetarian', 'Vegetarian', 'High Protein Non Vegetarian', 'Vegetarian', 'Vegan', 'Vegetarian', 'Vegetarian', 'High Protein Vegetarian', 'Eggetarian', 'High Protein Non Vegetarian', 'Vegetarian', 'Vegetarian', 'Vegetarian', 'Vegetarian', 'Vegetarian', 'Non Vegeterian', 'Eggetarian', 'High Protein Vegetarian', 'Vegetarian', 'High Protein Vegetarian', 'Vegetarian', 'Vegetarian', 'Vegetarian', 'Vegetarian', 'Vegetarian', 'Vegetarian', 'Vegetarian', 'Vegetarian', 'High Protein Non Vegetarian', 'Vegetarian', 'Vegetarian', 'Vegetarian', 'Vegetarian', 'Vegetarian', 'Vegetarian', 'Vegetarian', 'Vegetarian', 'Vegetarian', 'Vegetarian', 'Vegetarian', 'High Protein Vegetarian', 'High Protein Vegetarian', 'Vegetarian', 'High Protein Vegetarian', 'Vegetarian', 'Vegetarian', 'Diabetic Friendly', 'Vegetarian', 'Diabetic Friendly', 'Vegetarian', 'Vegetarian', 'Vegetarian', 'High Protein Vegetarian', 'Vegetarian', 'High Protein Vegetarian', 'High Protein Vegetarian', 'High Protein Vegetarian', 'High Protein Vegetarian', 'Vegetarian', 'Vegetarian', 'Diabetic Friendly', 'Diabetic Friendly', 'Vegetarian', 'No Onion No Garlic (Sattvic)', 'Vegetarian', 'Diabetic Friendly', 'Diabetic Friendly', 'Vegetarian', 'Vegetarian', 'High Protein Vegetarian', 'Vegetarian', 'Eggetarian', 'Sugar Free Diet', 'Vegetarian', 'High Protein Vegetarian', 'Vegetarian', 'Vegetarian', 'Vegetarian', 'Vegetarian', 'Vegetarian', 'Vegetarian', 'Vegetarian', 'Vegetarian', 'Eggetarian', 'Vegetarian', 'Vegetarian', 'Vegetarian', 'Vegetarian', 'Eggetarian', 'Vegetarian', 'High Protein Vegetarian', 'Vegetarian', 'High Protein Vegetarian', 'Diabetic Friendly', 'Vegetarian', 'Vegetarian', 'Vegetarian', 'High Protein Non Vegetarian', 'Vegetarian', 'Vegetarian', 'Diabetic Friendly', 'Vegetarian', 'Vegetarian', 'Vegetarian', 'High Protein Vegetarian', 'High Protein Vegetarian', 'Vegetarian', 'Vegetarian', 'Eggetarian', 'Vegetarian', 'Vegetarian', 'Vegetarian', 'High Protein Vegetarian', 'Vegetarian', 'Vegetarian', 'Vegetarian', 'Vegetarian', 'Vegetarian', 'High Protein Non Vegetarian', 'Vegetarian', 'High Protein Non Vegetarian', 'Vegetarian', 'Vegetarian', 'Vegetarian', 'Diabetic Friendly', 'Vegetarian', 'Eggetarian', 'Vegetarian', 'Vegetarian', 'Vegetarian', 'Vegetarian', 'Vegetarian', 'Vegetarian', 'High Protein Vegetarian', 'Vegetarian', 'High Protein Vegetarian', 'Vegetarian', 'Vegetarian', 'Vegetarian', 'Eggetarian', 'High Protein Non Vegetarian', 'Vegetarian', 'Vegetarian', 'Vegetarian', 'Vegetarian', 'Vegetarian', 'Vegetarian', 'High Protein Non Vegetarian', 'Vegetarian', 'Vegetarian', 'Vegetarian', 'Vegetarian', 'Vegetarian', 'High Protein Non Vegetarian', 'Vegetarian', 'Vegetarian', 'Vegetarian', 'Vegetarian', 'High Protein Vegetarian', 'High Protein Non Vegetarian', 'Non Vegeterian', 'Non Vegeterian', 'Vegetarian', 'Vegetarian', 'Vegetarian', 'Vegetarian', 'Vegetarian', 'High Protein Vegetarian', 'Vegetarian', 'Vegetarian', 'Vegetarian', 'Vegetarian', 'Diabetic Friendly', 'Vegetarian', 'Eggetarian', 'Vegetarian', 'Vegetarian', 'Eggetarian', 'Diabetic Friendly', 'High Protein Non Vegetarian', 'Vegetarian', 'Vegetarian', 'Vegetarian', 'Vegetarian', 'Vegetarian', 'Vegetarian', 'Vegetarian', 'No Onion No Garlic (Sattvic)', 'High Protein Vegetarian', 'Vegetarian', 'Vegetarian', 'Vegetarian', 'Vegetarian', 'Diabetic Friendly', 'Vegetarian', 'Vegetarian', 'Vegetarian', 'Gluten Free', 'Vegetarian', 'Non Vegeterian', 'Vegetarian', 'Vegetarian', 'Vegetarian', 'Vegetarian', 'Vegetarian', 'Vegetarian', 'Vegetarian', 'Vegetarian', 'Vegetarian', 'Vegetarian', 'Vegetarian', 'High Protein Vegetarian', 'Vegetarian', 'Vegan', 'Vegetarian', 'Vegetarian', 'Vegetarian', 'Vegetarian', 'Vegetarian', 'Eggetarian', 'Vegetarian', 'Vegetarian', 'Vegetarian', 'Non Vegeterian', 'High Protein Vegetarian', 'Vegetarian', 'Vegetarian', 'Non Vegeterian', 'Non Vegeterian', 'Vegetarian', 'Vegetarian', 'Vegetarian', 'Vegetarian', 'Vegetarian', 'High Protein Vegetarian', 'Non Vegeterian', 'Vegetarian', 'High Protein Vegetarian', 'Vegetarian', 'Vegetarian', 'Vegetarian', 'High Protein Vegetarian', 'Vegetarian', 'Vegetarian', 'Vegetarian', 'High Protein Non Vegetarian', 'Non Vegeterian', 'Vegetarian', 'Vegetarian', 'Vegetarian', 'Vegetarian', 'Vegetarian', 'Eggetarian', 'Eggetarian', 'Diabetic Friendly', 'Vegetarian', 'Vegetarian', 'High Protein Non Vegetarian', 'High Protein Vegetarian', 'Non Vegeterian', 'Vegetarian', 'High Protein Vegetarian', 'Vegetarian', 'Vegetarian', 'Vegetarian', 'Vegetarian', 'Vegetarian', 'Vegetarian', 'Vegetarian', 'Vegetarian', 'Vegetarian', 'Vegetarian', 'Vegetarian', 'Vegetarian', 'Vegetarian', 'High Protein Vegetarian', 'High Protein Vegetarian', 'No Onion No Garlic (Sattvic)', 'High Protein Vegetarian', 'Vegetarian', 'Vegetarian', 'Eggetarian', 'Vegetarian', 'Diabetic Friendly', 'Vegetarian', 'Vegetarian', 'Vegetarian', 'Vegetarian', 'Vegetarian', 'Vegetarian', 'Vegetarian', 'Non Vegeterian', 'High Protein Vegetarian', 'Vegetarian', 'Vegetarian', 'Diabetic Friendly', 'Vegetarian', 'Non Vegeterian', 'Vegetarian', 'High Protein Vegetarian', 'Vegetarian', 'Vegetarian', 'Vegetarian', 'Vegetarian', 'Vegetarian', 'High Protein Vegetarian', 'Eggetarian', 'No Onion No Garlic (Sattvic)', 'Vegetarian', 'Diabetic Friendly', 'Non Vegeterian', 'Vegetarian', 'Vegetarian', 'Non Vegeterian', 'Vegetarian', 'Eggetarian', 'Vegetarian', 'High Protein Vegetarian', 'Eggetarian', 'Vegetarian', 'Vegetarian', 'Vegetarian', 'Non Vegeterian', 'Vegetarian', 'Eggetarian', 'Vegetarian', 'Vegetarian', 'Vegetarian', 'Gluten Free', 'Vegetarian', 'Vegetarian', 'Vegetarian', 'High Protein Non Vegetarian', 'Vegetarian', 'High Protein Vegetarian', 'Vegetarian', 'Non Vegeterian', 'Vegetarian', 'High Protein Non Vegetarian', 'High Protein Vegetarian', 'Vegetarian', 'Vegetarian', 'Vegetarian', 'Vegetarian', 'Diabetic Friendly', 'Vegetarian', 'High Protein Vegetarian', 'Vegetarian', 'High Protein Vegetarian', 'Vegetarian', 'Diabetic Friendly', 'Vegetarian', 'Vegetarian', 'Vegetarian', 'Vegetarian', 'Vegetarian', 'Eggetarian', 'Diabetic Friendly', 'Vegetarian', 'High Protein Vegetarian', 'Vegetarian', 'Non Vegeterian', 'Vegetarian', 'Vegetarian', 'Vegetarian', 'Vegetarian', 'Vegetarian', 'Eggetarian', 'Vegetarian', 'Vegetarian', 'Vegetarian', 'Vegetarian', 'Vegetarian', 'Vegetarian', 'High Protein Vegetarian', 'Vegetarian', 'Diabetic Friendly', 'Vegetarian', 'Vegetarian', 'Vegetarian', 'Vegetarian', 'No Onion No Garlic (Sattvic)', 'Vegetarian', 'Vegetarian', 'Eggetarian', 'Vegetarian', 'Vegetarian', 'Vegetarian', 'Vegetarian', 'High Protein Vegetarian', 'Non Vegeterian', 'Vegetarian', 'High Protein Vegetarian', 'High Protein Vegetarian', 'Vegetarian', 'High Protein Vegetarian', 'Non Vegeterian', 'Vegetarian', 'Vegetarian', 'Vegetarian', 'Vegetarian', 'High Protein Vegetarian', 'High Protein Vegetarian', 'Vegetarian', 'Eggetarian', 'High Protein Vegetarian', 'Vegetarian', 'Vegetarian', 'High Protein Vegetarian', 'Vegetarian', 'Vegetarian', 'Vegetarian', 'Vegetarian', 'Vegetarian', 'Vegetarian', 'Vegetarian', 'Vegetarian', 'Vegetarian', 'Vegetarian', 'Vegetarian', 'High Protein Non Vegetarian', 'Vegetarian', 'Vegetarian', 'Vegetarian', 'Diabetic Friendly', 'High Protein Vegetarian', 'Vegetarian', 'Vegetarian', 'High Protein Non Vegetarian', 'High Protein Vegetarian', 'High Protein Vegetarian', 'Vegetarian', 'Vegetarian', 'High Protein Vegetarian', 'High Protein Vegetarian', 'Vegetarian', 'Vegetarian', 'Eggetarian', 'High Protein Non Vegetarian', 'Vegetarian', 'Non Vegeterian', 'Vegetarian', 'Vegetarian', 'Vegetarian', 'Vegetarian', 'Vegetarian', 'Vegetarian', 'High Protein Vegetarian', 'Vegetarian', 'Vegetarian', 'Eggetarian', 'Vegetarian', 'Vegetarian', 'Vegetarian', 'Vegetarian', 'Diabetic Friendly', 'Vegetarian', 'Non Vegeterian', 'High Protein Vegetarian']\n"
     ]
    }
   ],
   "source": [
    "print(ds[\"Diet\"].tolist())"
   ]
  },
  {
   "cell_type": "code",
   "execution_count": 18,
   "metadata": {},
   "outputs": [
    {
     "data": {
      "text/plain": [
       "6871"
      ]
     },
     "execution_count": 18,
     "metadata": {},
     "output_type": "execute_result"
    }
   ],
   "source": [
    "d = []\n",
    "diet = ds[\"Diet\"].tolist()\n",
    "for name in diet:\n",
    "   if\"High Protein\" in name:\n",
    "      d.append(\"High Protein\")\n",
    "   else:\n",
    "      d.append(None)\n",
    "len(d)\n"
   ]
  },
  {
   "cell_type": "code",
   "execution_count": 19,
   "metadata": {},
   "outputs": [],
   "source": [
    "ds.insert(9, \"Protein\", d)"
   ]
  },
  {
   "cell_type": "code",
   "execution_count": 20,
   "metadata": {},
   "outputs": [],
   "source": [
    "name_map = {'High Protein Vegetarian': 'Vegetarian', 'High Protein Non Vegetarian': 'Non Vegeterian'}"
   ]
  },
  {
   "cell_type": "code",
   "execution_count": 21,
   "metadata": {},
   "outputs": [
    {
     "data": {
      "text/plain": [
       "array(['Diabetic Friendly', 'Vegetarian', 'Non Vegeterian', 'Eggetarian',\n",
       "       'Vegan', 'No Onion No Garlic (Sattvic)', 'Gluten Free',\n",
       "       'Sugar Free Diet'], dtype=object)"
      ]
     },
     "execution_count": 21,
     "metadata": {},
     "output_type": "execute_result"
    }
   ],
   "source": [
    "ds['Diet'] = ds['Diet'].replace(name_map)\n",
    "ds['Diet'].unique()"
   ]
  },
  {
   "cell_type": "code",
   "execution_count": 22,
   "metadata": {},
   "outputs": [
    {
     "data": {
      "text/html": [
       "<div>\n",
       "<style scoped>\n",
       "    .dataframe tbody tr th:only-of-type {\n",
       "        vertical-align: middle;\n",
       "    }\n",
       "\n",
       "    .dataframe tbody tr th {\n",
       "        vertical-align: top;\n",
       "    }\n",
       "\n",
       "    .dataframe thead th {\n",
       "        text-align: right;\n",
       "    }\n",
       "</style>\n",
       "<table border=\"1\" class=\"dataframe\">\n",
       "  <thead>\n",
       "    <tr style=\"text-align: right;\">\n",
       "      <th></th>\n",
       "      <th>RecipeName</th>\n",
       "      <th>Ingredients</th>\n",
       "      <th>PrepTimeInMins</th>\n",
       "      <th>CookTimeInMins</th>\n",
       "      <th>TotalTimeInMins</th>\n",
       "      <th>Servings</th>\n",
       "      <th>Cuisine</th>\n",
       "      <th>Course</th>\n",
       "      <th>Diet</th>\n",
       "      <th>Protein</th>\n",
       "      <th>Instructions</th>\n",
       "    </tr>\n",
       "  </thead>\n",
       "  <tbody>\n",
       "    <tr>\n",
       "      <th>0</th>\n",
       "      <td>Masala Karela Recipe</td>\n",
       "      <td>6 Karela (Bitter Gourd/ Pavakkai) - deseeded,S...</td>\n",
       "      <td>15</td>\n",
       "      <td>30</td>\n",
       "      <td>45</td>\n",
       "      <td>6</td>\n",
       "      <td>Indian</td>\n",
       "      <td>Side Dish</td>\n",
       "      <td>Diabetic Friendly</td>\n",
       "      <td>None</td>\n",
       "      <td>To begin making the Masala Karela Recipe,de-se...</td>\n",
       "    </tr>\n",
       "    <tr>\n",
       "      <th>1</th>\n",
       "      <td>Spicy Tomato Rice (Recipe)</td>\n",
       "      <td>2-1 / 2 cups rice - cooked, 3 tomatoes, 3 teas...</td>\n",
       "      <td>5</td>\n",
       "      <td>10</td>\n",
       "      <td>15</td>\n",
       "      <td>3</td>\n",
       "      <td>South Indian Recipes</td>\n",
       "      <td>Main Course</td>\n",
       "      <td>Vegetarian</td>\n",
       "      <td>None</td>\n",
       "      <td>To make tomato puliogere, first cut the tomato...</td>\n",
       "    </tr>\n",
       "    <tr>\n",
       "      <th>2</th>\n",
       "      <td>Ragi Semiya Upma Recipe - Ragi Millet Vermicel...</td>\n",
       "      <td>1-1/2 cups Rice Vermicelli Noodles (Thin),1 On...</td>\n",
       "      <td>20</td>\n",
       "      <td>30</td>\n",
       "      <td>50</td>\n",
       "      <td>4</td>\n",
       "      <td>South Indian Recipes</td>\n",
       "      <td>South Indian Breakfast</td>\n",
       "      <td>Vegetarian</td>\n",
       "      <td>High Protein</td>\n",
       "      <td>To begin making the Ragi Vermicelli Recipe, fi...</td>\n",
       "    </tr>\n",
       "    <tr>\n",
       "      <th>3</th>\n",
       "      <td>Gongura Chicken Curry Recipe - Andhra Style Go...</td>\n",
       "      <td>500 grams Chicken,2 Onion - chopped,1 Tomato -...</td>\n",
       "      <td>15</td>\n",
       "      <td>30</td>\n",
       "      <td>45</td>\n",
       "      <td>4</td>\n",
       "      <td>Andhra</td>\n",
       "      <td>Lunch</td>\n",
       "      <td>Non Vegeterian</td>\n",
       "      <td>None</td>\n",
       "      <td>To begin making Gongura Chicken Curry Recipe f...</td>\n",
       "    </tr>\n",
       "    <tr>\n",
       "      <th>4</th>\n",
       "      <td>Andhra Style Alam Pachadi Recipe - Adrak Chutn...</td>\n",
       "      <td>1 tablespoon chana dal, 1 tablespoon white ura...</td>\n",
       "      <td>10</td>\n",
       "      <td>20</td>\n",
       "      <td>30</td>\n",
       "      <td>4</td>\n",
       "      <td>Andhra</td>\n",
       "      <td>South Indian Breakfast</td>\n",
       "      <td>Vegetarian</td>\n",
       "      <td>None</td>\n",
       "      <td>To make Andhra Style Alam Pachadi, first heat ...</td>\n",
       "    </tr>\n",
       "  </tbody>\n",
       "</table>\n",
       "</div>"
      ],
      "text/plain": [
       "                                          RecipeName  \\\n",
       "0                               Masala Karela Recipe   \n",
       "1                         Spicy Tomato Rice (Recipe)   \n",
       "2  Ragi Semiya Upma Recipe - Ragi Millet Vermicel...   \n",
       "3  Gongura Chicken Curry Recipe - Andhra Style Go...   \n",
       "4  Andhra Style Alam Pachadi Recipe - Adrak Chutn...   \n",
       "\n",
       "                                         Ingredients  PrepTimeInMins  \\\n",
       "0  6 Karela (Bitter Gourd/ Pavakkai) - deseeded,S...              15   \n",
       "1  2-1 / 2 cups rice - cooked, 3 tomatoes, 3 teas...               5   \n",
       "2  1-1/2 cups Rice Vermicelli Noodles (Thin),1 On...              20   \n",
       "3  500 grams Chicken,2 Onion - chopped,1 Tomato -...              15   \n",
       "4  1 tablespoon chana dal, 1 tablespoon white ura...              10   \n",
       "\n",
       "   CookTimeInMins  TotalTimeInMins  Servings               Cuisine  \\\n",
       "0              30               45         6                Indian   \n",
       "1              10               15         3  South Indian Recipes   \n",
       "2              30               50         4  South Indian Recipes   \n",
       "3              30               45         4                Andhra   \n",
       "4              20               30         4                Andhra   \n",
       "\n",
       "                   Course               Diet       Protein  \\\n",
       "0               Side Dish  Diabetic Friendly          None   \n",
       "1             Main Course         Vegetarian          None   \n",
       "2  South Indian Breakfast         Vegetarian  High Protein   \n",
       "3                   Lunch     Non Vegeterian          None   \n",
       "4  South Indian Breakfast         Vegetarian          None   \n",
       "\n",
       "                                        Instructions  \n",
       "0  To begin making the Masala Karela Recipe,de-se...  \n",
       "1  To make tomato puliogere, first cut the tomato...  \n",
       "2  To begin making the Ragi Vermicelli Recipe, fi...  \n",
       "3  To begin making Gongura Chicken Curry Recipe f...  \n",
       "4  To make Andhra Style Alam Pachadi, first heat ...  "
      ]
     },
     "execution_count": 22,
     "metadata": {},
     "output_type": "execute_result"
    }
   ],
   "source": [
    "ds.head(5)"
   ]
  },
  {
   "cell_type": "code",
   "execution_count": 23,
   "metadata": {},
   "outputs": [],
   "source": [
    "ds.to_csv('Food.csv')"
   ]
  },
  {
   "cell_type": "code",
   "execution_count": 175,
   "metadata": {},
   "outputs": [
    {
     "data": {
      "text/plain": [
       "array(['Indian', 'South Indian Recipes', 'Andhra', 'Udupi', 'Mexican',\n",
       "       'Fusion', 'Continental', 'Bengali Recipes', 'Punjabi', 'Chettinad',\n",
       "       'Tamil Nadu', 'Maharashtrian Recipes', 'North Indian Recipes',\n",
       "       'Italian Recipes', 'Sindhi', 'Thai', 'Chinese', 'Kerala Recipes',\n",
       "       'Gujarati Recipes\\ufeff', 'Coorg', 'Rajasthani', 'Asian',\n",
       "       'Middle Eastern', 'Coastal Karnataka', 'European', 'Kashmiri',\n",
       "       'Karnataka', 'Lucknowi', 'Hyderabadi', 'Side Dish', 'Goan Recipes',\n",
       "       'Arab', 'Assamese', 'Bihari', 'Malabar', 'Himachal', 'Awadhi',\n",
       "       'Cantonese', 'North East India Recipes', 'Sichuan', 'Mughlai',\n",
       "       'Japanese', 'Mangalorean', 'Vietnamese', 'British',\n",
       "       'North Karnataka', 'Parsi Recipes', 'Greek', 'Nepalese',\n",
       "       'Oriya Recipes', 'French', 'Indo Chinese', 'Konkan',\n",
       "       'Mediterranean', 'Sri Lankan', 'Haryana', 'Uttar Pradesh',\n",
       "       'Malvani', 'Indonesian', 'African', 'Shandong', 'Korean',\n",
       "       'American', 'Kongunadu', 'Pakistani', 'Caribbean',\n",
       "       'South Karnataka', 'Appetizer', 'Uttarakhand-North Kumaon',\n",
       "       'World Breakfast', 'Malaysian', 'Dessert', 'Hunan', 'Dinner',\n",
       "       'Snack', 'Jewish', 'Burmese', 'Afghan', 'Brunch', 'Jharkhand',\n",
       "       'Nagaland', 'Lunch'], dtype=object)"
      ]
     },
     "execution_count": 175,
     "metadata": {},
     "output_type": "execute_result"
    }
   ],
   "source": [
    "ds['Cuisine'].unique()"
   ]
  },
  {
   "cell_type": "code",
   "execution_count": 176,
   "metadata": {},
   "outputs": [
    {
     "data": {
      "text/plain": [
       "82"
      ]
     },
     "execution_count": 176,
     "metadata": {},
     "output_type": "execute_result"
    }
   ],
   "source": [
    "ds['Cuisine'].nunique()"
   ]
  },
  {
   "cell_type": "code",
   "execution_count": 177,
   "metadata": {},
   "outputs": [],
   "source": [
    "# ds['TotalTimeInMins'].nunique()"
   ]
  },
  {
   "cell_type": "code",
   "execution_count": 223,
   "metadata": {},
   "outputs": [
    {
     "data": {
      "text/plain": [
       "Indian                   1157\n",
       "Continental              1021\n",
       "North Indian Recipes      938\n",
       "South Indian Recipes      682\n",
       "Italian Recipes           236\n",
       "Bengali Recipes           175\n",
       "Maharashtrian Recipes     173\n",
       "Kerala Recipes            163\n",
       "Tamil Nadu                156\n",
       "Karnataka                 149\n",
       "Name: Cuisine, dtype: int64"
      ]
     },
     "execution_count": 223,
     "metadata": {},
     "output_type": "execute_result"
    }
   ],
   "source": [
    "max_5 = ds['Cuisine'].value_counts().head(10)\n",
    "max_5"
   ]
  },
  {
   "cell_type": "markdown",
   "metadata": {},
   "source": []
  },
  {
   "cell_type": "code",
   "execution_count": 179,
   "metadata": {},
   "outputs": [],
   "source": [
    "import matplotlib.pyplot as plt"
   ]
  },
  {
   "cell_type": "code",
   "execution_count": 263,
   "metadata": {},
   "outputs": [],
   "source": [
    "x = ds['Cuisine']\n",
    "y = ds['TotalTimeInMins']"
   ]
  },
  {
   "cell_type": "code",
   "execution_count": 264,
   "metadata": {},
   "outputs": [
    {
     "data": {
      "image/png": "[encoded data removed]",
      "text/plain": [
       "<Figure size 640x480 with 1 Axes>"
      ]
     },
     "metadata": {},
     "output_type": "display_data"
    }
   ],
   "source": [
    "mean_time = y.groupby(x).mean()\n",
    "\n",
    "# Plot the mean time for each cuisine\n",
    "plt.bar(mean_time.index, mean_time)\n",
    "\n",
    "# Set the title\n",
    "plt.title('Cuisine time')\n",
    "\n",
    "# Show the plot\n",
    "plt.show()"
   ]
  },
  {
   "cell_type": "code",
   "execution_count": 265,
   "metadata": {},
   "outputs": [
    {
     "name": "stdout",
     "output_type": "stream",
     "text": [
      "Continental   2925\n"
     ]
    }
   ],
   "source": [
    "max_time = y.max()\n",
    "\n",
    "# Get the cuisine with the maximum time\n",
    "cuisine_with_max_time = x[y == max_time].values[0]\n",
    "print(cuisine_with_max_time, \" \", max_time)"
   ]
  },
  {
   "cell_type": "code",
   "execution_count": 268,
   "metadata": {},
   "outputs": [
    {
     "name": "stdout",
     "output_type": "stream",
     "text": [
      "                             RecipeName  \\\n",
      "4288  Traditional Christmas Cake Recipe   \n",
      "\n",
      "                                            Ingredients  PrepTimeInMins  \\\n",
      "4288  3/4 cup Black raisins,1/4 cup Prunes - chopped...            2880   \n",
      "\n",
      "      CookTimeInMins  TotalTimeInMins  Servings      Cuisine   Course Protein  \\\n",
      "4288              45             2925         1  Continental  Dessert    None   \n",
      "\n",
      "            Diet                                       Instructions  \n",
      "4288  Eggetarian  To begin making the Traditional Christmas Cake...  \n"
     ]
    }
   ],
   "source": [
    "print(ds[ds['TotalTimeInMins'] == max_time])"
   ]
  },
  {
   "cell_type": "code",
   "execution_count": 258,
   "metadata": {},
   "outputs": [],
   "source": [
    "y1 = ds['CookTimeInMins']"
   ]
  },
  {
   "cell_type": "code",
   "execution_count": 269,
   "metadata": {},
   "outputs": [
    {
     "name": "stdout",
     "output_type": "stream",
     "text": [
      "Continental   900\n",
      "                           RecipeName  \\\n",
      "5359  Homemade Mango Ice-Cream Recipe   \n",
      "\n",
      "                                            Ingredients  PrepTimeInMins  \\\n",
      "5359  400 ml Fresh cream - Amul,1 cup Mango Pulp (Pu...              20   \n",
      "\n",
      "      CookTimeInMins  TotalTimeInMins  Servings      Cuisine   Course Protein  \\\n",
      "5359             900              920         6  Continental  Dessert    None   \n",
      "\n",
      "            Diet                                       Instructions  \n",
      "5359  Vegetarian  To begin making the Homemade Mango Ice-Cream R...  \n"
     ]
    }
   ],
   "source": [
    "max_time1 = y1.max()\n",
    "\n",
    "# Get the cuisine with the maximum time\n",
    "cuisine_with_max_time1 = x[y1 == max_time1].values[0]\n",
    "# x = pd.DataFrame(cuisine_with_max_time)\n",
    "print(cuisine_with_max_time, \" \", max_time1)\n",
    "print(ds[ds['CookTimeInMins'] == max_time1])"
   ]
  },
  {
   "cell_type": "code",
   "execution_count": 270,
   "metadata": {},
   "outputs": [
    {
     "data": {
      "image/png": "[encoded data removed]",
      "text/plain": [
       "<Figure size 640x480 with 1 Axes>"
      ]
     },
     "metadata": {},
     "output_type": "display_data"
    },
    {
     "data": {
      "text/plain": [
       "<Figure size 150000x100000 with 0 Axes>"
      ]
     },
     "metadata": {},
     "output_type": "display_data"
    }
   ],
   "source": [
    "plt.bar(x, y)\n",
    "plt.figure(figsize=(1500,1000))\n",
    "plt.show()"
   ]
  },
  {
   "cell_type": "code",
   "execution_count": 273,
   "metadata": {},
   "outputs": [
    {
     "name": "stderr",
     "output_type": "stream",
     "text": [
      "/var/folders/_9/j788256j04l0rf54jz7ntfvw0000gn/T/ipykernel_40866/2971842641.py:1: FutureWarning: The default value of numeric_only in DataFrame.corr is deprecated. In a future version, it will default to False. Select only valid columns or specify the value of numeric_only to silence this warning.\n",
      "  ds.corr()\n"
     ]
    },
    {
     "data": {
      "text/html": [
       "<div>\n",
       "<style scoped>\n",
       "    .dataframe tbody tr th:only-of-type {\n",
       "        vertical-align: middle;\n",
       "    }\n",
       "\n",
       "    .dataframe tbody tr th {\n",
       "        vertical-align: top;\n",
       "    }\n",
       "\n",
       "    .dataframe thead th {\n",
       "        text-align: right;\n",
       "    }\n",
       "</style>\n",
       "<table border=\"1\" class=\"dataframe\">\n",
       "  <thead>\n",
       "    <tr style=\"text-align: right;\">\n",
       "      <th></th>\n",
       "      <th>PrepTimeInMins</th>\n",
       "      <th>CookTimeInMins</th>\n",
       "      <th>TotalTimeInMins</th>\n",
       "      <th>Servings</th>\n",
       "    </tr>\n",
       "  </thead>\n",
       "  <tbody>\n",
       "    <tr>\n",
       "      <th>PrepTimeInMins</th>\n",
       "      <td>1.000000</td>\n",
       "      <td>0.025849</td>\n",
       "      <td>0.923579</td>\n",
       "      <td>0.071771</td>\n",
       "    </tr>\n",
       "    <tr>\n",
       "      <th>CookTimeInMins</th>\n",
       "      <td>0.025849</td>\n",
       "      <td>1.000000</td>\n",
       "      <td>0.407154</td>\n",
       "      <td>-0.007956</td>\n",
       "    </tr>\n",
       "    <tr>\n",
       "      <th>TotalTimeInMins</th>\n",
       "      <td>0.923579</td>\n",
       "      <td>0.407154</td>\n",
       "      <td>1.000000</td>\n",
       "      <td>0.062523</td>\n",
       "    </tr>\n",
       "    <tr>\n",
       "      <th>Servings</th>\n",
       "      <td>0.071771</td>\n",
       "      <td>-0.007956</td>\n",
       "      <td>0.062523</td>\n",
       "      <td>1.000000</td>\n",
       "    </tr>\n",
       "  </tbody>\n",
       "</table>\n",
       "</div>"
      ],
      "text/plain": [
       "                 PrepTimeInMins  CookTimeInMins  TotalTimeInMins  Servings\n",
       "PrepTimeInMins         1.000000        0.025849         0.923579  0.071771\n",
       "CookTimeInMins         0.025849        1.000000         0.407154 -0.007956\n",
       "TotalTimeInMins        0.923579        0.407154         1.000000  0.062523\n",
       "Servings               0.071771       -0.007956         0.062523  1.000000"
      ]
     },
     "execution_count": 273,
     "metadata": {},
     "output_type": "execute_result"
    }
   ],
   "source": [
    "ds.corr()"
   ]
  },
  {
   "cell_type": "code",
   "execution_count": 274,
   "metadata": {},
   "outputs": [],
   "source": [
    "ds = ds.drop(['PrepTimeInMins', 'CookTimeInMins'], axis = 1)"
   ]
  },
  {
   "cell_type": "code",
   "execution_count": 279,
   "metadata": {},
   "outputs": [],
   "source": [
    "from sklearn.tree import DecisionTreeClassifier\n",
    "from sklearn.model_selection import train_test_split\n",
    "from sklearn import metrics"
   ]
  },
  {
   "cell_type": "code",
   "execution_count": 26,
   "metadata": {},
   "outputs": [],
   "source": [
    "# feature_names = [ 'TotalTimeInMins' , 'Cuisine' , 'Course' , 'Diet']\n",
    "\n",
    "# X = ds[feature_names]\n",
    "# y = ds.RecipeName"
   ]
  },
  {
   "cell_type": "code",
   "execution_count": 27,
   "metadata": {},
   "outputs": [
    {
     "data": {
      "text/plain": [
       "array([33, 72,  3, 77, 54, 25, 19,  9, 65, 16, 75, 48, 60, 36, 70, 76, 17,\n",
       "       42, 28, 20, 66,  6, 55, 18, 23, 41, 40, 46, 32, 69, 26,  5,  7, 10,\n",
       "       49, 30,  8, 14, 59, 68, 56, 37, 52, 80, 11, 61, 64, 27, 58, 62, 24,\n",
       "       34, 44, 53, 74, 29, 78, 51, 35,  1, 67, 45,  2, 43, 63, 15, 73,  4,\n",
       "       79, 81, 50, 21, 31, 22, 71, 38, 13,  0, 12, 39, 57, 47])"
      ]
     },
     "execution_count": 27,
     "metadata": {},
     "output_type": "execute_result"
    }
   ],
   "source": [
    "from sklearn import preprocessing\n",
    "\n",
    "label_encoder = preprocessing.LabelEncoder()\n",
    "\n",
    "ds['Cuisine'] =  label_encoder.fit_transform(ds['Cuisine' ])\n",
    "\n",
    "ds['Cuisine'].unique()\n",
    "\n",
    "# label_encoder.fit(ds['Cuisine'].values)\n",
    "# print(label_encoder.classes_)"
   ]
  },
  {
   "cell_type": "code",
   "execution_count": 28,
   "metadata": {},
   "outputs": [
    {
     "data": {
      "text/plain": [
       "array([0, 9, 4, 6, 3, 1, 8, 5, 2, 7])"
      ]
     },
     "execution_count": 28,
     "metadata": {},
     "output_type": "execute_result"
    }
   ],
   "source": [
    "label_encoder2 = preprocessing.LabelEncoder()\n",
    "\n",
    "ds['Diet'] =  label_encoder.fit_transform(ds['Diet' ])\n",
    "\n",
    "ds['Diet'].unique()\n"
   ]
  },
  {
   "cell_type": "code",
   "execution_count": 29,
   "metadata": {},
   "outputs": [
    {
     "data": {
      "text/plain": [
       "array([13,  8, 15,  7, 14,  5,  3,  0,  6,  2, 11, 12, 19, 10, 18,  4,  9,\n",
       "        1, 17, 16])"
      ]
     },
     "execution_count": 29,
     "metadata": {},
     "output_type": "execute_result"
    }
   ],
   "source": [
    "label_encoder3 = preprocessing.LabelEncoder()\n",
    "\n",
    "ds['Course'] =  label_encoder.fit_transform(ds['Course'])\n",
    "\n",
    "ds['Course'].unique()"
   ]
  },
  {
   "cell_type": "code",
   "execution_count": 30,
   "metadata": {},
   "outputs": [],
   "source": [
    "# label_encoder4 = preprocessing.LabelEncoder()\n",
    "\n",
    "# ds['RecipeName'] =  label_encoder.fit_transform(ds['RecipeName'])\n",
    "\n",
    "# ds['RecipeName'].unique()"
   ]
  },
  {
   "cell_type": "code",
   "execution_count": 31,
   "metadata": {},
   "outputs": [],
   "source": [
    "# one_hot_encode = pd.get_dummies(ds , columns=['RecipeName'])\n",
    "# one_hot_encode"
   ]
  },
  {
   "cell_type": "code",
   "execution_count": 276,
   "metadata": {},
   "outputs": [
    {
     "data": {
      "text/plain": [
       "Index(['RecipeName', 'Ingredients', 'TotalTimeInMins', 'Servings', 'Cuisine',\n",
       "       'Course', 'Protein', 'Diet', 'Instructions'],\n",
       "      dtype='object')"
      ]
     },
     "execution_count": 276,
     "metadata": {},
     "output_type": "execute_result"
    }
   ],
   "source": [
    "ds.columns"
   ]
  },
  {
   "cell_type": "code",
   "execution_count": 337,
   "metadata": {},
   "outputs": [],
   "source": [
    "feature_names = [ 'Cuisine' , 'Course' , 'Protein', 'Diet' ]\n",
    "\n",
    "X = ds[feature_names]\n",
    "y = ds.TotalTimeInMins"
   ]
  },
  {
   "cell_type": "code",
   "execution_count": null,
   "metadata": {},
   "outputs": [],
   "source": []
  },
  {
   "cell_type": "code",
   "execution_count": 338,
   "metadata": {},
   "outputs": [],
   "source": [
    "from sklearn.preprocessing import LabelEncoder\n",
    "le = LabelEncoder()\n"
   ]
  },
  {
   "cell_type": "code",
   "execution_count": 339,
   "metadata": {},
   "outputs": [],
   "source": [
    "mnX = X"
   ]
  },
  {
   "cell_type": "code",
   "execution_count": 340,
   "metadata": {},
   "outputs": [
    {
     "name": "stderr",
     "output_type": "stream",
     "text": [
      "/var/folders/_9/j788256j04l0rf54jz7ntfvw0000gn/T/ipykernel_40866/4184478989.py:1: SettingWithCopyWarning: \n",
      "A value is trying to be set on a copy of a slice from a DataFrame.\n",
      "Try using .loc[row_indexer,col_indexer] = value instead\n",
      "\n",
      "See the caveats in the documentation: https://pandas.pydata.org/pandas-docs/stable/user_guide/indexing.html#returning-a-view-versus-a-copy\n",
      "  mnX['Cuisine'] = le.fit_transform(X['Cuisine'].astype(str))\n",
      "/var/folders/_9/j788256j04l0rf54jz7ntfvw0000gn/T/ipykernel_40866/4184478989.py:2: SettingWithCopyWarning: \n",
      "A value is trying to be set on a copy of a slice from a DataFrame.\n",
      "Try using .loc[row_indexer,col_indexer] = value instead\n",
      "\n",
      "See the caveats in the documentation: https://pandas.pydata.org/pandas-docs/stable/user_guide/indexing.html#returning-a-view-versus-a-copy\n",
      "  mnX['Course'] = le.fit_transform(X['Course'].astype(str))\n",
      "/var/folders/_9/j788256j04l0rf54jz7ntfvw0000gn/T/ipykernel_40866/4184478989.py:3: SettingWithCopyWarning: \n",
      "A value is trying to be set on a copy of a slice from a DataFrame.\n",
      "Try using .loc[row_indexer,col_indexer] = value instead\n",
      "\n",
      "See the caveats in the documentation: https://pandas.pydata.org/pandas-docs/stable/user_guide/indexing.html#returning-a-view-versus-a-copy\n",
      "  mnX['Protein'] = le.fit_transform(X['Protein'].astype(str))\n",
      "/var/folders/_9/j788256j04l0rf54jz7ntfvw0000gn/T/ipykernel_40866/4184478989.py:4: SettingWithCopyWarning: \n",
      "A value is trying to be set on a copy of a slice from a DataFrame.\n",
      "Try using .loc[row_indexer,col_indexer] = value instead\n",
      "\n",
      "See the caveats in the documentation: https://pandas.pydata.org/pandas-docs/stable/user_guide/indexing.html#returning-a-view-versus-a-copy\n",
      "  mnX['Diet'] = le.fit_transform(X['Diet'].astype(str))\n"
     ]
    },
    {
     "data": {
      "text/plain": [
       "dtype('int64')"
      ]
     },
     "execution_count": 340,
     "metadata": {},
     "output_type": "execute_result"
    }
   ],
   "source": [
    "mnX['Cuisine'] = le.fit_transform(X['Cuisine'].astype(str))\n",
    "mnX['Course'] = le.fit_transform(X['Course'].astype(str))\n",
    "mnX['Protein'] = le.fit_transform(X['Protein'].astype(str))\n",
    "mnX['Diet'] = le.fit_transform(X['Diet'].astype(str))\n",
    "mnX['Cuisine'].dtypes"
   ]
  },
  {
   "cell_type": "code",
   "execution_count": 341,
   "metadata": {},
   "outputs": [],
   "source": [
    "X_train , X_test , y_train, y_test = train_test_split(mnX , y , test_size=0.3 , random_state = 1)"
   ]
  },
  {
   "cell_type": "code",
   "execution_count": 342,
   "metadata": {},
   "outputs": [],
   "source": [
    "y_train = le.fit_transform(y_train)"
   ]
  },
  {
   "cell_type": "code",
   "execution_count": 343,
   "metadata": {},
   "outputs": [],
   "source": [
    "# one_hot_encode = pd.get_dummies(y_train)\n",
    "# one_hot_encode"
   ]
  },
  {
   "cell_type": "code",
   "execution_count": 344,
   "metadata": {},
   "outputs": [],
   "source": [
    "# dtc = DecisionTreeClassifier(criterion=\"entropy\" , max_depth=560)\n",
    "\n",
    "# dtc = dtc.fit(X_train, y_train)\n",
    "\n",
    "# y_pred = dtc.predict(X_test)"
   ]
  },
  {
   "cell_type": "code",
   "execution_count": 345,
   "metadata": {},
   "outputs": [],
   "source": [
    "# acc = metrics.accuracy_score(y_test, y_pred)\n",
    "# acc"
   ]
  },
  {
   "attachments": {},
   "cell_type": "markdown",
   "metadata": {},
   "source": [
    "XGBoost"
   ]
  },
  {
   "cell_type": "code",
   "execution_count": 346,
   "metadata": {},
   "outputs": [
    {
     "name": "stdout",
     "output_type": "stream",
     "text": [
      "Requirement already satisfied: xgboost in /opt/homebrew/Caskroom/miniforge/base/envs/ml/lib/python3.8/site-packages (1.7.5)\n",
      "Requirement already satisfied: scipy in /opt/homebrew/Caskroom/miniforge/base/envs/ml/lib/python3.8/site-packages (from xgboost) (1.10.0)\n",
      "Requirement already satisfied: numpy in /opt/homebrew/Caskroom/miniforge/base/envs/ml/lib/python3.8/site-packages (from xgboost) (1.23.2)\n",
      "Note: you may need to restart the kernel to use updated packages.\n"
     ]
    }
   ],
   "source": [
    "pip install xgboost\n"
   ]
  },
  {
   "cell_type": "code",
   "execution_count": 348,
   "metadata": {},
   "outputs": [
    {
     "data": {
      "text/html": [
       "<style>#sk-container-id-1 {color: black;background-color: white;}#sk-container-id-1 pre{padding: 0;}#sk-container-id-1 div.sk-toggleable {background-color: white;}#sk-container-id-1 label.sk-toggleable__label {cursor: pointer;display: block;width: 100%;margin-bottom: 0;padding: 0.3em;box-sizing: border-box;text-align: center;}#sk-container-id-1 label.sk-toggleable__label-arrow:before {content: \"▸\";float: left;margin-right: 0.25em;color: #696969;}#sk-container-id-1 label.sk-toggleable__label-arrow:hover:before {color: black;}#sk-container-id-1 div.sk-estimator:hover label.sk-toggleable__label-arrow:before {color: black;}#sk-container-id-1 div.sk-toggleable__content {max-height: 0;max-width: 0;overflow: hidden;text-align: left;background-color: #f0f8ff;}#sk-container-id-1 div.sk-toggleable__content pre {margin: 0.2em;color: black;border-radius: 0.25em;background-color: #f0f8ff;}#sk-container-id-1 input.sk-toggleable__control:checked~div.sk-toggleable__content {max-height: 200px;max-width: 100%;overflow: auto;}#sk-container-id-1 input.sk-toggleable__control:checked~label.sk-toggleable__label-arrow:before {content: \"▾\";}#sk-container-id-1 div.sk-estimator input.sk-toggleable__control:checked~label.sk-toggleable__label {background-color: #d4ebff;}#sk-container-id-1 div.sk-label input.sk-toggleable__control:checked~label.sk-toggleable__label {background-color: #d4ebff;}#sk-container-id-1 input.sk-hidden--visually {border: 0;clip: rect(1px 1px 1px 1px);clip: rect(1px, 1px, 1px, 1px);height: 1px;margin: -1px;overflow: hidden;padding: 0;position: absolute;width: 1px;}#sk-container-id-1 div.sk-estimator {font-family: monospace;background-color: #f0f8ff;border: 1px dotted black;border-radius: 0.25em;box-sizing: border-box;margin-bottom: 0.5em;}#sk-container-id-1 div.sk-estimator:hover {background-color: #d4ebff;}#sk-container-id-1 div.sk-parallel-item::after {content: \"\";width: 100%;border-bottom: 1px solid gray;flex-grow: 1;}#sk-container-id-1 div.sk-label:hover label.sk-toggleable__label {background-color: #d4ebff;}#sk-container-id-1 div.sk-serial::before {content: \"\";position: absolute;border-left: 1px solid gray;box-sizing: border-box;top: 0;bottom: 0;left: 50%;z-index: 0;}#sk-container-id-1 div.sk-serial {display: flex;flex-direction: column;align-items: center;background-color: white;padding-right: 0.2em;padding-left: 0.2em;position: relative;}#sk-container-id-1 div.sk-item {position: relative;z-index: 1;}#sk-container-id-1 div.sk-parallel {display: flex;align-items: stretch;justify-content: center;background-color: white;position: relative;}#sk-container-id-1 div.sk-item::before, #sk-container-id-1 div.sk-parallel-item::before {content: \"\";position: absolute;border-left: 1px solid gray;box-sizing: border-box;top: 0;bottom: 0;left: 50%;z-index: -1;}#sk-container-id-1 div.sk-parallel-item {display: flex;flex-direction: column;z-index: 1;position: relative;background-color: white;}#sk-container-id-1 div.sk-parallel-item:first-child::after {align-self: flex-end;width: 50%;}#sk-container-id-1 div.sk-parallel-item:last-child::after {align-self: flex-start;width: 50%;}#sk-container-id-1 div.sk-parallel-item:only-child::after {width: 0;}#sk-container-id-1 div.sk-dashed-wrapped {border: 1px dashed gray;margin: 0 0.4em 0.5em 0.4em;box-sizing: border-box;padding-bottom: 0.4em;background-color: white;}#sk-container-id-1 div.sk-label label {font-family: monospace;font-weight: bold;display: inline-block;line-height: 1.2em;}#sk-container-id-1 div.sk-label-container {text-align: center;}#sk-container-id-1 div.sk-container {/* jupyter's `normalize.less` sets `[hidden] { display: none; }` but bootstrap.min.css set `[hidden] { display: none !important; }` so we also need the `!important` here to be able to override the default hidden behavior on the sphinx rendered scikit-learn.org. See: https://github.com/scikit-learn/scikit-learn/issues/21755 */display: inline-block !important;position: relative;}#sk-container-id-1 div.sk-text-repr-fallback {display: none;}</style><div id=\"sk-container-id-1\" class=\"sk-top-container\"><div class=\"sk-text-repr-fallback\"><pre>XGBClassifier(base_score=None, booster=None, callbacks=None,\n",
       "              colsample_bylevel=None, colsample_bynode=None,\n",
       "              colsample_bytree=None, early_stopping_rounds=None,\n",
       "              enable_categorical=False, eval_metric=None, feature_types=None,\n",
       "              gamma=None, gpu_id=None, grow_policy=None, importance_type=None,\n",
       "              interaction_constraints=None, learning_rate=None, max_bin=None,\n",
       "              max_cat_threshold=None, max_cat_to_onehot=None,\n",
       "              max_delta_step=None, max_depth=None, max_leaves=None,\n",
       "              min_child_weight=None, missing=nan, monotone_constraints=None,\n",
       "              n_estimators=100, n_jobs=None, num_parallel_tree=None,\n",
       "              objective=&#x27;multi:softprob&#x27;, predictor=None, ...)</pre><b>In a Jupyter environment, please rerun this cell to show the HTML representation or trust the notebook. <br />On GitHub, the HTML representation is unable to render, please try loading this page with nbviewer.org.</b></div><div class=\"sk-container\" hidden><div class=\"sk-item\"><div class=\"sk-estimator sk-toggleable\"><input class=\"sk-toggleable__control sk-hidden--visually\" id=\"sk-estimator-id-1\" type=\"checkbox\" checked><label for=\"sk-estimator-id-1\" class=\"sk-toggleable__label sk-toggleable__label-arrow\">XGBClassifier</label><div class=\"sk-toggleable__content\"><pre>XGBClassifier(base_score=None, booster=None, callbacks=None,\n",
       "              colsample_bylevel=None, colsample_bynode=None,\n",
       "              colsample_bytree=None, early_stopping_rounds=None,\n",
       "              enable_categorical=False, eval_metric=None, feature_types=None,\n",
       "              gamma=None, gpu_id=None, grow_policy=None, importance_type=None,\n",
       "              interaction_constraints=None, learning_rate=None, max_bin=None,\n",
       "              max_cat_threshold=None, max_cat_to_onehot=None,\n",
       "              max_delta_step=None, max_depth=None, max_leaves=None,\n",
       "              min_child_weight=None, missing=nan, monotone_constraints=None,\n",
       "              n_estimators=100, n_jobs=None, num_parallel_tree=None,\n",
       "              objective=&#x27;multi:softprob&#x27;, predictor=None, ...)</pre></div></div></div></div></div>"
      ],
      "text/plain": [
       "XGBClassifier(base_score=None, booster=None, callbacks=None,\n",
       "              colsample_bylevel=None, colsample_bynode=None,\n",
       "              colsample_bytree=None, early_stopping_rounds=None,\n",
       "              enable_categorical=False, eval_metric=None, feature_types=None,\n",
       "              gamma=None, gpu_id=None, grow_policy=None, importance_type=None,\n",
       "              interaction_constraints=None, learning_rate=None, max_bin=None,\n",
       "              max_cat_threshold=None, max_cat_to_onehot=None,\n",
       "              max_delta_step=None, max_depth=None, max_leaves=None,\n",
       "              min_child_weight=None, missing=nan, monotone_constraints=None,\n",
       "              n_estimators=100, n_jobs=None, num_parallel_tree=None,\n",
       "              objective='multi:softprob', predictor=None, ...)"
      ]
     },
     "execution_count": 348,
     "metadata": {},
     "output_type": "execute_result"
    }
   ],
   "source": [
    "from xgboost import XGBClassifier\n",
    "\n",
    "my_model = XGBClassifier()\n",
    "# Add silent=True to avoid printing out updates with each cycle\n",
    "my_model.fit(X_train, y_train)"
   ]
  },
  {
   "cell_type": "code",
   "execution_count": 349,
   "metadata": {},
   "outputs": [],
   "source": [
    "predictions = my_model.predict(X_test)"
   ]
  },
  {
   "cell_type": "code",
   "execution_count": 350,
   "metadata": {},
   "outputs": [
    {
     "data": {
      "text/plain": [
       "array([17, 17,  8, ..., 24, 24, 31])"
      ]
     },
     "execution_count": 350,
     "metadata": {},
     "output_type": "execute_result"
    }
   ],
   "source": [
    "predictions"
   ]
  },
  {
   "cell_type": "code",
   "execution_count": 42,
   "metadata": {},
   "outputs": [],
   "source": [
    "# from sklearn.metrics import mean_absolute_error\n",
    "# print(\"Mean Absolute Error : \" + str(mean_absolute_error(predictions, y_test)))"
   ]
  },
  {
   "cell_type": "code",
   "execution_count": 351,
   "metadata": {},
   "outputs": [
    {
     "data": {
      "text/plain": [
       "0.002909796314258002"
      ]
     },
     "execution_count": 351,
     "metadata": {},
     "output_type": "execute_result"
    }
   ],
   "source": [
    "acc = metrics.accuracy_score(y_test, predictions)\n",
    "acc"
   ]
  },
  {
   "cell_type": "code",
   "execution_count": 44,
   "metadata": {},
   "outputs": [
    {
     "data": {
      "text/html": [
       "<div>\n",
       "<style scoped>\n",
       "    .dataframe tbody tr th:only-of-type {\n",
       "        vertical-align: middle;\n",
       "    }\n",
       "\n",
       "    .dataframe tbody tr th {\n",
       "        vertical-align: top;\n",
       "    }\n",
       "\n",
       "    .dataframe thead th {\n",
       "        text-align: right;\n",
       "    }\n",
       "</style>\n",
       "<table border=\"1\" class=\"dataframe\">\n",
       "  <thead>\n",
       "    <tr style=\"text-align: right;\">\n",
       "      <th></th>\n",
       "      <th>Srno</th>\n",
       "      <th>RecipeName</th>\n",
       "      <th>Ingredients</th>\n",
       "      <th>PrepTimeInMins</th>\n",
       "      <th>CookTimeInMins</th>\n",
       "      <th>TotalTimeInMins</th>\n",
       "      <th>Servings</th>\n",
       "      <th>Cuisine</th>\n",
       "      <th>Course</th>\n",
       "      <th>Diet</th>\n",
       "      <th>Instructions</th>\n",
       "    </tr>\n",
       "  </thead>\n",
       "  <tbody>\n",
       "    <tr>\n",
       "      <th>6866</th>\n",
       "      <td>14073</td>\n",
       "      <td>Goan Mushroom Xacuti Recipe</td>\n",
       "      <td>20 बटन मशरुम,2 प्याज - काट ले,1 टमाटर - बारीक ...</td>\n",
       "      <td>15</td>\n",
       "      <td>45</td>\n",
       "      <td>60</td>\n",
       "      <td>4</td>\n",
       "      <td>26</td>\n",
       "      <td>7</td>\n",
       "      <td>9</td>\n",
       "      <td>गोअन मशरुम जकुटी रेसिपी बनाने के लिए सबसे पहले...</td>\n",
       "    </tr>\n",
       "    <tr>\n",
       "      <th>6867</th>\n",
       "      <td>14107</td>\n",
       "      <td>Sweet Potato &amp; Methi Stuffed Paratha Recipe</td>\n",
       "      <td>1 बड़ा चम्मच तेल,1 कप गेहूं का आटा,नमक - स्वाद ...</td>\n",
       "      <td>30</td>\n",
       "      <td>60</td>\n",
       "      <td>90</td>\n",
       "      <td>4</td>\n",
       "      <td>60</td>\n",
       "      <td>11</td>\n",
       "      <td>0</td>\n",
       "      <td>शकरकंदी और मेथी का पराठा रेसिपी बनाने के लिए स...</td>\n",
       "    </tr>\n",
       "    <tr>\n",
       "      <th>6868</th>\n",
       "      <td>14165</td>\n",
       "      <td>Ullikadala Pulusu Recipe | Spring Onion Curry</td>\n",
       "      <td>150 grams Spring Onion (Bulb &amp; Greens) - chopp...</td>\n",
       "      <td>5</td>\n",
       "      <td>10</td>\n",
       "      <td>15</td>\n",
       "      <td>2</td>\n",
       "      <td>3</td>\n",
       "      <td>13</td>\n",
       "      <td>9</td>\n",
       "      <td>To begin making Ullikadala Pulusu Recipe | Spr...</td>\n",
       "    </tr>\n",
       "    <tr>\n",
       "      <th>6869</th>\n",
       "      <td>14167</td>\n",
       "      <td>Kashmiri Style Kokur Yakhni Recipe-Chicken Coo...</td>\n",
       "      <td>1 kg Chicken - medium pieces,1/2 cup Mustard o...</td>\n",
       "      <td>30</td>\n",
       "      <td>45</td>\n",
       "      <td>75</td>\n",
       "      <td>4</td>\n",
       "      <td>41</td>\n",
       "      <td>7</td>\n",
       "      <td>6</td>\n",
       "      <td>To begin making the Kashmiri Kokur Yakhni reci...</td>\n",
       "    </tr>\n",
       "    <tr>\n",
       "      <th>6870</th>\n",
       "      <td>14211</td>\n",
       "      <td>Navrang Dal Recipe</td>\n",
       "      <td>2 बड़े चम्मच हरी मूंग दाल,2 बड़े चम्मच सफ़ेद उरद ...</td>\n",
       "      <td>10</td>\n",
       "      <td>30</td>\n",
       "      <td>40</td>\n",
       "      <td>4</td>\n",
       "      <td>60</td>\n",
       "      <td>7</td>\n",
       "      <td>4</td>\n",
       "      <td>नवरंग दाल रेसिपी  बनाने के लिए सबसे पहले सारी ...</td>\n",
       "    </tr>\n",
       "  </tbody>\n",
       "</table>\n",
       "</div>"
      ],
      "text/plain": [
       "       Srno                                         RecipeName  \\\n",
       "6866  14073                        Goan Mushroom Xacuti Recipe   \n",
       "6867  14107        Sweet Potato & Methi Stuffed Paratha Recipe   \n",
       "6868  14165      Ullikadala Pulusu Recipe | Spring Onion Curry   \n",
       "6869  14167  Kashmiri Style Kokur Yakhni Recipe-Chicken Coo...   \n",
       "6870  14211                                 Navrang Dal Recipe   \n",
       "\n",
       "                                            Ingredients  PrepTimeInMins  \\\n",
       "6866  20 बटन मशरुम,2 प्याज - काट ले,1 टमाटर - बारीक ...              15   \n",
       "6867  1 बड़ा चम्मच तेल,1 कप गेहूं का आटा,नमक - स्वाद ...              30   \n",
       "6868  150 grams Spring Onion (Bulb & Greens) - chopp...               5   \n",
       "6869  1 kg Chicken - medium pieces,1/2 cup Mustard o...              30   \n",
       "6870  2 बड़े चम्मच हरी मूंग दाल,2 बड़े चम्मच सफ़ेद उरद ...              10   \n",
       "\n",
       "      CookTimeInMins  TotalTimeInMins  Servings  Cuisine  Course  Diet  \\\n",
       "6866              45               60         4       26       7     9   \n",
       "6867              60               90         4       60      11     0   \n",
       "6868              10               15         2        3      13     9   \n",
       "6869              45               75         4       41       7     6   \n",
       "6870              30               40         4       60       7     4   \n",
       "\n",
       "                                           Instructions  \n",
       "6866  गोअन मशरुम जकुटी रेसिपी बनाने के लिए सबसे पहले...  \n",
       "6867  शकरकंदी और मेथी का पराठा रेसिपी बनाने के लिए स...  \n",
       "6868  To begin making Ullikadala Pulusu Recipe | Spr...  \n",
       "6869  To begin making the Kashmiri Kokur Yakhni reci...  \n",
       "6870  नवरंग दाल रेसिपी  बनाने के लिए सबसे पहले सारी ...  "
      ]
     },
     "execution_count": 44,
     "metadata": {},
     "output_type": "execute_result"
    }
   ],
   "source": [
    "ds.tail()"
   ]
  },
  {
   "cell_type": "code",
   "execution_count": 353,
   "metadata": {},
   "outputs": [],
   "source": [
    "import numpy as np"
   ]
  },
  {
   "cell_type": "code",
   "execution_count": 360,
   "metadata": {},
   "outputs": [
    {
     "ename": "ValueError",
     "evalue": "invalid literal for int() with base 10: 'South Indian Recipes'",
     "output_type": "error",
     "traceback": [
      "\u001b[0;31m---------------------------------------------------------------------------\u001b[0m",
      "\u001b[0;31mValueError\u001b[0m                                Traceback (most recent call last)",
      "Cell \u001b[0;32mIn[360], line 6\u001b[0m\n\u001b[1;32m      1\u001b[0m \u001b[39m# totalTime = 15\u001b[39;00m\n\u001b[1;32m      2\u001b[0m \u001b[39m# cuisine = 3\u001b[39;00m\n\u001b[1;32m      3\u001b[0m \u001b[39m# course = 13\u001b[39;00m\n\u001b[1;32m      4\u001b[0m \u001b[39m# diet = 9\u001b[39;00m\n\u001b[0;32m----> 6\u001b[0m user_input \u001b[39m=\u001b[39m np\u001b[39m.\u001b[39marray([[le\u001b[39m.\u001b[39;49mtransform([\u001b[39m'\u001b[39;49m\u001b[39mSouth Indian Recipes\u001b[39;49m\u001b[39m'\u001b[39;49m]),le\u001b[39m.\u001b[39minverse_transform([\u001b[39m'\u001b[39m\u001b[39mLunch\u001b[39m\u001b[39m'\u001b[39m]),le\u001b[39m.\u001b[39minverse_transform([\u001b[39m'\u001b[39m\u001b[39mHigh Protein\u001b[39m\u001b[39m'\u001b[39m]),le\u001b[39m.\u001b[39minverse_transform([\u001b[39m'\u001b[39m\u001b[39mVegetarian\u001b[39m\u001b[39m'\u001b[39m])]])\n",
      "File \u001b[0;32m/opt/homebrew/Caskroom/miniforge/base/envs/ml/lib/python3.8/site-packages/sklearn/utils/_set_output.py:142\u001b[0m, in \u001b[0;36m_wrap_method_output.<locals>.wrapped\u001b[0;34m(self, X, *args, **kwargs)\u001b[0m\n\u001b[1;32m    140\u001b[0m \u001b[39m@wraps\u001b[39m(f)\n\u001b[1;32m    141\u001b[0m \u001b[39mdef\u001b[39;00m \u001b[39mwrapped\u001b[39m(\u001b[39mself\u001b[39m, X, \u001b[39m*\u001b[39margs, \u001b[39m*\u001b[39m\u001b[39m*\u001b[39mkwargs):\n\u001b[0;32m--> 142\u001b[0m     data_to_wrap \u001b[39m=\u001b[39m f(\u001b[39mself\u001b[39;49m, X, \u001b[39m*\u001b[39;49margs, \u001b[39m*\u001b[39;49m\u001b[39m*\u001b[39;49mkwargs)\n\u001b[1;32m    143\u001b[0m     \u001b[39mif\u001b[39;00m \u001b[39misinstance\u001b[39m(data_to_wrap, \u001b[39mtuple\u001b[39m):\n\u001b[1;32m    144\u001b[0m         \u001b[39m# only wrap the first output for cross decomposition\u001b[39;00m\n\u001b[1;32m    145\u001b[0m         \u001b[39mreturn\u001b[39;00m (\n\u001b[1;32m    146\u001b[0m             _wrap_data_with_container(method, data_to_wrap[\u001b[39m0\u001b[39m], X, \u001b[39mself\u001b[39m),\n\u001b[1;32m    147\u001b[0m             \u001b[39m*\u001b[39mdata_to_wrap[\u001b[39m1\u001b[39m:],\n\u001b[1;32m    148\u001b[0m         )\n",
      "File \u001b[0;32m/opt/homebrew/Caskroom/miniforge/base/envs/ml/lib/python3.8/site-packages/sklearn/preprocessing/_label.py:134\u001b[0m, in \u001b[0;36mLabelEncoder.transform\u001b[0;34m(self, y)\u001b[0m\n\u001b[1;32m    121\u001b[0m \u001b[39m\u001b[39m\u001b[39m\"\"\"Transform labels to normalized encoding.\u001b[39;00m\n\u001b[1;32m    122\u001b[0m \n\u001b[1;32m    123\u001b[0m \u001b[39mParameters\u001b[39;00m\n\u001b[0;32m   (...)\u001b[0m\n\u001b[1;32m    131\u001b[0m \u001b[39m    Labels as normalized encodings.\u001b[39;00m\n\u001b[1;32m    132\u001b[0m \u001b[39m\"\"\"\u001b[39;00m\n\u001b[1;32m    133\u001b[0m check_is_fitted(\u001b[39mself\u001b[39m)\n\u001b[0;32m--> 134\u001b[0m y \u001b[39m=\u001b[39m column_or_1d(y, dtype\u001b[39m=\u001b[39;49m\u001b[39mself\u001b[39;49m\u001b[39m.\u001b[39;49mclasses_\u001b[39m.\u001b[39;49mdtype, warn\u001b[39m=\u001b[39;49m\u001b[39mTrue\u001b[39;49;00m)\n\u001b[1;32m    135\u001b[0m \u001b[39m# transform of empty array is empty array\u001b[39;00m\n\u001b[1;32m    136\u001b[0m \u001b[39mif\u001b[39;00m _num_samples(y) \u001b[39m==\u001b[39m \u001b[39m0\u001b[39m:\n",
      "File \u001b[0;32m/opt/homebrew/Caskroom/miniforge/base/envs/ml/lib/python3.8/site-packages/sklearn/utils/validation.py:1177\u001b[0m, in \u001b[0;36mcolumn_or_1d\u001b[0;34m(y, dtype, warn)\u001b[0m\n\u001b[1;32m   1151\u001b[0m \u001b[39m\u001b[39m\u001b[39m\"\"\"Ravel column or 1d numpy array, else raises an error.\u001b[39;00m\n\u001b[1;32m   1152\u001b[0m \n\u001b[1;32m   1153\u001b[0m \u001b[39mParameters\u001b[39;00m\n\u001b[0;32m   (...)\u001b[0m\n\u001b[1;32m   1174\u001b[0m \u001b[39m    If `y` is not a 1D array or a 2D array with a single row or column.\u001b[39;00m\n\u001b[1;32m   1175\u001b[0m \u001b[39m\"\"\"\u001b[39;00m\n\u001b[1;32m   1176\u001b[0m xp, _ \u001b[39m=\u001b[39m get_namespace(y)\n\u001b[0;32m-> 1177\u001b[0m y \u001b[39m=\u001b[39m xp\u001b[39m.\u001b[39;49masarray(y, dtype\u001b[39m=\u001b[39;49mdtype)\n\u001b[1;32m   1178\u001b[0m shape \u001b[39m=\u001b[39m y\u001b[39m.\u001b[39mshape\n\u001b[1;32m   1179\u001b[0m \u001b[39mif\u001b[39;00m \u001b[39mlen\u001b[39m(shape) \u001b[39m==\u001b[39m \u001b[39m1\u001b[39m:\n",
      "File \u001b[0;32m/opt/homebrew/Caskroom/miniforge/base/envs/ml/lib/python3.8/site-packages/sklearn/utils/_array_api.py:75\u001b[0m, in \u001b[0;36m_NumPyApiWrapper.asarray\u001b[0;34m(self, x, dtype, device, copy)\u001b[0m\n\u001b[1;32m     73\u001b[0m     \u001b[39mreturn\u001b[39;00m numpy\u001b[39m.\u001b[39marray(x, copy\u001b[39m=\u001b[39m\u001b[39mTrue\u001b[39;00m, dtype\u001b[39m=\u001b[39mdtype)\n\u001b[1;32m     74\u001b[0m \u001b[39melse\u001b[39;00m:\n\u001b[0;32m---> 75\u001b[0m     \u001b[39mreturn\u001b[39;00m numpy\u001b[39m.\u001b[39;49masarray(x, dtype\u001b[39m=\u001b[39;49mdtype)\n",
      "\u001b[0;31mValueError\u001b[0m: invalid literal for int() with base 10: 'South Indian Recipes'"
     ]
    }
   ],
   "source": [
    "# totalTime = 15\n",
    "# cuisine = 3\n",
    "# course = 13\n",
    "# diet = 9\n",
    "\n",
    "user_input = np.array([[le.transform(['South Indian Recipes']),le.inverse_transform(['Lunch']),le.inverse_transform(['High Protein']),le.inverse_transform(['Vegetarian'])]])"
   ]
  },
  {
   "cell_type": "code",
   "execution_count": 47,
   "metadata": {},
   "outputs": [],
   "source": [
    "# cuisine_decoded = label_encoder.inverse_transform([cuisine])"
   ]
  },
  {
   "cell_type": "code",
   "execution_count": 48,
   "metadata": {},
   "outputs": [
    {
     "ename": "ValueError",
     "evalue": "y contains previously unseen labels: [748]",
     "output_type": "error",
     "traceback": [
      "\u001b[0;31m---------------------------------------------------------------------------\u001b[0m",
      "\u001b[0;31mValueError\u001b[0m                                Traceback (most recent call last)",
      "Cell \u001b[0;32mIn[48], line 2\u001b[0m\n\u001b[1;32m      1\u001b[0m output \u001b[39m=\u001b[39m my_model\u001b[39m.\u001b[39mpredict(user_input)\n\u001b[0;32m----> 2\u001b[0m name \u001b[39m=\u001b[39m label_encoder\u001b[39m.\u001b[39;49minverse_transform(output)\n\u001b[1;32m      3\u001b[0m \u001b[39mprint\u001b[39m(\u001b[39m\"\u001b[39m\u001b[39mPrediction: \u001b[39m\u001b[39m{}\u001b[39;00m\u001b[39m\"\u001b[39m\u001b[39m.\u001b[39mformat(name))\n",
      "File \u001b[0;32m~/Library/Python/3.9/lib/python/site-packages/sklearn/preprocessing/_label.py:162\u001b[0m, in \u001b[0;36mLabelEncoder.inverse_transform\u001b[0;34m(self, y)\u001b[0m\n\u001b[1;32m    160\u001b[0m diff \u001b[39m=\u001b[39m np\u001b[39m.\u001b[39msetdiff1d(y, np\u001b[39m.\u001b[39marange(\u001b[39mlen\u001b[39m(\u001b[39mself\u001b[39m\u001b[39m.\u001b[39mclasses_)))\n\u001b[1;32m    161\u001b[0m \u001b[39mif\u001b[39;00m \u001b[39mlen\u001b[39m(diff):\n\u001b[0;32m--> 162\u001b[0m     \u001b[39mraise\u001b[39;00m \u001b[39mValueError\u001b[39;00m(\u001b[39m\"\u001b[39m\u001b[39my contains previously unseen labels: \u001b[39m\u001b[39m%s\u001b[39;00m\u001b[39m\"\u001b[39m \u001b[39m%\u001b[39m \u001b[39mstr\u001b[39m(diff))\n\u001b[1;32m    163\u001b[0m y \u001b[39m=\u001b[39m np\u001b[39m.\u001b[39masarray(y)\n\u001b[1;32m    164\u001b[0m \u001b[39mreturn\u001b[39;00m \u001b[39mself\u001b[39m\u001b[39m.\u001b[39mclasses_[y]\n",
      "\u001b[0;31mValueError\u001b[0m: y contains previously unseen labels: [748]"
     ]
    }
   ],
   "source": [
    "\n",
    "output = my_model.predict(user_input)\n",
    "name = label_encoder.inverse_transform(output)\n",
    "print(\"Prediction: {}\".format(name))\n",
    "\n",
    "    "
   ]
  },
  {
   "cell_type": "code",
   "execution_count": null,
   "metadata": {},
   "outputs": [
    {
     "name": "stdout",
     "output_type": "stream",
     "text": [
      "Empty DataFrame\n",
      "Columns: [Srno, RecipeName, Ingredients, PrepTimeInMins, CookTimeInMins, TotalTimeInMins, Servings, Cuisine, Course, Diet, Instructions]\n",
      "Index: []\n"
     ]
    }
   ],
   "source": [
    "print(ds.loc[ds['RecipeName'] == 'Masala Karela Recipe'])"
   ]
  },
  {
   "cell_type": "code",
   "execution_count": 49,
   "metadata": {},
   "outputs": [
    {
     "name": "stdout",
     "output_type": "stream",
     "text": [
      "   Srno            RecipeName  TranslatedRecipeName  \\\n",
      "0     1  Masala Karela Recipe  Masala Karela Recipe   \n",
      "\n",
      "                                         Ingredients  \\\n",
      "0  6 Karela (Bitter Gourd/ Pavakkai) - deseeded,S...   \n",
      "\n",
      "                               TranslatedIngredients  PrepTimeInMins  \\\n",
      "0  6 Karela (Bitter Gourd/ Pavakkai) - deseeded,S...              15   \n",
      "\n",
      "   CookTimeInMins  TotalTimeInMins  Servings Cuisine     Course  \\\n",
      "0              30               45         6  Indian  Side Dish   \n",
      "\n",
      "                Diet                                       Instructions  \\\n",
      "0  Diabetic Friendly  To begin making the Masala Karela Recipe,de-se...   \n",
      "\n",
      "                              TranslatedInstructions  \\\n",
      "0  To begin making the Masala Karela Recipe,de-se...   \n",
      "\n",
      "                                                 URL  \n",
      "0  https://www.archanaskitchen.com/masala-karela-...  \n"
     ]
    }
   ],
   "source": [
    "print(df.loc[df['RecipeName'] == 'Masala Karela Recipe'])"
   ]
  },
  {
   "attachments": {},
   "cell_type": "markdown",
   "metadata": {},
   "source": [
    "NAIVE BIAS CLASSIFIER"
   ]
  },
  {
   "cell_type": "code",
   "execution_count": null,
   "metadata": {},
   "outputs": [],
   "source": [
    "# from sklearn.preprocessing import StandardScaler  \n",
    "# sc = StandardScaler()  \n",
    "# x_train = sc.fit_transform(X_train)  \n",
    "# x_test = sc.transform(X_test) "
   ]
  },
  {
   "cell_type": "code",
   "execution_count": null,
   "metadata": {},
   "outputs": [
    {
     "data": {
      "text/html": [
       "<style>#sk-container-id-1 {color: black;background-color: white;}#sk-container-id-1 pre{padding: 0;}#sk-container-id-1 div.sk-toggleable {background-color: white;}#sk-container-id-1 label.sk-toggleable__label {cursor: pointer;display: block;width: 100%;margin-bottom: 0;padding: 0.3em;box-sizing: border-box;text-align: center;}#sk-container-id-1 label.sk-toggleable__label-arrow:before {content: \"▸\";float: left;margin-right: 0.25em;color: #696969;}#sk-container-id-1 label.sk-toggleable__label-arrow:hover:before {color: black;}#sk-container-id-1 div.sk-estimator:hover label.sk-toggleable__label-arrow:before {color: black;}#sk-container-id-1 div.sk-toggleable__content {max-height: 0;max-width: 0;overflow: hidden;text-align: left;background-color: #f0f8ff;}#sk-container-id-1 div.sk-toggleable__content pre {margin: 0.2em;color: black;border-radius: 0.25em;background-color: #f0f8ff;}#sk-container-id-1 input.sk-toggleable__control:checked~div.sk-toggleable__content {max-height: 200px;max-width: 100%;overflow: auto;}#sk-container-id-1 input.sk-toggleable__control:checked~label.sk-toggleable__label-arrow:before {content: \"▾\";}#sk-container-id-1 div.sk-estimator input.sk-toggleable__control:checked~label.sk-toggleable__label {background-color: #d4ebff;}#sk-container-id-1 div.sk-label input.sk-toggleable__control:checked~label.sk-toggleable__label {background-color: #d4ebff;}#sk-container-id-1 input.sk-hidden--visually {border: 0;clip: rect(1px 1px 1px 1px);clip: rect(1px, 1px, 1px, 1px);height: 1px;margin: -1px;overflow: hidden;padding: 0;position: absolute;width: 1px;}#sk-container-id-1 div.sk-estimator {font-family: monospace;background-color: #f0f8ff;border: 1px dotted black;border-radius: 0.25em;box-sizing: border-box;margin-bottom: 0.5em;}#sk-container-id-1 div.sk-estimator:hover {background-color: #d4ebff;}#sk-container-id-1 div.sk-parallel-item::after {content: \"\";width: 100%;border-bottom: 1px solid gray;flex-grow: 1;}#sk-container-id-1 div.sk-label:hover label.sk-toggleable__label {background-color: #d4ebff;}#sk-container-id-1 div.sk-serial::before {content: \"\";position: absolute;border-left: 1px solid gray;box-sizing: border-box;top: 0;bottom: 0;left: 50%;z-index: 0;}#sk-container-id-1 div.sk-serial {display: flex;flex-direction: column;align-items: center;background-color: white;padding-right: 0.2em;padding-left: 0.2em;position: relative;}#sk-container-id-1 div.sk-item {position: relative;z-index: 1;}#sk-container-id-1 div.sk-parallel {display: flex;align-items: stretch;justify-content: center;background-color: white;position: relative;}#sk-container-id-1 div.sk-item::before, #sk-container-id-1 div.sk-parallel-item::before {content: \"\";position: absolute;border-left: 1px solid gray;box-sizing: border-box;top: 0;bottom: 0;left: 50%;z-index: -1;}#sk-container-id-1 div.sk-parallel-item {display: flex;flex-direction: column;z-index: 1;position: relative;background-color: white;}#sk-container-id-1 div.sk-parallel-item:first-child::after {align-self: flex-end;width: 50%;}#sk-container-id-1 div.sk-parallel-item:last-child::after {align-self: flex-start;width: 50%;}#sk-container-id-1 div.sk-parallel-item:only-child::after {width: 0;}#sk-container-id-1 div.sk-dashed-wrapped {border: 1px dashed gray;margin: 0 0.4em 0.5em 0.4em;box-sizing: border-box;padding-bottom: 0.4em;background-color: white;}#sk-container-id-1 div.sk-label label {font-family: monospace;font-weight: bold;display: inline-block;line-height: 1.2em;}#sk-container-id-1 div.sk-label-container {text-align: center;}#sk-container-id-1 div.sk-container {/* jupyter's `normalize.less` sets `[hidden] { display: none; }` but bootstrap.min.css set `[hidden] { display: none !important; }` so we also need the `!important` here to be able to override the default hidden behavior on the sphinx rendered scikit-learn.org. See: https://github.com/scikit-learn/scikit-learn/issues/21755 */display: inline-block !important;position: relative;}#sk-container-id-1 div.sk-text-repr-fallback {display: none;}</style><div id=\"sk-container-id-1\" class=\"sk-top-container\"><div class=\"sk-text-repr-fallback\"><pre>GaussianNB()</pre><b>In a Jupyter environment, please rerun this cell to show the HTML representation or trust the notebook. <br />On GitHub, the HTML representation is unable to render, please try loading this page with nbviewer.org.</b></div><div class=\"sk-container\" hidden><div class=\"sk-item\"><div class=\"sk-estimator sk-toggleable\"><input class=\"sk-toggleable__control sk-hidden--visually\" id=\"sk-estimator-id-1\" type=\"checkbox\" checked><label for=\"sk-estimator-id-1\" class=\"sk-toggleable__label sk-toggleable__label-arrow\">GaussianNB</label><div class=\"sk-toggleable__content\"><pre>GaussianNB()</pre></div></div></div></div></div>"
      ],
      "text/plain": [
       "GaussianNB()"
      ]
     },
     "execution_count": 33,
     "metadata": {},
     "output_type": "execute_result"
    }
   ],
   "source": [
    "# from sklearn.naive_bayes import GaussianNB\n",
    "# classifier = GaussianNB()\n",
    "# classifier.fit(X_train,y_train)\n"
   ]
  },
  {
   "cell_type": "code",
   "execution_count": null,
   "metadata": {},
   "outputs": [],
   "source": [
    "# y_pred = classifier.predict(X_test)"
   ]
  },
  {
   "cell_type": "code",
   "execution_count": null,
   "metadata": {},
   "outputs": [
    {
     "data": {
      "text/plain": [
       "0.002909796314258002"
      ]
     },
     "execution_count": 35,
     "metadata": {},
     "output_type": "execute_result"
    }
   ],
   "source": [
    "# acc = metrics.accuracy_score(y_test, y_pred)\n",
    "# acc"
   ]
  },
  {
   "cell_type": "code",
   "execution_count": null,
   "metadata": {},
   "outputs": [],
   "source": [
    "# from sklearn.metrics import confusion_matrix\n",
    "\n",
    "# cm = confusion_matrix(y_test , y_pred)"
   ]
  },
  {
   "cell_type": "code",
   "execution_count": null,
   "metadata": {},
   "outputs": [
    {
     "data": {
      "text/plain": [
       "array([[0, 0, 0, ..., 0, 0, 0],\n",
       "       [0, 0, 0, ..., 0, 0, 0],\n",
       "       [0, 0, 0, ..., 0, 0, 0],\n",
       "       ...,\n",
       "       [0, 0, 0, ..., 0, 0, 0],\n",
       "       [0, 0, 0, ..., 0, 0, 0],\n",
       "       [0, 0, 0, ..., 1, 0, 0]])"
      ]
     },
     "execution_count": 37,
     "metadata": {},
     "output_type": "execute_result"
    }
   ],
   "source": [
    "# cm"
   ]
  },
  {
   "cell_type": "code",
   "execution_count": null,
   "metadata": {},
   "outputs": [],
   "source": [
    "# feature_names = [ 'TotalTimeInMins' , 'Cuisine' , 'Course' , 'Diet']\n",
    "\n",
    "# X = ds[feature_names]\n",
    "# y = ds.RecipeName"
   ]
  },
  {
   "cell_type": "code",
   "execution_count": null,
   "metadata": {},
   "outputs": [],
   "source": [
    "# from sklearn.model_selection import train_test_split\n",
    "\n",
    "# # dataframe with independent variables\n",
    "# X = ds[['TotalTimeInMins' , 'Cuisine'  , 'Diet']]\n",
    "\n",
    "# # dataframe with dependent variable\n",
    "# y = ds['Course']\n",
    "\n",
    "# # Spliting the data into training and testing sets\n",
    "# X_train, X_test, y_train, y_test = train_test_split(X, y, test_size=0.2, random_state=42)"
   ]
  },
  {
   "cell_type": "code",
   "execution_count": null,
   "metadata": {},
   "outputs": [],
   "source": [
    "# from sklearn.linear_model import LinearRegression\n",
    "\n",
    "# # Creating a LinearRegression object\n",
    "# model = LinearRegression()\n",
    "\n",
    "# # Fit the model on the training data\n",
    "# model.fit(X_train, y_train)\n",
    "\n",
    "# # Predict the prices for test data\n",
    "# y_pred = model.predict(X_test)"
   ]
  },
  {
   "cell_type": "code",
   "execution_count": null,
   "metadata": {},
   "outputs": [
    {
     "ename": "ValueError",
     "evalue": "Classification metrics can't handle a mix of multiclass and continuous targets",
     "output_type": "error",
     "traceback": [
      "\u001b[0;31m---------------------------------------------------------------------------\u001b[0m",
      "\u001b[0;31mValueError\u001b[0m                                Traceback (most recent call last)",
      "Cell \u001b[0;32mIn[43], line 1\u001b[0m\n\u001b[0;32m----> 1\u001b[0m acc \u001b[39m=\u001b[39m metrics\u001b[39m.\u001b[39;49maccuracy_score(y_test, y_pred)\n\u001b[1;32m      2\u001b[0m acc\n",
      "File \u001b[0;32m~/Library/Python/3.9/lib/python/site-packages/sklearn/utils/_param_validation.py:192\u001b[0m, in \u001b[0;36mvalidate_params.<locals>.decorator.<locals>.wrapper\u001b[0;34m(*args, **kwargs)\u001b[0m\n\u001b[1;32m    187\u001b[0m validate_parameter_constraints(\n\u001b[1;32m    188\u001b[0m     parameter_constraints, params, caller_name\u001b[39m=\u001b[39mfunc\u001b[39m.\u001b[39m\u001b[39m__qualname__\u001b[39m\n\u001b[1;32m    189\u001b[0m )\n\u001b[1;32m    191\u001b[0m \u001b[39mtry\u001b[39;00m:\n\u001b[0;32m--> 192\u001b[0m     \u001b[39mreturn\u001b[39;00m func(\u001b[39m*\u001b[39;49margs, \u001b[39m*\u001b[39;49m\u001b[39m*\u001b[39;49mkwargs)\n\u001b[1;32m    193\u001b[0m \u001b[39mexcept\u001b[39;00m InvalidParameterError \u001b[39mas\u001b[39;00m e:\n\u001b[1;32m    194\u001b[0m     \u001b[39m# When the function is just a wrapper around an estimator, we allow\u001b[39;00m\n\u001b[1;32m    195\u001b[0m     \u001b[39m# the function to delegate validation to the estimator, but we replace\u001b[39;00m\n\u001b[1;32m    196\u001b[0m     \u001b[39m# the name of the estimator by the name of the function in the error\u001b[39;00m\n\u001b[1;32m    197\u001b[0m     \u001b[39m# message to avoid confusion.\u001b[39;00m\n\u001b[1;32m    198\u001b[0m     msg \u001b[39m=\u001b[39m re\u001b[39m.\u001b[39msub(\n\u001b[1;32m    199\u001b[0m         \u001b[39mr\u001b[39m\u001b[39m\"\u001b[39m\u001b[39mparameter of \u001b[39m\u001b[39m\\\u001b[39m\u001b[39mw+ must be\u001b[39m\u001b[39m\"\u001b[39m,\n\u001b[1;32m    200\u001b[0m         \u001b[39mf\u001b[39m\u001b[39m\"\u001b[39m\u001b[39mparameter of \u001b[39m\u001b[39m{\u001b[39;00mfunc\u001b[39m.\u001b[39m\u001b[39m__qualname__\u001b[39m\u001b[39m}\u001b[39;00m\u001b[39m must be\u001b[39m\u001b[39m\"\u001b[39m,\n\u001b[1;32m    201\u001b[0m         \u001b[39mstr\u001b[39m(e),\n\u001b[1;32m    202\u001b[0m     )\n",
      "File \u001b[0;32m~/Library/Python/3.9/lib/python/site-packages/sklearn/metrics/_classification.py:221\u001b[0m, in \u001b[0;36maccuracy_score\u001b[0;34m(y_true, y_pred, normalize, sample_weight)\u001b[0m\n\u001b[1;32m    155\u001b[0m \u001b[39m\u001b[39m\u001b[39m\"\"\"Accuracy classification score.\u001b[39;00m\n\u001b[1;32m    156\u001b[0m \n\u001b[1;32m    157\u001b[0m \u001b[39mIn multilabel classification, this function computes subset accuracy:\u001b[39;00m\n\u001b[0;32m   (...)\u001b[0m\n\u001b[1;32m    217\u001b[0m \u001b[39m0.5\u001b[39;00m\n\u001b[1;32m    218\u001b[0m \u001b[39m\"\"\"\u001b[39;00m\n\u001b[1;32m    220\u001b[0m \u001b[39m# Compute accuracy for each possible representation\u001b[39;00m\n\u001b[0;32m--> 221\u001b[0m y_type, y_true, y_pred \u001b[39m=\u001b[39m _check_targets(y_true, y_pred)\n\u001b[1;32m    222\u001b[0m check_consistent_length(y_true, y_pred, sample_weight)\n\u001b[1;32m    223\u001b[0m \u001b[39mif\u001b[39;00m y_type\u001b[39m.\u001b[39mstartswith(\u001b[39m\"\u001b[39m\u001b[39mmultilabel\u001b[39m\u001b[39m\"\u001b[39m):\n",
      "File \u001b[0;32m~/Library/Python/3.9/lib/python/site-packages/sklearn/metrics/_classification.py:95\u001b[0m, in \u001b[0;36m_check_targets\u001b[0;34m(y_true, y_pred)\u001b[0m\n\u001b[1;32m     92\u001b[0m     y_type \u001b[39m=\u001b[39m {\u001b[39m\"\u001b[39m\u001b[39mmulticlass\u001b[39m\u001b[39m\"\u001b[39m}\n\u001b[1;32m     94\u001b[0m \u001b[39mif\u001b[39;00m \u001b[39mlen\u001b[39m(y_type) \u001b[39m>\u001b[39m \u001b[39m1\u001b[39m:\n\u001b[0;32m---> 95\u001b[0m     \u001b[39mraise\u001b[39;00m \u001b[39mValueError\u001b[39;00m(\n\u001b[1;32m     96\u001b[0m         \u001b[39m\"\u001b[39m\u001b[39mClassification metrics can\u001b[39m\u001b[39m'\u001b[39m\u001b[39mt handle a mix of \u001b[39m\u001b[39m{0}\u001b[39;00m\u001b[39m and \u001b[39m\u001b[39m{1}\u001b[39;00m\u001b[39m targets\u001b[39m\u001b[39m\"\u001b[39m\u001b[39m.\u001b[39mformat(\n\u001b[1;32m     97\u001b[0m             type_true, type_pred\n\u001b[1;32m     98\u001b[0m         )\n\u001b[1;32m     99\u001b[0m     )\n\u001b[1;32m    101\u001b[0m \u001b[39m# We can't have more than one value on y_type => The set is no more needed\u001b[39;00m\n\u001b[1;32m    102\u001b[0m y_type \u001b[39m=\u001b[39m y_type\u001b[39m.\u001b[39mpop()\n",
      "\u001b[0;31mValueError\u001b[0m: Classification metrics can't handle a mix of multiclass and continuous targets"
     ]
    }
   ],
   "source": [
    "# acc = metrics.accuracy_score(y_test, y_pred)\n",
    "# acc"
   ]
  }
 ],
 "metadata": {
  "kernelspec": {
   "display_name": "base",
   "language": "python",
   "name": "python3"
  },
  "language_info": {
   "codemirror_mode": {
    "name": "ipython",
    "version": 3
   },
   "file_extension": ".py",
   "mimetype": "text/x-python",
   "name": "python",
   "nbconvert_exporter": "python",
   "pygments_lexer": "ipython3",
   "version": "3.8.6"
  },
  "orig_nbformat": 4
 },
 "nbformat": 4,
 "nbformat_minor": 2
}
